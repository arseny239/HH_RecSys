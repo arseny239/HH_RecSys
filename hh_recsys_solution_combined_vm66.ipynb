{
 "cells": [
  {
   "cell_type": "code",
   "execution_count": null,
   "metadata": {},
   "outputs": [],
   "source": [
    "#!pip install numpy implicit tqdm"
   ]
  },
  {
   "cell_type": "code",
   "execution_count": null,
   "metadata": {},
   "outputs": [],
   "source": [
    "#!pip install -U scikit-learn"
   ]
  },
  {
   "cell_type": "code",
   "execution_count": null,
   "metadata": {},
   "outputs": [],
   "source": [
    "#!pip install scikit-learn=1.0.2"
   ]
  },
  {
   "cell_type": "code",
   "execution_count": null,
   "metadata": {},
   "outputs": [],
   "source": [
    "!pip install -U torch"
   ]
  },
  {
   "cell_type": "code",
   "execution_count": null,
   "metadata": {},
   "outputs": [],
   "source": [
    "#!pip install polars==0.19.9 \n",
    "# !pip install -U polars"
   ]
  },
  {
   "cell_type": "code",
   "execution_count": null,
   "metadata": {},
   "outputs": [],
   "source": [
    "#!pip install ray"
   ]
  },
  {
   "cell_type": "code",
   "execution_count": null,
   "metadata": {},
   "outputs": [],
   "source": [
    "#!pip install recbole"
   ]
  },
  {
   "cell_type": "code",
   "execution_count": null,
   "metadata": {},
   "outputs": [],
   "source": [
    "#!pip install ipywidgets"
   ]
  },
  {
   "cell_type": "code",
   "execution_count": null,
   "metadata": {},
   "outputs": [],
   "source": [
    "#!pip install cloudpickle"
   ]
  },
  {
   "cell_type": "code",
   "execution_count": null,
   "metadata": {},
   "outputs": [],
   "source": [
    "#%pip install MetaUtils"
   ]
  },
  {
   "cell_type": "code",
   "execution_count": 1,
   "metadata": {},
   "outputs": [],
   "source": [
    "import pickle"
   ]
  },
  {
   "cell_type": "code",
   "execution_count": 2,
   "metadata": {},
   "outputs": [
    {
     "data": {
      "text/plain": [
       "array(['u_0', 'u_100', 'u_10000', ..., 'u_999994', 'u_999996', 'u_999999'],\n",
       "      dtype=object)"
      ]
     },
     "execution_count": 2,
     "metadata": {},
     "output_type": "execute_result"
    }
   ],
   "source": [
    "with open('list_good_users.pkl', 'rb') as f:\n",
    "    list_good_users = pickle.load(f)\n",
    "\n",
    "list_good_users"
   ]
  },
  {
   "cell_type": "code",
   "execution_count": 3,
   "metadata": {},
   "outputs": [
    {
     "data": {
      "text/plain": [
       "819386"
      ]
     },
     "execution_count": 3,
     "metadata": {},
     "output_type": "execute_result"
    }
   ],
   "source": [
    "len(list_good_users)"
   ]
  },
  {
   "cell_type": "code",
   "execution_count": 2,
   "metadata": {},
   "outputs": [],
   "source": [
    "import polars as pl\n",
    "import numpy as np\n",
    "from tqdm import tqdm\n",
    "#from tqdm.notebook import tqdm   # лучше вывод?\n",
    "from scipy.sparse import csr_matrix\n",
    "import implicit\n",
    "\n",
    "RANDOM_STATE = 42\n",
    "N_PREDICTIONS = 100\n",
    "DATASET_NAME = \"hh_recsys\""
   ]
  },
  {
   "cell_type": "code",
   "execution_count": 5,
   "metadata": {},
   "outputs": [
    {
     "name": "stdout",
     "output_type": "stream",
     "text": [
      "--------Version info---------\n",
      "Polars:               0.20.7\n",
      "Index type:           UInt32\n",
      "Platform:             Linux-5.10.0-21-amd64-x86_64-with-glibc2.31\n",
      "Python:               3.9.2 (default, Feb 28 2021, 17:03:44) \n",
      "[GCC 10.2.1 20210110]\n",
      "\n",
      "----Optional dependencies----\n",
      "adbc_driver_manager:  <not installed>\n",
      "cloudpickle:          <not installed>\n",
      "connectorx:           <not installed>\n",
      "deltalake:            <not installed>\n",
      "fsspec:               2023.6.0\n",
      "gevent:               <not installed>\n",
      "hvplot:               <not installed>\n",
      "matplotlib:           3.7.1\n",
      "numpy:                1.23.5\n",
      "openpyxl:             <not installed>\n",
      "pandas:               1.5.3\n",
      "pyarrow:              13.0.0\n",
      "pydantic:             1.10.9\n",
      "pyiceberg:            <not installed>\n",
      "pyxlsb:               <not installed>\n",
      "sqlalchemy:           2.0.20\n",
      "xlsx2csv:             <not installed>\n",
      "xlsxwriter:           <not installed>\n"
     ]
    }
   ],
   "source": [
    "pl.show_versions()"
   ]
  },
  {
   "cell_type": "code",
   "execution_count": 6,
   "metadata": {},
   "outputs": [
    {
     "name": "stdout",
     "output_type": "stream",
     "text": [
      "False\n"
     ]
    }
   ],
   "source": [
    "print(pl.__version__ == \"0.19.9\")"
   ]
  },
  {
   "cell_type": "code",
   "execution_count": 3,
   "metadata": {},
   "outputs": [
    {
     "name": "stderr",
     "output_type": "stream",
     "text": [
      "2024-02-10 03:03:14.602620: E external/local_xla/xla/stream_executor/cuda/cuda_dnn.cc:9261] Unable to register cuDNN factory: Attempting to register factory for plugin cuDNN when one has already been registered\n",
      "2024-02-10 03:03:14.602673: E external/local_xla/xla/stream_executor/cuda/cuda_fft.cc:607] Unable to register cuFFT factory: Attempting to register factory for plugin cuFFT when one has already been registered\n",
      "2024-02-10 03:03:14.603953: E external/local_xla/xla/stream_executor/cuda/cuda_blas.cc:1515] Unable to register cuBLAS factory: Attempting to register factory for plugin cuBLAS when one has already been registered\n",
      "2024-02-10 03:03:14.611260: I tensorflow/core/platform/cpu_feature_guard.cc:182] This TensorFlow binary is optimized to use available CPU instructions in performance-critical operations.\n",
      "To enable the following instructions: AVX2 AVX512F FMA, in other operations, rebuild TensorFlow with the appropriate compiler flags.\n",
      "2024-02-10 03:03:15.549358: W tensorflow/compiler/tf2tensorrt/utils/py_utils.cc:38] TF-TRT Warning: Could not find TensorRT\n"
     ]
    }
   ],
   "source": [
    "import datetime\n",
    "import os\n",
    "\n",
    "import torch\n",
    "from recbole.data.interaction import Interaction\n",
    "from recbole.config import Config\n",
    "from recbole.data import create_dataset, data_preparation\n",
    "from recbole.quick_start import run_recbole\n",
    "from recbole.quick_start.quick_start import load_data_and_model  \n",
    "from recbole.utils.case_study import full_sort_topk\n",
    "from recbole.utils.utils import get_trainer"
   ]
  },
  {
   "cell_type": "code",
   "execution_count": 10,
   "metadata": {},
   "outputs": [],
   "source": [
    "train = pl.read_parquet(\"./hh_recsys_train_hh.pq\", low_memory=True)\n",
    "test = pl.read_parquet(\"./hh_recsys_test_hh.pq\", low_memory=True)\n",
    "vacancies = pl.read_parquet(\"./hh_recsys_vacancies.pq\", low_memory=True)"
   ]
  },
  {
   "cell_type": "code",
   "execution_count": 4,
   "metadata": {},
   "outputs": [
    {
     "data": {
      "text/html": [
       "<div><style>\n",
       ".dataframe > thead > tr > th,\n",
       ".dataframe > tbody > tr > td {\n",
       "  text-align: right;\n",
       "  white-space: pre-wrap;\n",
       "}\n",
       "</style>\n",
       "<small>shape: (3_463_064, 5)</small><table border=\"1\" class=\"dataframe\"><thead><tr><th>user_id</th><th>session_id</th><th>vacancy_id</th><th>action_type</th><th>action_dt</th></tr><tr><td>str</td><td>str</td><td>list[str]</td><td>list[i64]</td><td>list[datetime[ns]]</td></tr></thead><tbody><tr><td>&quot;u_332060&quot;</td><td>&quot;s_28301374&quot;</td><td>[&quot;v_2571684&quot;, &quot;v_488179&quot;, … &quot;v_2633899&quot;]</td><td>[2, 2, … 2]</td><td>[2023-11-01 00:40:58.105, 2023-11-01 00:58:13.091, … 2023-11-01 01:35:54.456]</td></tr><tr><td>&quot;u_1057881&quot;</td><td>&quot;s_33868982&quot;</td><td>[&quot;v_665861&quot;]</td><td>[2]</td><td>[2023-11-01 00:23:51.452]</td></tr><tr><td>&quot;u_1036784&quot;</td><td>&quot;s_32474802&quot;</td><td>[&quot;v_2594840&quot;]</td><td>[2]</td><td>[2023-11-01 00:52:34.023]</td></tr><tr><td>&quot;u_786220&quot;</td><td>&quot;s_14060785&quot;</td><td>[&quot;v_1473781&quot;, &quot;v_1622905&quot;, … &quot;v_2394151&quot;]</td><td>[1, 2, … 2]</td><td>[2023-11-01 00:58:20.793, 2023-11-01 01:17:04.774, … 2023-11-01 01:17:40.149]</td></tr><tr><td>&quot;u_639152&quot;</td><td>&quot;s_23205986&quot;</td><td>[&quot;v_695738&quot;, &quot;v_22433&quot;, … &quot;v_1078110&quot;]</td><td>[2, 1, … 2]</td><td>[2023-11-01 01:14:20.828, 2023-11-01 00:54:08.636, … 2023-11-01 01:00:53.660]</td></tr><tr><td>&quot;u_456512&quot;</td><td>&quot;s_6053713&quot;</td><td>[&quot;v_2267837&quot;, &quot;v_1724756&quot;, &quot;v_990702&quot;]</td><td>[2, 2, 2]</td><td>[2023-11-01 01:37:09.157, 2023-11-01 01:15:55.336, 2023-11-01 01:40:32.097]</td></tr><tr><td>&quot;u_584261&quot;</td><td>&quot;s_11620144&quot;</td><td>[&quot;v_902380&quot;, &quot;v_1488750&quot;, … &quot;v_840395&quot;]</td><td>[2, 2, … 2]</td><td>[2023-11-01 01:09:49.508, 2023-11-01 01:25:00.774, … 2023-11-01 01:12:01.125]</td></tr><tr><td>&quot;u_733524&quot;</td><td>&quot;s_13468241&quot;</td><td>[&quot;v_1460424&quot;, &quot;v_996518&quot;, … &quot;v_2273974&quot;]</td><td>[2, 2, … 2]</td><td>[2023-11-01 02:12:43.970, 2023-11-01 02:50:33.283, … 2023-11-01 02:50:34.962]</td></tr><tr><td>&quot;u_1114237&quot;</td><td>&quot;s_23351853&quot;</td><td>[&quot;v_695101&quot;, &quot;v_154777&quot;]</td><td>[2, 2]</td><td>[2023-11-01 04:18:48.790, 2023-11-01 04:17:57.514]</td></tr><tr><td>&quot;u_407319&quot;</td><td>&quot;s_23566251&quot;</td><td>[&quot;v_268677&quot;, &quot;v_692096&quot;, … &quot;v_416576&quot;]</td><td>[2, 2, … 2]</td><td>[2023-11-01 04:56:41.605, 2023-11-01 04:57:49.326, … 2023-11-01 05:15:18.660]</td></tr><tr><td>&quot;u_443372&quot;</td><td>&quot;s_20399354&quot;</td><td>[&quot;v_1972205&quot;, &quot;v_2233339&quot;, … &quot;v_2519836&quot;]</td><td>[2, 2, … 2]</td><td>[2023-11-01 06:18:21.550, 2023-11-01 08:49:58.668, … 2023-11-01 06:58:56.089]</td></tr><tr><td>&quot;u_788103&quot;</td><td>&quot;s_12122393&quot;</td><td>[&quot;v_2028948&quot;, &quot;v_1762412&quot;, … &quot;v_1013309&quot;]</td><td>[3, 2, … 2]</td><td>[2023-11-01 06:45:14.204, 2023-11-01 06:36:56.425, … 2023-11-01 06:40:36]</td></tr><tr><td>&hellip;</td><td>&hellip;</td><td>&hellip;</td><td>&hellip;</td><td>&hellip;</td></tr><tr><td>&quot;u_291791&quot;</td><td>&quot;s_4344502&quot;</td><td>[&quot;v_2337147&quot;]</td><td>[2]</td><td>[2023-11-13 12:47:59.694]</td></tr><tr><td>&quot;u_1091028&quot;</td><td>&quot;s_9128636&quot;</td><td>[&quot;v_1412036&quot;]</td><td>[2]</td><td>[2023-11-13 12:55:08.484]</td></tr><tr><td>&quot;u_574056&quot;</td><td>&quot;s_26621660&quot;</td><td>[&quot;v_2655196&quot;]</td><td>[2]</td><td>[2023-11-13 16:28:12.989]</td></tr><tr><td>&quot;u_489124&quot;</td><td>&quot;s_32651757&quot;</td><td>[&quot;v_1975545&quot;]</td><td>[2]</td><td>[2023-11-13 13:54:31.150]</td></tr><tr><td>&quot;u_415800&quot;</td><td>&quot;s_25725261&quot;</td><td>[&quot;v_303627&quot;]</td><td>[2]</td><td>[2023-11-13 17:41:06.362]</td></tr><tr><td>&quot;u_54897&quot;</td><td>&quot;s_7396605&quot;</td><td>[&quot;v_2669097&quot;]</td><td>[2]</td><td>[2023-11-13 19:11:40.615]</td></tr><tr><td>&quot;u_999352&quot;</td><td>&quot;s_21061102&quot;</td><td>[&quot;v_499781&quot;]</td><td>[2]</td><td>[2023-11-13 19:17:43.379]</td></tr><tr><td>&quot;u_202578&quot;</td><td>&quot;s_8306993&quot;</td><td>[&quot;v_1499243&quot;]</td><td>[2]</td><td>[2023-11-13 21:01:41.813]</td></tr><tr><td>&quot;u_895531&quot;</td><td>&quot;s_7293998&quot;</td><td>[&quot;v_2041381&quot;]</td><td>[2]</td><td>[2023-11-14 17:51:22.169]</td></tr><tr><td>&quot;u_317562&quot;</td><td>&quot;s_9866576&quot;</td><td>[&quot;v_503192&quot;]</td><td>[2]</td><td>[2023-11-14 20:03:54.988]</td></tr><tr><td>&quot;u_225581&quot;</td><td>&quot;s_19724962&quot;</td><td>[&quot;v_2526106&quot;]</td><td>[2]</td><td>[2023-11-14 20:52:51.985]</td></tr><tr><td>&quot;u_1127158&quot;</td><td>&quot;s_9245205&quot;</td><td>[&quot;v_868748&quot;]</td><td>[2]</td><td>[2023-11-14 22:29:12.833]</td></tr></tbody></table></div>"
      ],
      "text/plain": [
       "shape: (3_463_064, 5)\n",
       "┌───────────┬────────────┬─────────────────────────────┬─────────────┬─────────────────────────────┐\n",
       "│ user_id   ┆ session_id ┆ vacancy_id                  ┆ action_type ┆ action_dt                   │\n",
       "│ ---       ┆ ---        ┆ ---                         ┆ ---         ┆ ---                         │\n",
       "│ str       ┆ str        ┆ list[str]                   ┆ list[i64]   ┆ list[datetime[ns]]          │\n",
       "╞═══════════╪════════════╪═════════════════════════════╪═════════════╪═════════════════════════════╡\n",
       "│ u_332060  ┆ s_28301374 ┆ [\"v_2571684\", \"v_488179\", … ┆ [2, 2, … 2] ┆ [2023-11-01 00:40:58.105,   │\n",
       "│           ┆            ┆ \"v_2…                       ┆             ┆ 2023-1…                     │\n",
       "│ u_1057881 ┆ s_33868982 ┆ [\"v_665861\"]                ┆ [2]         ┆ [2023-11-01 00:23:51.452]   │\n",
       "│ u_1036784 ┆ s_32474802 ┆ [\"v_2594840\"]               ┆ [2]         ┆ [2023-11-01 00:52:34.023]   │\n",
       "│ u_786220  ┆ s_14060785 ┆ [\"v_1473781\", \"v_1622905\",  ┆ [1, 2, … 2] ┆ [2023-11-01 00:58:20.793,   │\n",
       "│           ┆            ┆ … \"v_…                      ┆             ┆ 2023-1…                     │\n",
       "│ …         ┆ …          ┆ …                           ┆ …           ┆ …                           │\n",
       "│ u_895531  ┆ s_7293998  ┆ [\"v_2041381\"]               ┆ [2]         ┆ [2023-11-14 17:51:22.169]   │\n",
       "│ u_317562  ┆ s_9866576  ┆ [\"v_503192\"]                ┆ [2]         ┆ [2023-11-14 20:03:54.988]   │\n",
       "│ u_225581  ┆ s_19724962 ┆ [\"v_2526106\"]               ┆ [2]         ┆ [2023-11-14 20:52:51.985]   │\n",
       "│ u_1127158 ┆ s_9245205  ┆ [\"v_868748\"]                ┆ [2]         ┆ [2023-11-14 22:29:12.833]   │\n",
       "└───────────┴────────────┴─────────────────────────────┴─────────────┴─────────────────────────────┘"
      ]
     },
     "execution_count": 4,
     "metadata": {},
     "output_type": "execute_result"
    }
   ],
   "source": [
    "train"
   ]
  },
  {
   "cell_type": "code",
   "execution_count": 11,
   "metadata": {},
   "outputs": [],
   "source": [
    "train = train.filter(pl.col(\"vacancy_id\").list.len()<52)"
   ]
  },
  {
   "cell_type": "code",
   "execution_count": 28,
   "metadata": {},
   "outputs": [],
   "source": [
    "# train = train.filter(pl.col(\"user_id\").is_in(list_good_users.tolist()))"
   ]
  },
  {
   "cell_type": "code",
   "execution_count": 5,
   "metadata": {},
   "outputs": [
    {
     "data": {
      "text/html": [
       "<div><style>\n",
       ".dataframe > thead > tr > th,\n",
       ".dataframe > tbody > tr > td {\n",
       "  text-align: right;\n",
       "  white-space: pre-wrap;\n",
       "}\n",
       "</style>\n",
       "<small>shape: (1, 1)</small><table border=\"1\" class=\"dataframe\"><thead><tr><th>vacancy_id</th></tr><tr><td>f64</td></tr></thead><tbody><tr><td>5.142407</td></tr></tbody></table></div>"
      ],
      "text/plain": [
       "shape: (1, 1)\n",
       "┌────────────┐\n",
       "│ vacancy_id │\n",
       "│ ---        │\n",
       "│ f64        │\n",
       "╞════════════╡\n",
       "│ 5.142407   │\n",
       "└────────────┘"
      ]
     },
     "execution_count": 5,
     "metadata": {},
     "output_type": "execute_result"
    }
   ],
   "source": [
    "train.select(pl.col(\"vacancy_id\").list.len().mean())"
   ]
  },
  {
   "cell_type": "code",
   "execution_count": 6,
   "metadata": {},
   "outputs": [
    {
     "data": {
      "text/html": [
       "<div><style>\n",
       ".dataframe > thead > tr > th,\n",
       ".dataframe > tbody > tr > td {\n",
       "  text-align: right;\n",
       "  white-space: pre-wrap;\n",
       "}\n",
       "</style>\n",
       "<small>shape: (3_421_670, 5)</small><table border=\"1\" class=\"dataframe\"><thead><tr><th>user_id</th><th>session_id</th><th>vacancy_id</th><th>action_type</th><th>action_dt</th></tr><tr><td>str</td><td>str</td><td>list[str]</td><td>list[i64]</td><td>list[datetime[ns]]</td></tr></thead><tbody><tr><td>&quot;u_1057881&quot;</td><td>&quot;s_33868982&quot;</td><td>[&quot;v_665861&quot;]</td><td>[2]</td><td>[2023-11-01 00:23:51.452]</td></tr><tr><td>&quot;u_1036784&quot;</td><td>&quot;s_32474802&quot;</td><td>[&quot;v_2594840&quot;]</td><td>[2]</td><td>[2023-11-01 00:52:34.023]</td></tr><tr><td>&quot;u_786220&quot;</td><td>&quot;s_14060785&quot;</td><td>[&quot;v_1473781&quot;, &quot;v_1622905&quot;, … &quot;v_2394151&quot;]</td><td>[1, 2, … 2]</td><td>[2023-11-01 00:58:20.793, 2023-11-01 01:17:04.774, … 2023-11-01 01:17:40.149]</td></tr><tr><td>&quot;u_639152&quot;</td><td>&quot;s_23205986&quot;</td><td>[&quot;v_695738&quot;, &quot;v_22433&quot;, … &quot;v_1078110&quot;]</td><td>[2, 1, … 2]</td><td>[2023-11-01 01:14:20.828, 2023-11-01 00:54:08.636, … 2023-11-01 01:00:53.660]</td></tr><tr><td>&quot;u_456512&quot;</td><td>&quot;s_6053713&quot;</td><td>[&quot;v_2267837&quot;, &quot;v_1724756&quot;, &quot;v_990702&quot;]</td><td>[2, 2, 2]</td><td>[2023-11-01 01:37:09.157, 2023-11-01 01:15:55.336, 2023-11-01 01:40:32.097]</td></tr><tr><td>&quot;u_584261&quot;</td><td>&quot;s_11620144&quot;</td><td>[&quot;v_902380&quot;, &quot;v_1488750&quot;, … &quot;v_840395&quot;]</td><td>[2, 2, … 2]</td><td>[2023-11-01 01:09:49.508, 2023-11-01 01:25:00.774, … 2023-11-01 01:12:01.125]</td></tr><tr><td>&quot;u_733524&quot;</td><td>&quot;s_13468241&quot;</td><td>[&quot;v_1460424&quot;, &quot;v_996518&quot;, … &quot;v_2273974&quot;]</td><td>[2, 2, … 2]</td><td>[2023-11-01 02:12:43.970, 2023-11-01 02:50:33.283, … 2023-11-01 02:50:34.962]</td></tr><tr><td>&quot;u_1114237&quot;</td><td>&quot;s_23351853&quot;</td><td>[&quot;v_695101&quot;, &quot;v_154777&quot;]</td><td>[2, 2]</td><td>[2023-11-01 04:18:48.790, 2023-11-01 04:17:57.514]</td></tr><tr><td>&quot;u_407319&quot;</td><td>&quot;s_23566251&quot;</td><td>[&quot;v_268677&quot;, &quot;v_692096&quot;, … &quot;v_416576&quot;]</td><td>[2, 2, … 2]</td><td>[2023-11-01 04:56:41.605, 2023-11-01 04:57:49.326, … 2023-11-01 05:15:18.660]</td></tr><tr><td>&quot;u_443372&quot;</td><td>&quot;s_20399354&quot;</td><td>[&quot;v_1972205&quot;, &quot;v_2233339&quot;, … &quot;v_2519836&quot;]</td><td>[2, 2, … 2]</td><td>[2023-11-01 06:18:21.550, 2023-11-01 08:49:58.668, … 2023-11-01 06:58:56.089]</td></tr><tr><td>&quot;u_788103&quot;</td><td>&quot;s_12122393&quot;</td><td>[&quot;v_2028948&quot;, &quot;v_1762412&quot;, … &quot;v_1013309&quot;]</td><td>[3, 2, … 2]</td><td>[2023-11-01 06:45:14.204, 2023-11-01 06:36:56.425, … 2023-11-01 06:40:36]</td></tr><tr><td>&quot;u_284430&quot;</td><td>&quot;s_13684730&quot;</td><td>[&quot;v_1650175&quot;]</td><td>[2]</td><td>[2023-11-01 07:49:23.547]</td></tr><tr><td>&hellip;</td><td>&hellip;</td><td>&hellip;</td><td>&hellip;</td><td>&hellip;</td></tr><tr><td>&quot;u_291791&quot;</td><td>&quot;s_4344502&quot;</td><td>[&quot;v_2337147&quot;]</td><td>[2]</td><td>[2023-11-13 12:47:59.694]</td></tr><tr><td>&quot;u_1091028&quot;</td><td>&quot;s_9128636&quot;</td><td>[&quot;v_1412036&quot;]</td><td>[2]</td><td>[2023-11-13 12:55:08.484]</td></tr><tr><td>&quot;u_574056&quot;</td><td>&quot;s_26621660&quot;</td><td>[&quot;v_2655196&quot;]</td><td>[2]</td><td>[2023-11-13 16:28:12.989]</td></tr><tr><td>&quot;u_489124&quot;</td><td>&quot;s_32651757&quot;</td><td>[&quot;v_1975545&quot;]</td><td>[2]</td><td>[2023-11-13 13:54:31.150]</td></tr><tr><td>&quot;u_415800&quot;</td><td>&quot;s_25725261&quot;</td><td>[&quot;v_303627&quot;]</td><td>[2]</td><td>[2023-11-13 17:41:06.362]</td></tr><tr><td>&quot;u_54897&quot;</td><td>&quot;s_7396605&quot;</td><td>[&quot;v_2669097&quot;]</td><td>[2]</td><td>[2023-11-13 19:11:40.615]</td></tr><tr><td>&quot;u_999352&quot;</td><td>&quot;s_21061102&quot;</td><td>[&quot;v_499781&quot;]</td><td>[2]</td><td>[2023-11-13 19:17:43.379]</td></tr><tr><td>&quot;u_202578&quot;</td><td>&quot;s_8306993&quot;</td><td>[&quot;v_1499243&quot;]</td><td>[2]</td><td>[2023-11-13 21:01:41.813]</td></tr><tr><td>&quot;u_895531&quot;</td><td>&quot;s_7293998&quot;</td><td>[&quot;v_2041381&quot;]</td><td>[2]</td><td>[2023-11-14 17:51:22.169]</td></tr><tr><td>&quot;u_317562&quot;</td><td>&quot;s_9866576&quot;</td><td>[&quot;v_503192&quot;]</td><td>[2]</td><td>[2023-11-14 20:03:54.988]</td></tr><tr><td>&quot;u_225581&quot;</td><td>&quot;s_19724962&quot;</td><td>[&quot;v_2526106&quot;]</td><td>[2]</td><td>[2023-11-14 20:52:51.985]</td></tr><tr><td>&quot;u_1127158&quot;</td><td>&quot;s_9245205&quot;</td><td>[&quot;v_868748&quot;]</td><td>[2]</td><td>[2023-11-14 22:29:12.833]</td></tr></tbody></table></div>"
      ],
      "text/plain": [
       "shape: (3_421_670, 5)\n",
       "┌───────────┬────────────┬─────────────────────────────┬─────────────┬─────────────────────────────┐\n",
       "│ user_id   ┆ session_id ┆ vacancy_id                  ┆ action_type ┆ action_dt                   │\n",
       "│ ---       ┆ ---        ┆ ---                         ┆ ---         ┆ ---                         │\n",
       "│ str       ┆ str        ┆ list[str]                   ┆ list[i64]   ┆ list[datetime[ns]]          │\n",
       "╞═══════════╪════════════╪═════════════════════════════╪═════════════╪═════════════════════════════╡\n",
       "│ u_1057881 ┆ s_33868982 ┆ [\"v_665861\"]                ┆ [2]         ┆ [2023-11-01 00:23:51.452]   │\n",
       "│ u_1036784 ┆ s_32474802 ┆ [\"v_2594840\"]               ┆ [2]         ┆ [2023-11-01 00:52:34.023]   │\n",
       "│ u_786220  ┆ s_14060785 ┆ [\"v_1473781\", \"v_1622905\",  ┆ [1, 2, … 2] ┆ [2023-11-01 00:58:20.793,   │\n",
       "│           ┆            ┆ … \"v_…                      ┆             ┆ 2023-1…                     │\n",
       "│ u_639152  ┆ s_23205986 ┆ [\"v_695738\", \"v_22433\", …   ┆ [2, 1, … 2] ┆ [2023-11-01 01:14:20.828,   │\n",
       "│           ┆            ┆ \"v_107…                     ┆             ┆ 2023-1…                     │\n",
       "│ …         ┆ …          ┆ …                           ┆ …           ┆ …                           │\n",
       "│ u_895531  ┆ s_7293998  ┆ [\"v_2041381\"]               ┆ [2]         ┆ [2023-11-14 17:51:22.169]   │\n",
       "│ u_317562  ┆ s_9866576  ┆ [\"v_503192\"]                ┆ [2]         ┆ [2023-11-14 20:03:54.988]   │\n",
       "│ u_225581  ┆ s_19724962 ┆ [\"v_2526106\"]               ┆ [2]         ┆ [2023-11-14 20:52:51.985]   │\n",
       "│ u_1127158 ┆ s_9245205  ┆ [\"v_868748\"]                ┆ [2]         ┆ [2023-11-14 22:29:12.833]   │\n",
       "└───────────┴────────────┴─────────────────────────────┴─────────────┴─────────────────────────────┘"
      ]
     },
     "execution_count": 6,
     "metadata": {},
     "output_type": "execute_result"
    }
   ],
   "source": [
    "train"
   ]
  },
  {
   "cell_type": "code",
   "execution_count": 36,
   "metadata": {},
   "outputs": [
    {
     "data": {
      "text/html": [
       "<div><style>\n",
       ".dataframe > thead > tr > th,\n",
       ".dataframe > tbody > tr > td {\n",
       "  text-align: right;\n",
       "  white-space: pre-wrap;\n",
       "}\n",
       "</style>\n",
       "<small>shape: (83_189, 6)</small><table border=\"1\" class=\"dataframe\"><thead><tr><th>user_id</th><th>session_id</th><th>vacancy_id</th><th>action_type</th><th>action_dt</th><th>predictions</th></tr><tr><td>str</td><td>str</td><td>list[str]</td><td>list[i64]</td><td>list[datetime[ns]]</td><td>list[str]</td></tr></thead><tbody><tr><td>&quot;u_482520&quot;</td><td>&quot;s_25018731&quot;</td><td>[&quot;v_2597196&quot;, &quot;v_1223061&quot;, &quot;v_1223061&quot;]</td><td>[2, 2, 1]</td><td>[2023-11-19 12:03:13.089, 2023-11-19 12:03:30.396, 2023-11-19 12:05:03.473]</td><td>[&quot;v_507544&quot;, &quot;v_2483238&quot;, … &quot;v_394838&quot;]</td></tr><tr><td>&quot;u_582132&quot;</td><td>&quot;s_481216&quot;</td><td>[&quot;v_470400&quot;, &quot;v_470400&quot;, &quot;v_1530783&quot;]</td><td>[2, 1, 2]</td><td>[2023-11-21 15:39:47.981, 2023-11-21 15:43:57.620, 2023-11-21 15:44:37.982]</td><td>[&quot;v_1748350&quot;, &quot;v_1693409&quot;, … &quot;v_963346&quot;]</td></tr><tr><td>&quot;u_212584&quot;</td><td>&quot;s_16918781&quot;</td><td>[&quot;v_1572055&quot;, &quot;v_1572055&quot;, … &quot;v_1329494&quot;]</td><td>[2, 3, … 1]</td><td>[2023-11-16 08:41:47.031, 2023-11-16 08:45:21.403, … 2023-11-16 09:05:27.379]</td><td>[&quot;v_2075726&quot;, &quot;v_665187&quot;, … &quot;v_1960845&quot;]</td></tr><tr><td>&quot;u_425177&quot;</td><td>&quot;s_17505104&quot;</td><td>[&quot;v_1375331&quot;, &quot;v_1922852&quot;]</td><td>[2, 2]</td><td>[2023-11-17 12:42:18.513, 2023-11-17 12:43:52.744]</td><td>[&quot;v_1889365&quot;, &quot;v_638883&quot;, … &quot;v_2715616&quot;]</td></tr><tr><td>&quot;u_700997&quot;</td><td>&quot;s_15528830&quot;</td><td>[&quot;v_2152997&quot;, &quot;v_2152997&quot;, &quot;v_1217630&quot;]</td><td>[2, 1, 2]</td><td>[2023-11-16 17:22:53.530, 2023-11-16 17:23:19.885, 2023-11-16 17:23:33.472]</td><td>[&quot;v_2125504&quot;, &quot;v_1967086&quot;, … &quot;v_1677861&quot;]</td></tr><tr><td>&quot;u_687201&quot;</td><td>&quot;s_11187326&quot;</td><td>[&quot;v_2602959&quot;, &quot;v_549337&quot;, … &quot;v_212060&quot;]</td><td>[2, 2, … 1]</td><td>[2023-11-21 14:41:30.546, 2023-11-21 15:00:25.506, … 2023-11-21 15:24:56.271]</td><td>[&quot;v_1503324&quot;, &quot;v_915223&quot;, … &quot;v_2503802&quot;]</td></tr><tr><td>&quot;u_573219&quot;</td><td>&quot;s_27394215&quot;</td><td>[&quot;v_1836184&quot;, &quot;v_2733253&quot;, … &quot;v_2297339&quot;]</td><td>[1, 2, … 2]</td><td>[2023-11-21 18:48:43.424, 2023-11-21 18:49:12.552, … 2023-11-21 19:48:55.704]</td><td>[&quot;v_2234498&quot;, &quot;v_2171895&quot;, … &quot;v_1016980&quot;]</td></tr><tr><td>&quot;u_1082782&quot;</td><td>&quot;s_30341164&quot;</td><td>[&quot;v_1026036&quot;, &quot;v_1026036&quot;, … &quot;v_206700&quot;]</td><td>[2, 1, … 2]</td><td>[2023-11-17 02:54:19.561, 2023-11-17 02:54:50.486, … 2023-11-17 03:21:22.008]</td><td>[&quot;v_1949840&quot;, &quot;v_1492438&quot;, … &quot;v_364150&quot;]</td></tr><tr><td>&quot;u_81444&quot;</td><td>&quot;s_1909964&quot;</td><td>[&quot;v_2497384&quot;, &quot;v_1480870&quot;, … &quot;v_1500697&quot;]</td><td>[2, 2, … 1]</td><td>[2023-11-15 12:38:34.579, 2023-11-15 13:03:41.360, … 2023-11-15 13:05:15.916]</td><td>[&quot;v_1949840&quot;, &quot;v_987212&quot;, … &quot;v_900375&quot;]</td></tr><tr><td>&quot;u_858357&quot;</td><td>&quot;s_12463318&quot;</td><td>[&quot;v_1085881&quot;, &quot;v_522338&quot;, … &quot;v_1776027&quot;]</td><td>[2, 2, … 2]</td><td>[2023-11-18 11:58:33.953, 2023-11-18 12:01:09.562, … 2023-11-18 14:39:24.255]</td><td>[&quot;v_1889365&quot;, &quot;v_770540&quot;, … &quot;v_1668303&quot;]</td></tr><tr><td>&quot;u_136080&quot;</td><td>&quot;s_25066108&quot;</td><td>[&quot;v_1167642&quot;, &quot;v_613829&quot;, … &quot;v_2061106&quot;]</td><td>[2, 2, … 2]</td><td>[2023-11-21 05:09:14.167, 2023-11-21 05:10:02.996, … 2023-11-21 05:17:03.842]</td><td>[&quot;v_781565&quot;, &quot;v_685098&quot;, … &quot;v_1737397&quot;]</td></tr><tr><td>&quot;u_361893&quot;</td><td>&quot;s_12897073&quot;</td><td>[&quot;v_2188274&quot;, &quot;v_941470&quot;, … &quot;v_450701&quot;]</td><td>[2, 2, … 2]</td><td>[2023-11-21 16:03:36.003, 2023-11-21 16:04:07.515, … 2023-11-21 16:24:26.163]</td><td>[&quot;v_1037567&quot;, &quot;v_1519786&quot;, … &quot;v_2356878&quot;]</td></tr><tr><td>&hellip;</td><td>&hellip;</td><td>&hellip;</td><td>&hellip;</td><td>&hellip;</td><td>&hellip;</td></tr><tr><td>&quot;u_27420&quot;</td><td>&quot;s_15647766&quot;</td><td>[&quot;v_779522&quot;, &quot;v_32918&quot;, … &quot;v_2382404&quot;]</td><td>[2, 2, … 2]</td><td>[2023-11-15 09:46:24.682, 2023-11-15 09:46:52.048, … 2023-11-15 09:55:07.684]</td><td>[&quot;v_1618094&quot;, &quot;v_1625951&quot;, … &quot;v_2561863&quot;]</td></tr><tr><td>&quot;u_101925&quot;</td><td>&quot;s_9312767&quot;</td><td>[&quot;v_899404&quot;, &quot;v_2009859&quot;]</td><td>[2, 2]</td><td>[2023-11-17 10:54:18.637, 2023-11-17 12:19:55.239]</td><td>[&quot;v_265605&quot;, &quot;v_639838&quot;, … &quot;v_1064072&quot;]</td></tr><tr><td>&quot;u_105702&quot;</td><td>&quot;s_27857907&quot;</td><td>[&quot;v_473549&quot;, &quot;v_1137408&quot;]</td><td>[2, 2]</td><td>[2023-11-18 09:25:22.487, 2023-11-18 09:27:10.980]</td><td>[&quot;v_2399438&quot;, &quot;v_2371445&quot;, … &quot;v_2101533&quot;]</td></tr><tr><td>&quot;u_485573&quot;</td><td>&quot;s_19643559&quot;</td><td>[&quot;v_1032129&quot;, &quot;v_1340903&quot;, &quot;v_1032129&quot;]</td><td>[2, 2, 2]</td><td>[2023-11-21 14:44:58.274, 2023-11-21 15:11:34.645, 2023-11-21 15:11:56.029]</td><td>[&quot;v_578943&quot;, &quot;v_808704&quot;, … &quot;v_1960538&quot;]</td></tr><tr><td>&quot;u_737688&quot;</td><td>&quot;s_5225203&quot;</td><td>[&quot;v_616873&quot;, &quot;v_2610004&quot;]</td><td>[2, 2]</td><td>[2023-11-20 12:37:56.056, 2023-11-20 12:41:23.243]</td><td>[&quot;v_1076722&quot;, &quot;v_522403&quot;, … &quot;v_470461&quot;]</td></tr><tr><td>&quot;u_366097&quot;</td><td>&quot;s_20110640&quot;</td><td>[&quot;v_307100&quot;, &quot;v_2040988&quot;, … &quot;v_2586611&quot;]</td><td>[2, 2, … 1]</td><td>[2023-11-17 15:31:42.944, 2023-11-17 15:32:01.187, … 2023-11-17 15:36:51.248]</td><td>[&quot;v_2710120&quot;, &quot;v_1684461&quot;, … &quot;v_2484559&quot;]</td></tr><tr><td>&quot;u_995221&quot;</td><td>&quot;s_21000652&quot;</td><td>[&quot;v_528661&quot;, &quot;v_528661&quot;, … &quot;v_199518&quot;]</td><td>[2, 1, … 2]</td><td>[2023-11-15 14:00:32.515, 2023-11-15 14:01:08.165, … 2023-11-15 14:04:31.812]</td><td>[&quot;v_133042&quot;, &quot;v_630117&quot;, … &quot;v_1652907&quot;]</td></tr><tr><td>&quot;u_499368&quot;</td><td>&quot;s_19158589&quot;</td><td>[&quot;v_1716634&quot;, &quot;v_2232327&quot;, … &quot;v_1993650&quot;]</td><td>[2, 2, … 2]</td><td>[2023-11-18 03:15:15.530, 2023-11-18 03:19:20.971, … 2023-11-18 03:35:12.020]</td><td>[&quot;v_2313196&quot;, &quot;v_388717&quot;, … &quot;v_606067&quot;]</td></tr><tr><td>&quot;u_1084868&quot;</td><td>&quot;s_24756162&quot;</td><td>[&quot;v_395706&quot;, &quot;v_2405231&quot;]</td><td>[2, 2]</td><td>[2023-11-15 18:06:16.550, 2023-11-15 18:07:18.447]</td><td>[&quot;v_2575578&quot;, &quot;v_643994&quot;, … &quot;v_1673593&quot;]</td></tr><tr><td>&quot;u_1138032&quot;</td><td>&quot;s_25291467&quot;</td><td>[&quot;v_1213925&quot;, &quot;v_1213925&quot;, … &quot;v_2359832&quot;]</td><td>[2, 1, … 1]</td><td>[2023-11-19 23:19:44.092, 2023-11-19 23:27:22.739, … 2023-11-19 23:27:51.152]</td><td>[&quot;v_1651492&quot;, &quot;v_788622&quot;, … &quot;v_21223&quot;]</td></tr><tr><td>&quot;u_608102&quot;</td><td>&quot;s_18813020&quot;</td><td>[&quot;v_933773&quot;, &quot;v_933773&quot;, … &quot;v_2667466&quot;]</td><td>[3, 2, … 2]</td><td>[2023-11-16 15:40:09.408, 2023-11-16 15:40:09.448, … 2023-11-16 16:18:05.927]</td><td>[&quot;v_1708823&quot;, &quot;v_1146651&quot;, … &quot;v_1051800&quot;]</td></tr><tr><td>&quot;u_847738&quot;</td><td>&quot;s_7662913&quot;</td><td>[&quot;v_875568&quot;, &quot;v_2677852&quot;, … &quot;v_1462102&quot;]</td><td>[2, 2, … 2]</td><td>[2023-11-17 13:34:03.386, 2023-11-17 13:34:57.675, … 2023-11-17 14:27:46.817]</td><td>[&quot;v_26983&quot;, &quot;v_1524694&quot;, … &quot;v_880621&quot;]</td></tr></tbody></table></div>"
      ],
      "text/plain": [
       "shape: (83_189, 6)\n",
       "┌───────────┬────────────┬────────────────┬─────────────┬─────────────────────────┬────────────────┐\n",
       "│ user_id   ┆ session_id ┆ vacancy_id     ┆ action_type ┆ action_dt               ┆ predictions    │\n",
       "│ ---       ┆ ---        ┆ ---            ┆ ---         ┆ ---                     ┆ ---            │\n",
       "│ str       ┆ str        ┆ list[str]      ┆ list[i64]   ┆ list[datetime[ns]]      ┆ list[str]      │\n",
       "╞═══════════╪════════════╪════════════════╪═════════════╪═════════════════════════╪════════════════╡\n",
       "│ u_482520  ┆ s_25018731 ┆ [\"v_2597196\",  ┆ [2, 2, 1]   ┆ [2023-11-19             ┆ [\"v_507544\",   │\n",
       "│           ┆            ┆ \"v_1223061\",   ┆             ┆ 12:03:13.089, 2023-1…   ┆ \"v_2483238\", … │\n",
       "│           ┆            ┆ \"v_12…         ┆             ┆                         ┆ \"v_3…          │\n",
       "│ u_582132  ┆ s_481216   ┆ [\"v_470400\",   ┆ [2, 1, 2]   ┆ [2023-11-21             ┆ [\"v_1748350\",  │\n",
       "│           ┆            ┆ \"v_470400\",    ┆             ┆ 15:39:47.981, 2023-1…   ┆ \"v_1693409\", … │\n",
       "│           ┆            ┆ \"v_1530…       ┆             ┆                         ┆ \"v_…           │\n",
       "│ u_212584  ┆ s_16918781 ┆ [\"v_1572055\",  ┆ [2, 3, … 1] ┆ [2023-11-16             ┆ [\"v_2075726\",  │\n",
       "│           ┆            ┆ \"v_1572055\", … ┆             ┆ 08:41:47.031, 2023-1…   ┆ \"v_665187\", …  │\n",
       "│           ┆            ┆ \"v_…           ┆             ┆                         ┆ \"v_1…          │\n",
       "│ u_425177  ┆ s_17505104 ┆ [\"v_1375331\",  ┆ [2, 2]      ┆ [2023-11-17             ┆ [\"v_1889365\",  │\n",
       "│           ┆            ┆ \"v_1922852\"]   ┆             ┆ 12:42:18.513, 2023-1…   ┆ \"v_638883\", …  │\n",
       "│           ┆            ┆                ┆             ┆                         ┆ \"v_2…          │\n",
       "│ …         ┆ …          ┆ …              ┆ …           ┆ …                       ┆ …              │\n",
       "│ u_1084868 ┆ s_24756162 ┆ [\"v_395706\",   ┆ [2, 2]      ┆ [2023-11-15             ┆ [\"v_2575578\",  │\n",
       "│           ┆            ┆ \"v_2405231\"]   ┆             ┆ 18:06:16.550, 2023-1…   ┆ \"v_643994\", …  │\n",
       "│           ┆            ┆                ┆             ┆                         ┆ \"v_1…          │\n",
       "│ u_1138032 ┆ s_25291467 ┆ [\"v_1213925\",  ┆ [2, 1, … 1] ┆ [2023-11-19             ┆ [\"v_1651492\",  │\n",
       "│           ┆            ┆ \"v_1213925\", … ┆             ┆ 23:19:44.092, 2023-1…   ┆ \"v_788622\", …  │\n",
       "│           ┆            ┆ \"v_…           ┆             ┆                         ┆ \"v_2…          │\n",
       "│ u_608102  ┆ s_18813020 ┆ [\"v_933773\",   ┆ [3, 2, … 2] ┆ [2023-11-16             ┆ [\"v_1708823\",  │\n",
       "│           ┆            ┆ \"v_933773\", …  ┆             ┆ 15:40:09.408, 2023-1…   ┆ \"v_1146651\", … │\n",
       "│           ┆            ┆ \"v_26…         ┆             ┆                         ┆ \"v_…           │\n",
       "│ u_847738  ┆ s_7662913  ┆ [\"v_875568\",   ┆ [2, 2, … 2] ┆ [2023-11-17             ┆ [\"v_26983\",    │\n",
       "│           ┆            ┆ \"v_2677852\", … ┆             ┆ 13:34:03.386, 2023-1…   ┆ \"v_1524694\", … │\n",
       "│           ┆            ┆ \"v_1…          ┆             ┆                         ┆ \"v_88…         │\n",
       "└───────────┴────────────┴────────────────┴─────────────┴─────────────────────────┴────────────────┘"
      ]
     },
     "execution_count": 36,
     "metadata": {},
     "output_type": "execute_result"
    }
   ],
   "source": [
    "test"
   ]
  },
  {
   "cell_type": "code",
   "execution_count": 12,
   "metadata": {},
   "outputs": [],
   "source": [
    "train = train.vstack(test)"
   ]
  },
  {
   "cell_type": "code",
   "execution_count": 37,
   "metadata": {},
   "outputs": [
    {
     "data": {
      "text/html": [
       "<div><style>\n",
       ".dataframe > thead > tr > th,\n",
       ".dataframe > tbody > tr > td {\n",
       "  text-align: right;\n",
       "  white-space: pre-wrap;\n",
       "}\n",
       "</style>\n",
       "<small>shape: (3_504_859, 5)</small><table border=\"1\" class=\"dataframe\"><thead><tr><th>user_id</th><th>session_id</th><th>vacancy_id</th><th>action_type</th><th>action_dt</th></tr><tr><td>str</td><td>str</td><td>list[str]</td><td>list[i64]</td><td>list[datetime[ns]]</td></tr></thead><tbody><tr><td>&quot;u_1057881&quot;</td><td>&quot;s_33868982&quot;</td><td>[&quot;v_665861&quot;]</td><td>[2]</td><td>[2023-11-01 00:23:51.452]</td></tr><tr><td>&quot;u_1036784&quot;</td><td>&quot;s_32474802&quot;</td><td>[&quot;v_2594840&quot;]</td><td>[2]</td><td>[2023-11-01 00:52:34.023]</td></tr><tr><td>&quot;u_786220&quot;</td><td>&quot;s_14060785&quot;</td><td>[&quot;v_1473781&quot;, &quot;v_1622905&quot;, … &quot;v_2394151&quot;]</td><td>[1, 2, … 2]</td><td>[2023-11-01 00:58:20.793, 2023-11-01 01:17:04.774, … 2023-11-01 01:17:40.149]</td></tr><tr><td>&quot;u_639152&quot;</td><td>&quot;s_23205986&quot;</td><td>[&quot;v_695738&quot;, &quot;v_22433&quot;, … &quot;v_1078110&quot;]</td><td>[2, 1, … 2]</td><td>[2023-11-01 01:14:20.828, 2023-11-01 00:54:08.636, … 2023-11-01 01:00:53.660]</td></tr><tr><td>&quot;u_456512&quot;</td><td>&quot;s_6053713&quot;</td><td>[&quot;v_2267837&quot;, &quot;v_1724756&quot;, &quot;v_990702&quot;]</td><td>[2, 2, 2]</td><td>[2023-11-01 01:37:09.157, 2023-11-01 01:15:55.336, 2023-11-01 01:40:32.097]</td></tr><tr><td>&quot;u_584261&quot;</td><td>&quot;s_11620144&quot;</td><td>[&quot;v_902380&quot;, &quot;v_1488750&quot;, … &quot;v_840395&quot;]</td><td>[2, 2, … 2]</td><td>[2023-11-01 01:09:49.508, 2023-11-01 01:25:00.774, … 2023-11-01 01:12:01.125]</td></tr><tr><td>&quot;u_733524&quot;</td><td>&quot;s_13468241&quot;</td><td>[&quot;v_1460424&quot;, &quot;v_996518&quot;, … &quot;v_2273974&quot;]</td><td>[2, 2, … 2]</td><td>[2023-11-01 02:12:43.970, 2023-11-01 02:50:33.283, … 2023-11-01 02:50:34.962]</td></tr><tr><td>&quot;u_1114237&quot;</td><td>&quot;s_23351853&quot;</td><td>[&quot;v_695101&quot;, &quot;v_154777&quot;]</td><td>[2, 2]</td><td>[2023-11-01 04:18:48.790, 2023-11-01 04:17:57.514]</td></tr><tr><td>&quot;u_407319&quot;</td><td>&quot;s_23566251&quot;</td><td>[&quot;v_268677&quot;, &quot;v_692096&quot;, … &quot;v_416576&quot;]</td><td>[2, 2, … 2]</td><td>[2023-11-01 04:56:41.605, 2023-11-01 04:57:49.326, … 2023-11-01 05:15:18.660]</td></tr><tr><td>&quot;u_443372&quot;</td><td>&quot;s_20399354&quot;</td><td>[&quot;v_1972205&quot;, &quot;v_2233339&quot;, … &quot;v_2519836&quot;]</td><td>[2, 2, … 2]</td><td>[2023-11-01 06:18:21.550, 2023-11-01 08:49:58.668, … 2023-11-01 06:58:56.089]</td></tr><tr><td>&quot;u_788103&quot;</td><td>&quot;s_12122393&quot;</td><td>[&quot;v_2028948&quot;, &quot;v_1762412&quot;, … &quot;v_1013309&quot;]</td><td>[3, 2, … 2]</td><td>[2023-11-01 06:45:14.204, 2023-11-01 06:36:56.425, … 2023-11-01 06:40:36]</td></tr><tr><td>&quot;u_284430&quot;</td><td>&quot;s_13684730&quot;</td><td>[&quot;v_1650175&quot;]</td><td>[2]</td><td>[2023-11-01 07:49:23.547]</td></tr><tr><td>&hellip;</td><td>&hellip;</td><td>&hellip;</td><td>&hellip;</td><td>&hellip;</td></tr><tr><td>&quot;u_27420&quot;</td><td>&quot;s_15647766&quot;</td><td>[&quot;v_779522&quot;, &quot;v_32918&quot;, … &quot;v_2382404&quot;]</td><td>[2, 2, … 2]</td><td>[2023-11-15 09:46:24.682, 2023-11-15 09:46:52.048, … 2023-11-15 09:55:07.684]</td></tr><tr><td>&quot;u_101925&quot;</td><td>&quot;s_9312767&quot;</td><td>[&quot;v_899404&quot;, &quot;v_2009859&quot;]</td><td>[2, 2]</td><td>[2023-11-17 10:54:18.637, 2023-11-17 12:19:55.239]</td></tr><tr><td>&quot;u_105702&quot;</td><td>&quot;s_27857907&quot;</td><td>[&quot;v_473549&quot;, &quot;v_1137408&quot;]</td><td>[2, 2]</td><td>[2023-11-18 09:25:22.487, 2023-11-18 09:27:10.980]</td></tr><tr><td>&quot;u_485573&quot;</td><td>&quot;s_19643559&quot;</td><td>[&quot;v_1032129&quot;, &quot;v_1340903&quot;, &quot;v_1032129&quot;]</td><td>[2, 2, 2]</td><td>[2023-11-21 14:44:58.274, 2023-11-21 15:11:34.645, 2023-11-21 15:11:56.029]</td></tr><tr><td>&quot;u_737688&quot;</td><td>&quot;s_5225203&quot;</td><td>[&quot;v_616873&quot;, &quot;v_2610004&quot;]</td><td>[2, 2]</td><td>[2023-11-20 12:37:56.056, 2023-11-20 12:41:23.243]</td></tr><tr><td>&quot;u_366097&quot;</td><td>&quot;s_20110640&quot;</td><td>[&quot;v_307100&quot;, &quot;v_2040988&quot;, … &quot;v_2586611&quot;]</td><td>[2, 2, … 1]</td><td>[2023-11-17 15:31:42.944, 2023-11-17 15:32:01.187, … 2023-11-17 15:36:51.248]</td></tr><tr><td>&quot;u_995221&quot;</td><td>&quot;s_21000652&quot;</td><td>[&quot;v_528661&quot;, &quot;v_528661&quot;, … &quot;v_199518&quot;]</td><td>[2, 1, … 2]</td><td>[2023-11-15 14:00:32.515, 2023-11-15 14:01:08.165, … 2023-11-15 14:04:31.812]</td></tr><tr><td>&quot;u_499368&quot;</td><td>&quot;s_19158589&quot;</td><td>[&quot;v_1716634&quot;, &quot;v_2232327&quot;, … &quot;v_1993650&quot;]</td><td>[2, 2, … 2]</td><td>[2023-11-18 03:15:15.530, 2023-11-18 03:19:20.971, … 2023-11-18 03:35:12.020]</td></tr><tr><td>&quot;u_1084868&quot;</td><td>&quot;s_24756162&quot;</td><td>[&quot;v_395706&quot;, &quot;v_2405231&quot;]</td><td>[2, 2]</td><td>[2023-11-15 18:06:16.550, 2023-11-15 18:07:18.447]</td></tr><tr><td>&quot;u_1138032&quot;</td><td>&quot;s_25291467&quot;</td><td>[&quot;v_1213925&quot;, &quot;v_1213925&quot;, … &quot;v_2359832&quot;]</td><td>[2, 1, … 1]</td><td>[2023-11-19 23:19:44.092, 2023-11-19 23:27:22.739, … 2023-11-19 23:27:51.152]</td></tr><tr><td>&quot;u_608102&quot;</td><td>&quot;s_18813020&quot;</td><td>[&quot;v_933773&quot;, &quot;v_933773&quot;, … &quot;v_2667466&quot;]</td><td>[3, 2, … 2]</td><td>[2023-11-16 15:40:09.408, 2023-11-16 15:40:09.448, … 2023-11-16 16:18:05.927]</td></tr><tr><td>&quot;u_847738&quot;</td><td>&quot;s_7662913&quot;</td><td>[&quot;v_875568&quot;, &quot;v_2677852&quot;, … &quot;v_1462102&quot;]</td><td>[2, 2, … 2]</td><td>[2023-11-17 13:34:03.386, 2023-11-17 13:34:57.675, … 2023-11-17 14:27:46.817]</td></tr></tbody></table></div>"
      ],
      "text/plain": [
       "shape: (3_504_859, 5)\n",
       "┌───────────┬────────────┬─────────────────────────────┬─────────────┬─────────────────────────────┐\n",
       "│ user_id   ┆ session_id ┆ vacancy_id                  ┆ action_type ┆ action_dt                   │\n",
       "│ ---       ┆ ---        ┆ ---                         ┆ ---         ┆ ---                         │\n",
       "│ str       ┆ str        ┆ list[str]                   ┆ list[i64]   ┆ list[datetime[ns]]          │\n",
       "╞═══════════╪════════════╪═════════════════════════════╪═════════════╪═════════════════════════════╡\n",
       "│ u_1057881 ┆ s_33868982 ┆ [\"v_665861\"]                ┆ [2]         ┆ [2023-11-01 00:23:51.452]   │\n",
       "│ u_1036784 ┆ s_32474802 ┆ [\"v_2594840\"]               ┆ [2]         ┆ [2023-11-01 00:52:34.023]   │\n",
       "│ u_786220  ┆ s_14060785 ┆ [\"v_1473781\", \"v_1622905\",  ┆ [1, 2, … 2] ┆ [2023-11-01 00:58:20.793,   │\n",
       "│           ┆            ┆ … \"v_…                      ┆             ┆ 2023-1…                     │\n",
       "│ u_639152  ┆ s_23205986 ┆ [\"v_695738\", \"v_22433\", …   ┆ [2, 1, … 2] ┆ [2023-11-01 01:14:20.828,   │\n",
       "│           ┆            ┆ \"v_107…                     ┆             ┆ 2023-1…                     │\n",
       "│ …         ┆ …          ┆ …                           ┆ …           ┆ …                           │\n",
       "│ u_1084868 ┆ s_24756162 ┆ [\"v_395706\", \"v_2405231\"]   ┆ [2, 2]      ┆ [2023-11-15 18:06:16.550,   │\n",
       "│           ┆            ┆                             ┆             ┆ 2023-1…                     │\n",
       "│ u_1138032 ┆ s_25291467 ┆ [\"v_1213925\", \"v_1213925\",  ┆ [2, 1, … 1] ┆ [2023-11-19 23:19:44.092,   │\n",
       "│           ┆            ┆ … \"v_…                      ┆             ┆ 2023-1…                     │\n",
       "│ u_608102  ┆ s_18813020 ┆ [\"v_933773\", \"v_933773\", …  ┆ [3, 2, … 2] ┆ [2023-11-16 15:40:09.408,   │\n",
       "│           ┆            ┆ \"v_26…                      ┆             ┆ 2023-1…                     │\n",
       "│ u_847738  ┆ s_7662913  ┆ [\"v_875568\", \"v_2677852\", … ┆ [2, 2, … 2] ┆ [2023-11-17 13:34:03.386,   │\n",
       "│           ┆            ┆ \"v_1…                       ┆             ┆ 2023-1…                     │\n",
       "└───────────┴────────────┴─────────────────────────────┴─────────────┴─────────────────────────────┘"
      ]
     },
     "execution_count": 37,
     "metadata": {},
     "output_type": "execute_result"
    }
   ],
   "source": [
    "train"
   ]
  },
  {
   "cell_type": "code",
   "execution_count": 14,
   "metadata": {},
   "outputs": [
    {
     "data": {
      "text/html": [
       "<div><style>\n",
       ".dataframe > thead > tr > th,\n",
       ".dataframe > tbody > tr > td {\n",
       "  text-align: right;\n",
       "  white-space: pre-wrap;\n",
       "}\n",
       "</style>\n",
       "<small>shape: (2_734_129, 13)</small><table border=\"1\" class=\"dataframe\"><thead><tr><th>vacancy_id</th><th>name</th><th>company.id</th><th>description</th><th>keySkills.keySkill</th><th>compensation.from</th><th>compensation.to</th><th>compensation.currencyCode</th><th>area.id</th><th>area.regionId</th><th>employment</th><th>workSchedule</th><th>workExperience</th></tr><tr><td>str</td><td>str</td><td>str</td><td>str</td><td>list[str]</td><td>i64</td><td>i64</td><td>str</td><td>str</td><td>str</td><td>str</td><td>str</td><td>str</td></tr></thead><tbody><tr><td>&quot;v_862116&quot;</td><td>&quot;Смотритель муз…</td><td>&quot;c_162972&quot;</td><td>&quot;&lt;strong&gt;Обязан…</td><td>[&quot;Пользователь ПК&quot;, &quot;Работа в команде&quot;, … &quot;PR-консультирование&quot;]</td><td>16500</td><td>null</td><td>&quot;RUR&quot;</td><td>&quot;a_4761&quot;</td><td>&quot;ar_33&quot;</td><td>&quot;full&quot;</td><td>&quot;fullDay&quot;</td><td>&quot;noExperience&quot;</td></tr><tr><td>&quot;v_288642&quot;</td><td>&quot;Ведущий менедж…</td><td>&quot;c_208672&quot;</td><td>&quot;&lt;p&gt;&lt;strong&gt;Воз…</td><td>[&quot;Активные продажи&quot;, &quot;Холодные продажи&quot;, … &quot;Организация мероприятий&quot;]</td><td>50000</td><td>null</td><td>&quot;RUR&quot;</td><td>&quot;a_744&quot;</td><td>&quot;ar_2&quot;</td><td>&quot;full&quot;</td><td>&quot;fullDay&quot;</td><td>&quot;noExperience&quot;</td></tr><tr><td>&quot;v_1840054&quot;</td><td>&quot;Бухгалтер (по …</td><td>&quot;c_198109&quot;</td><td>&quot;&lt;strong&gt;Обязан…</td><td>null</td><td>50000</td><td>65000</td><td>&quot;RUR&quot;</td><td>&quot;a_6223&quot;</td><td>&quot;ar_78&quot;</td><td>&quot;full&quot;</td><td>&quot;fullDay&quot;</td><td>&quot;between3And6&quot;</td></tr><tr><td>&quot;v_2346232&quot;</td><td>&quot;Пекарь (Токсов…</td><td>&quot;c_6137&quot;</td><td>&quot;&lt;p&gt;&lt;strong&gt;Для…</td><td>null</td><td>38500</td><td>42000</td><td>&quot;RUR&quot;</td><td>&quot;a_4795&quot;</td><td>&quot;ar_51&quot;</td><td>&quot;full&quot;</td><td>&quot;fullDay&quot;</td><td>&quot;noExperience&quot;</td></tr><tr><td>&quot;v_312507&quot;</td><td>&quot;Торговый предс…</td><td>&quot;c_206699&quot;</td><td>&quot;&lt;p&gt;Компания ТД…</td><td>[&quot;Продуктивность&quot;, &quot;Клиентоориентированность&quot;, … &quot;Развитие продаж&quot;]</td><td>60000</td><td>null</td><td>&quot;RUR&quot;</td><td>&quot;a_6837&quot;</td><td>&quot;ar_4&quot;</td><td>&quot;full&quot;</td><td>&quot;fullDay&quot;</td><td>&quot;between1And3&quot;</td></tr><tr><td>&quot;v_2323706&quot;</td><td>&quot;Менеджер по ка…</td><td>&quot;c_244141&quot;</td><td>&quot;&lt;p&gt;&lt;strong&gt;X&lt;/…</td><td>[&quot;Контроль качества&quot;, &quot;Производственный контроль&quot;, … &quot;Лабораторная диагностика&quot;]</td><td>88000</td><td>null</td><td>&quot;RUR&quot;</td><td>&quot;a_5920&quot;</td><td>&quot;ar_64&quot;</td><td>&quot;full&quot;</td><td>&quot;fullDay&quot;</td><td>&quot;between1And3&quot;</td></tr><tr><td>&quot;v_704266&quot;</td><td>&quot;Менеджер по пр…</td><td>&quot;c_192038&quot;</td><td>&quot;&lt;p&gt;Если ты ище…</td><td>[&quot;Активные продажи&quot;, &quot;Поиск и привлечение клиентов&quot;, … &quot;Проведение переговоров&quot;]</td><td>30000</td><td>100000</td><td>&quot;RUR&quot;</td><td>&quot;a_5398&quot;</td><td>&quot;ar_71&quot;</td><td>&quot;full&quot;</td><td>&quot;fullDay&quot;</td><td>&quot;between1And3&quot;</td></tr><tr><td>&quot;v_525733&quot;</td><td>&quot;Врач по ЛФК&quot;</td><td>&quot;c_5101&quot;</td><td>&quot;&lt;strong&gt;Обязан…</td><td>null</td><td>null</td><td>null</td><td>null</td><td>&quot;a_5043&quot;</td><td>&quot;ar_96&quot;</td><td>&quot;full&quot;</td><td>&quot;fullDay&quot;</td><td>&quot;between3And6&quot;</td></tr><tr><td>&quot;v_2091086&quot;</td><td>&quot;Монтажник СТиЖ…</td><td>&quot;c_230890&quot;</td><td>&quot;&lt;em&gt;&lt;strong&gt;Ст…</td><td>null</td><td>100000</td><td>null</td><td>&quot;RUR&quot;</td><td>&quot;a_500&quot;</td><td>&quot;ar_36&quot;</td><td>&quot;full&quot;</td><td>&quot;flyInFlyOut&quot;</td><td>&quot;between1And3&quot;</td></tr><tr><td>&quot;v_839657&quot;</td><td>&quot;Подсобный рабо…</td><td>&quot;c_192370&quot;</td><td>&quot;&lt;p&gt;&lt;strong&gt;О к…</td><td>[&quot;Умение работать в команде&quot;, &quot;Уборка строительного мусора&quot;]</td><td>50000</td><td>50000</td><td>&quot;RUR&quot;</td><td>&quot;a_2649&quot;</td><td>&quot;ar_44&quot;</td><td>&quot;full&quot;</td><td>&quot;fullDay&quot;</td><td>&quot;noExperience&quot;</td></tr><tr><td>&quot;v_2485961&quot;</td><td>&quot;Домработница/Д…</td><td>&quot;c_133807&quot;</td><td>&quot;&lt;strong&gt;Обязан…</td><td>[&quot;Уборка, стирка, домработница, помощница по хозяйству&quot;]</td><td>65000</td><td>75000</td><td>&quot;RUR&quot;</td><td>&quot;a_1756&quot;</td><td>&quot;ar_41&quot;</td><td>&quot;full&quot;</td><td>&quot;fullDay&quot;</td><td>&quot;moreThan6&quot;</td></tr><tr><td>&quot;v_468073&quot;</td><td>&quot;Врач-офтальмол…</td><td>&quot;c_213052&quot;</td><td>&quot;&lt;strong&gt;В связ…</td><td>[&quot;Медицинская документация&quot;, &quot;Деловое общение&quot;, … &quot;Навыки межличностного общения&quot;]</td><td>150000</td><td>null</td><td>&quot;RUR&quot;</td><td>&quot;a_2755&quot;</td><td>&quot;ar_87&quot;</td><td>&quot;full&quot;</td><td>&quot;fullDay&quot;</td><td>&quot;between1And3&quot;</td></tr><tr><td>&hellip;</td><td>&hellip;</td><td>&hellip;</td><td>&hellip;</td><td>&hellip;</td><td>&hellip;</td><td>&hellip;</td><td>&hellip;</td><td>&hellip;</td><td>&hellip;</td><td>&hellip;</td><td>&hellip;</td><td>&hellip;</td></tr><tr><td>&quot;v_1741629&quot;</td><td>&quot;Оператор парко…</td><td>&quot;c_85559&quot;</td><td>&quot;&lt;strong&gt;Чем пр…</td><td>[&quot;парковочная система&quot;, &quot;Бесконфликтность&quot;, &quot;Работа в команде&quot;]</td><td>40000</td><td>42000</td><td>&quot;RUR&quot;</td><td>&quot;a_5398&quot;</td><td>&quot;ar_71&quot;</td><td>&quot;full&quot;</td><td>&quot;shift&quot;</td><td>&quot;noExperience&quot;</td></tr><tr><td>&quot;v_1841986&quot;</td><td>&quot;Маркетолог-ана…</td><td>&quot;c_44564&quot;</td><td>&quot;&lt;p&gt;А ГРУПП – о…</td><td>null</td><td>55128</td><td>71666</td><td>&quot;RUR&quot;</td><td>&quot;a_2649&quot;</td><td>&quot;ar_44&quot;</td><td>&quot;full&quot;</td><td>&quot;fullDay&quot;</td><td>&quot;between3And6&quot;</td></tr><tr><td>&quot;v_272395&quot;</td><td>&quot;Оператор полиг…</td><td>&quot;c_77277&quot;</td><td>&quot;&lt;p&gt;&lt;strong&gt;Обя…</td><td>[&quot;Работа в команде&quot;, &quot;Быстро учусь&quot;, … &quot;Желание работать и зарабатывать&quot;]</td><td>45000</td><td>null</td><td>&quot;RUR&quot;</td><td>&quot;a_2431&quot;</td><td>&quot;ar_64&quot;</td><td>&quot;full&quot;</td><td>&quot;fullDay&quot;</td><td>&quot;noExperience&quot;</td></tr><tr><td>&quot;v_2082311&quot;</td><td>&quot;Слесарь механо…</td><td>&quot;c_167337&quot;</td><td>&quot;&lt;p&gt;&lt;strong&gt;РАБ…</td><td>null</td><td>115000</td><td>null</td><td>&quot;RUR&quot;</td><td>&quot;a_61&quot;</td><td>&quot;ar_25&quot;</td><td>&quot;full&quot;</td><td>&quot;flyInFlyOut&quot;</td><td>&quot;between1And3&quot;</td></tr><tr><td>&quot;v_292464&quot;</td><td>&quot;Ведущий бухгал…</td><td>&quot;c_138929&quot;</td><td>&quot;&lt;p&gt;&lt;strong&gt;«Pr…</td><td>null</td><td>100000</td><td>null</td><td>&quot;RUR&quot;</td><td>&quot;a_4284&quot;</td><td>&quot;ar_23&quot;</td><td>&quot;full&quot;</td><td>&quot;fullDay&quot;</td><td>&quot;between1And3&quot;</td></tr><tr><td>&quot;v_704468&quot;</td><td>&quot;Водитель-экспе…</td><td>&quot;c_17061&quot;</td><td>&quot;&lt;p&gt;&lt;strong&gt;В к…</td><td>[&quot;Приемка груза&quot;, &quot;Пользователь ПК&quot;, &quot;Учет товаров&quot;]</td><td>90000</td><td>null</td><td>&quot;RUR&quot;</td><td>&quot;a_6223&quot;</td><td>&quot;ar_78&quot;</td><td>&quot;full&quot;</td><td>&quot;fullDay&quot;</td><td>&quot;between1And3&quot;</td></tr><tr><td>&quot;v_496189&quot;</td><td>&quot;Продавец-касси…</td><td>&quot;c_33309&quot;</td><td>&quot;&lt;p&gt;&lt;strong&gt;&lt;st…</td><td>[&quot;Работа с кассой&quot;, &quot;Пользователь ПК&quot;, … &quot;Обслуживание покупателей&quot;]</td><td>21000</td><td>null</td><td>&quot;RUR&quot;</td><td>&quot;a_343&quot;</td><td>&quot;ar_38&quot;</td><td>&quot;full&quot;</td><td>&quot;shift&quot;</td><td>&quot;noExperience&quot;</td></tr><tr><td>&quot;v_2484959&quot;</td><td>&quot;Сборщик-упаков…</td><td>&quot;c_203256&quot;</td><td>&quot;&lt;p&gt;&lt;strong&gt;Обя…</td><td>[&quot;Пользователь ПК&quot;, &quot;Умение работать в команде&quot;, … &quot;Материальная ответственность&quot;]</td><td>40000</td><td>90000</td><td>&quot;RUR&quot;</td><td>&quot;a_5387&quot;</td><td>&quot;ar_71&quot;</td><td>&quot;full&quot;</td><td>&quot;flexible&quot;</td><td>&quot;noExperience&quot;</td></tr><tr><td>&quot;v_205163&quot;</td><td>&quot;Сварщик на пол…</td><td>&quot;c_158695&quot;</td><td>&quot;&lt;p&gt;ОКЛАД 80 00…</td><td>[&quot;Желание работать и зарабатывать&quot;, &quot;Высокая энергичность&quot;, &quot;Физическая выносливость&quot;]</td><td>80000</td><td>130000</td><td>&quot;RUR&quot;</td><td>&quot;a_5527&quot;</td><td>&quot;ar_69&quot;</td><td>&quot;full&quot;</td><td>&quot;fullDay&quot;</td><td>&quot;between1And3&quot;</td></tr><tr><td>&quot;v_639897&quot;</td><td>&quot;Главный инжене…</td><td>&quot;c_209365&quot;</td><td>&quot;&lt;p&gt;Компания&lt;st…</td><td>[&quot;Контроль исправности оборудования&quot;, &quot;Инженерные системы&quot;, … &quot;Составление сметно-проектной документации&quot;]</td><td>200000</td><td>null</td><td>&quot;RUR&quot;</td><td>&quot;a_1756&quot;</td><td>&quot;ar_41&quot;</td><td>&quot;full&quot;</td><td>&quot;fullDay&quot;</td><td>&quot;between1And3&quot;</td></tr><tr><td>&quot;v_1636531&quot;</td><td>&quot;Провизор/Фарма…</td><td>&quot;c_246244&quot;</td><td>&quot;&lt;strong&gt;Требов…</td><td>[&quot;Предпечатная подготовка&quot;, &quot;Статистический анализ&quot;]</td><td>25000</td><td>null</td><td>&quot;RUR&quot;</td><td>&quot;a_3403&quot;</td><td>&quot;ar_60&quot;</td><td>&quot;full&quot;</td><td>&quot;fullDay&quot;</td><td>&quot;noExperience&quot;</td></tr><tr><td>&quot;v_1689739&quot;</td><td>&quot;Продавец-консу…</td><td>&quot;c_73191&quot;</td><td>&quot;&lt;strong&gt;Обязан…</td><td>[&quot;1С: Торговля&quot;, &quot;Грамотная речь&quot;, … &quot;Торговля&quot;]</td><td>25000</td><td>null</td><td>&quot;RUR&quot;</td><td>&quot;a_1690&quot;</td><td>&quot;ar_91&quot;</td><td>&quot;full&quot;</td><td>&quot;fullDay&quot;</td><td>&quot;between1And3&quot;</td></tr></tbody></table></div>"
      ],
      "text/plain": [
       "shape: (2_734_129, 13)\n",
       "┌───────────┬───────────┬───────────┬───────────┬───┬───────────┬───────────┬───────────┬──────────┐\n",
       "│ vacancy_i ┆ name      ┆ company.i ┆ descripti ┆ … ┆ area.regi ┆ employmen ┆ workSched ┆ workExpe │\n",
       "│ d         ┆ ---       ┆ d         ┆ on        ┆   ┆ onId      ┆ t         ┆ ule       ┆ rience   │\n",
       "│ ---       ┆ str       ┆ ---       ┆ ---       ┆   ┆ ---       ┆ ---       ┆ ---       ┆ ---      │\n",
       "│ str       ┆           ┆ str       ┆ str       ┆   ┆ str       ┆ str       ┆ str       ┆ str      │\n",
       "╞═══════════╪═══════════╪═══════════╪═══════════╪═══╪═══════════╪═══════════╪═══════════╪══════════╡\n",
       "│ v_862116  ┆ Смотрител ┆ c_162972  ┆ <strong>О ┆ … ┆ ar_33     ┆ full      ┆ fullDay   ┆ noExperi │\n",
       "│           ┆ ь         ┆           ┆ бязанност ┆   ┆           ┆           ┆           ┆ ence     │\n",
       "│           ┆ музейный  ┆           ┆ и:</stron ┆   ┆           ┆           ┆           ┆          │\n",
       "│           ┆           ┆           ┆ g> <u…    ┆   ┆           ┆           ┆           ┆          │\n",
       "│ v_288642  ┆ Ведущий   ┆ c_208672  ┆ <p><stron ┆ … ┆ ar_2      ┆ full      ┆ fullDay   ┆ noExperi │\n",
       "│           ┆ менеджер  ┆           ┆ g>Возможн ┆   ┆           ┆           ┆           ┆ ence     │\n",
       "│           ┆ по работе ┆           ┆ о, наша   ┆   ┆           ┆           ┆           ┆          │\n",
       "│           ┆ с физ…    ┆           ┆ ваканс…   ┆   ┆           ┆           ┆           ┆          │\n",
       "│ v_1840054 ┆ Бухгалтер ┆ c_198109  ┆ <strong>О ┆ … ┆ ar_78     ┆ full      ┆ fullDay   ┆ between3 │\n",
       "│           ┆ (по       ┆           ┆ бязанност ┆   ┆           ┆           ┆           ┆ And6     │\n",
       "│           ┆ расчету   ┆           ┆ и:</stron ┆   ┆           ┆           ┆           ┆          │\n",
       "│           ┆ зарплаты) ┆           ┆ g> <u…    ┆   ┆           ┆           ┆           ┆          │\n",
       "│ v_2346232 ┆ Пекарь    ┆ c_6137    ┆ <p><stron ┆ … ┆ ar_51     ┆ full      ┆ fullDay   ┆ noExperi │\n",
       "│           ┆ (Токсово, ┆           ┆ g>Для     ┆   ┆           ┆           ┆           ┆ ence     │\n",
       "│           ┆ Привокзал ┆           ┆ каждого,  ┆   ┆           ┆           ┆           ┆          │\n",
       "│           ┆ ьная, …   ┆           ┆ кто хоче… ┆   ┆           ┆           ┆           ┆          │\n",
       "│ …         ┆ …         ┆ …         ┆ …         ┆ … ┆ …         ┆ …         ┆ …         ┆ …        │\n",
       "│ v_205163  ┆ Сварщик   ┆ c_158695  ┆ <p>ОКЛАД  ┆ … ┆ ar_69     ┆ full      ┆ fullDay   ┆ between1 │\n",
       "│           ┆ на полуав ┆           ┆ 80 000    ┆   ┆           ┆           ┆           ┆ And3     │\n",
       "│           ┆ томат     ┆           ┆ РУБЛЕЙ. В ┆   ┆           ┆           ┆           ┆          │\n",
       "│           ┆           ┆           ┆ связи …   ┆   ┆           ┆           ┆           ┆          │\n",
       "│ v_639897  ┆ Главный   ┆ c_209365  ┆ <p>Компан ┆ … ┆ ar_41     ┆ full      ┆ fullDay   ┆ between1 │\n",
       "│           ┆ инженер / ┆           ┆ ия<strong ┆   ┆           ┆           ┆           ┆ And3     │\n",
       "│           ┆ Техническ ┆           ┆ >         ┆   ┆           ┆           ┆           ┆          │\n",
       "│           ┆ ий ди…    ┆           ┆ МОБИЛЬНЫЙ ┆   ┆           ┆           ┆           ┆          │\n",
       "│           ┆           ┆           ┆ ДО…       ┆   ┆           ┆           ┆           ┆          │\n",
       "│ v_1636531 ┆ Провизор/ ┆ c_246244  ┆ <strong>Т ┆ … ┆ ar_60     ┆ full      ┆ fullDay   ┆ noExperi │\n",
       "│           ┆ Фармацевт ┆           ┆ ребования ┆   ┆           ┆           ┆           ┆ ence     │\n",
       "│           ┆ (г.Адыгей ┆           ┆ :</strong ┆   ┆           ┆           ┆           ┆          │\n",
       "│           ┆ ск, …     ┆           ┆ > <ul…    ┆   ┆           ┆           ┆           ┆          │\n",
       "│ v_1689739 ┆ Продавец- ┆ c_73191   ┆ <strong>О ┆ … ┆ ar_91     ┆ full      ┆ fullDay   ┆ between1 │\n",
       "│           ┆ консульта ┆           ┆ бязанност ┆   ┆           ┆           ┆           ┆ And3     │\n",
       "│           ┆ нт в      ┆           ┆ и:</stron ┆   ┆           ┆           ┆           ┆          │\n",
       "│           ┆ магазин   ┆           ┆ g> <u…    ┆   ┆           ┆           ┆           ┆          │\n",
       "│           ┆ б…        ┆           ┆           ┆   ┆           ┆           ┆           ┆          │\n",
       "└───────────┴───────────┴───────────┴───────────┴───┴───────────┴───────────┴───────────┴──────────┘"
      ]
     },
     "execution_count": 14,
     "metadata": {},
     "output_type": "execute_result"
    }
   ],
   "source": [
    "vacancies"
   ]
  },
  {
   "cell_type": "code",
   "execution_count": 15,
   "metadata": {},
   "outputs": [],
   "source": [
    "vacancies = vacancies.with_columns(pl.col(\"compensation.from\").fill_null(strategy=\"min\"))\n",
    "vacancies = vacancies.with_columns(pl.when(pl.col(\"compensation.to\").is_null()).then(pl.col(\"compensation.from\")).otherwise(pl.col(\"compensation.to\")).alias(\"compensation.to\"))\n",
    "vacancies = vacancies.with_columns(pl.col(\"compensation.currencyCode\").fill_null(\"RUR\"))\n",
    "# не можем это все сделать в одну строку потому что есть строки где и from и to ==  null - тогда они обработаются некорректно"
   ]
  },
  {
   "cell_type": "markdown",
   "metadata": {},
   "source": [
    "keySkills.keySkill и area.regionId могут быть null, остальные вроде бы нет.\n",
    "(Проверим:)"
   ]
  },
  {
   "cell_type": "code",
   "execution_count": 16,
   "metadata": {},
   "outputs": [
    {
     "data": {
      "text/html": [
       "<div><style>\n",
       ".dataframe > thead > tr > th,\n",
       ".dataframe > tbody > tr > td {\n",
       "  text-align: right;\n",
       "  white-space: pre-wrap;\n",
       "}\n",
       "</style>\n",
       "<small>shape: (0, 13)</small><table border=\"1\" class=\"dataframe\"><thead><tr><th>vacancy_id</th><th>name</th><th>company.id</th><th>description</th><th>keySkills.keySkill</th><th>compensation.from</th><th>compensation.to</th><th>compensation.currencyCode</th><th>area.id</th><th>area.regionId</th><th>employment</th><th>workSchedule</th><th>workExperience</th></tr><tr><td>str</td><td>str</td><td>str</td><td>str</td><td>list[str]</td><td>i64</td><td>i64</td><td>str</td><td>str</td><td>str</td><td>str</td><td>str</td><td>str</td></tr></thead><tbody></tbody></table></div>"
      ],
      "text/plain": [
       "shape: (0, 13)\n",
       "┌────────────┬──────┬────────────┬────────────┬───┬────────────┬───────────┬───────────┬───────────┐\n",
       "│ vacancy_id ┆ name ┆ company.id ┆ descriptio ┆ … ┆ area.regio ┆ employmen ┆ workSched ┆ workExper │\n",
       "│ ---        ┆ ---  ┆ ---        ┆ n          ┆   ┆ nId        ┆ t         ┆ ule       ┆ ience     │\n",
       "│ str        ┆ str  ┆ str        ┆ ---        ┆   ┆ ---        ┆ ---       ┆ ---       ┆ ---       │\n",
       "│            ┆      ┆            ┆ str        ┆   ┆ str        ┆ str       ┆ str       ┆ str       │\n",
       "╞════════════╪══════╪════════════╪════════════╪═══╪════════════╪═══════════╪═══════════╪═══════════╡\n",
       "└────────────┴──────┴────────────┴────────────┴───┴────────────┴───────────┴───────────┴───────────┘"
      ]
     },
     "execution_count": 16,
     "metadata": {},
     "output_type": "execute_result"
    }
   ],
   "source": [
    "vacancies.filter(pl.col(\"name\").is_null())"
   ]
  },
  {
   "cell_type": "code",
   "execution_count": 17,
   "metadata": {},
   "outputs": [],
   "source": [
    "vacancies = vacancies.with_columns(pl.col(\"description\").str.replace_all(\"<.*?>\", \"\").  # убираем html-тэги\n",
    "                                   str.replace_all(\"&[A-Za-z0-9#]+;\", \"\").   # убираем entity вроде  &quot;\n",
    "                                   str.replace_all(\"[[:punct:]]\", \"\").   # убираем знаки препинания\n",
    "                                   str.to_lowercase())                       # лучше все к нижнему регистру\n",
    "#                                  str.replace_all(\"&quot;\", \"\")) # - можно было бы и так, последовательно, но их бывает много разных"
   ]
  },
  {
   "cell_type": "code",
   "execution_count": 18,
   "metadata": {},
   "outputs": [],
   "source": [
    "vacancies = vacancies.with_columns(pl.col(\"keySkills.keySkill\").list.join(' ').str.to_lowercase())  # ключевые навыки записываем в строку через пробел и в нижнем регистре\n",
    "# если .join(', ') - то будет через запятую"
   ]
  },
  {
   "cell_type": "code",
   "execution_count": 19,
   "metadata": {},
   "outputs": [
    {
     "name": "stdout",
     "output_type": "stream",
     "text": [
      "shape: (2_734_129,)\n",
      "Series: 'keySkills.keySkill' [str]\n",
      "[\n",
      "\t\"пользователь пк работа в команде умение планирова…\n",
      "\t\"активные продажи холодные продажи кредитные догов…\n",
      "\tnull\n",
      "\tnull\n",
      "\t\"продуктивность клиентоориентированность управлени…\n",
      "\t\"контроль качества производственный контроль навык…\n",
      "\t\"активные продажи поиск и привлечение клиентов под…\n",
      "\tnull\n",
      "\tnull\n",
      "\t\"умение работать в команде уборка строительного му…\n",
      "\t\"уборка, стирка, домработница, помощница по хозяйс…\n",
      "\t\"медицинская документация деловое общение медицинс…\n",
      "\t…\n",
      "\t\"работа в команде управление курьерской службой ку…\n",
      "\t\"парковочная система бесконфликтность работа в ком…\n",
      "\tnull\n",
      "\t\"работа в команде быстро учусь желание учиться жел…\n",
      "\tnull\n",
      "\tnull\n",
      "\t\"приемка груза пользователь пк учет товаров\"\n",
      "\t\"работа с кассой пользователь пк работа в команде …\n",
      "\t\"пользователь пк умение работать в команде учет то…\n",
      "\t\"желание работать и зарабатывать высокая энергично…\n",
      "\t\"контроль исправности оборудования инженерные сист…\n",
      "\t\"предпечатная подготовка статистический анализ\"\n",
      "\t\"1с: торговля грамотная речь консультативные прода…\n",
      "]\n"
     ]
    }
   ],
   "source": [
    "with pl.Config(fmt_str_lengths=50):\n",
    "#    print(vacancies['description'])\n",
    "    print(vacancies['keySkills.keySkill'])"
   ]
  },
  {
   "cell_type": "code",
   "execution_count": 16,
   "metadata": {},
   "outputs": [
    {
     "data": {
      "text/html": [
       "<div><style>\n",
       ".dataframe > thead > tr > th,\n",
       ".dataframe > tbody > tr > td {\n",
       "  text-align: right;\n",
       "  white-space: pre-wrap;\n",
       "}\n",
       "</style>\n",
       "<small>shape: (2_734_129, 13)</small><table border=\"1\" class=\"dataframe\"><thead><tr><th>vacancy_id</th><th>name</th><th>company.id</th><th>description</th><th>keySkills.keySkill</th><th>compensation.from</th><th>compensation.to</th><th>compensation.currencyCode</th><th>area.id</th><th>area.regionId</th><th>employment</th><th>workSchedule</th><th>workExperience</th></tr><tr><td>str</td><td>str</td><td>str</td><td>str</td><td>str</td><td>i64</td><td>i64</td><td>str</td><td>str</td><td>str</td><td>str</td><td>str</td><td>str</td></tr></thead><tbody><tr><td>&quot;v_862116&quot;</td><td>&quot;Смотритель муз…</td><td>&quot;c_162972&quot;</td><td>&quot;обязанности  о…</td><td>&quot;пользователь п…</td><td>16500</td><td>16500</td><td>&quot;RUR&quot;</td><td>&quot;a_4761&quot;</td><td>&quot;ar_33&quot;</td><td>&quot;full&quot;</td><td>&quot;fullDay&quot;</td><td>&quot;noExperience&quot;</td></tr><tr><td>&quot;v_288642&quot;</td><td>&quot;Ведущий менедж…</td><td>&quot;c_208672&quot;</td><td>&quot;возможно наша …</td><td>&quot;активные прода…</td><td>50000</td><td>50000</td><td>&quot;RUR&quot;</td><td>&quot;a_744&quot;</td><td>&quot;ar_2&quot;</td><td>&quot;full&quot;</td><td>&quot;fullDay&quot;</td><td>&quot;noExperience&quot;</td></tr><tr><td>&quot;v_1840054&quot;</td><td>&quot;Бухгалтер (по …</td><td>&quot;c_198109&quot;</td><td>&quot;обязанности  р…</td><td>null</td><td>50000</td><td>65000</td><td>&quot;RUR&quot;</td><td>&quot;a_6223&quot;</td><td>&quot;ar_78&quot;</td><td>&quot;full&quot;</td><td>&quot;fullDay&quot;</td><td>&quot;between3And6&quot;</td></tr><tr><td>&quot;v_2346232&quot;</td><td>&quot;Пекарь (Токсов…</td><td>&quot;c_6137&quot;</td><td>&quot;для каждого кт…</td><td>null</td><td>38500</td><td>42000</td><td>&quot;RUR&quot;</td><td>&quot;a_4795&quot;</td><td>&quot;ar_51&quot;</td><td>&quot;full&quot;</td><td>&quot;fullDay&quot;</td><td>&quot;noExperience&quot;</td></tr><tr><td>&quot;v_312507&quot;</td><td>&quot;Торговый предс…</td><td>&quot;c_206699&quot;</td><td>&quot;компания тд ол…</td><td>&quot;продуктивность…</td><td>60000</td><td>60000</td><td>&quot;RUR&quot;</td><td>&quot;a_6837&quot;</td><td>&quot;ar_4&quot;</td><td>&quot;full&quot;</td><td>&quot;fullDay&quot;</td><td>&quot;between1And3&quot;</td></tr><tr><td>&quot;v_2323706&quot;</td><td>&quot;Менеджер по ка…</td><td>&quot;c_244141&quot;</td><td>&quot;x5 ready food …</td><td>&quot;контроль качес…</td><td>88000</td><td>88000</td><td>&quot;RUR&quot;</td><td>&quot;a_5920&quot;</td><td>&quot;ar_64&quot;</td><td>&quot;full&quot;</td><td>&quot;fullDay&quot;</td><td>&quot;between1And3&quot;</td></tr><tr><td>&quot;v_704266&quot;</td><td>&quot;Менеджер по пр…</td><td>&quot;c_192038&quot;</td><td>&quot;если ты ищешь …</td><td>&quot;активные прода…</td><td>30000</td><td>100000</td><td>&quot;RUR&quot;</td><td>&quot;a_5398&quot;</td><td>&quot;ar_71&quot;</td><td>&quot;full&quot;</td><td>&quot;fullDay&quot;</td><td>&quot;between1And3&quot;</td></tr><tr><td>&quot;v_525733&quot;</td><td>&quot;Врач по ЛФК&quot;</td><td>&quot;c_5101&quot;</td><td>&quot;обязанности  в…</td><td>null</td><td>1</td><td>1</td><td>&quot;RUR&quot;</td><td>&quot;a_5043&quot;</td><td>&quot;ar_96&quot;</td><td>&quot;full&quot;</td><td>&quot;fullDay&quot;</td><td>&quot;between3And6&quot;</td></tr><tr><td>&quot;v_2091086&quot;</td><td>&quot;Монтажник СТиЖ…</td><td>&quot;c_230890&quot;</td><td>&quot;строительная к…</td><td>null</td><td>100000</td><td>100000</td><td>&quot;RUR&quot;</td><td>&quot;a_500&quot;</td><td>&quot;ar_36&quot;</td><td>&quot;full&quot;</td><td>&quot;flyInFlyOut&quot;</td><td>&quot;between1And3&quot;</td></tr><tr><td>&quot;v_839657&quot;</td><td>&quot;Подсобный рабо…</td><td>&quot;c_192370&quot;</td><td>&quot;о компании бру…</td><td>&quot;умение работат…</td><td>50000</td><td>50000</td><td>&quot;RUR&quot;</td><td>&quot;a_2649&quot;</td><td>&quot;ar_44&quot;</td><td>&quot;full&quot;</td><td>&quot;fullDay&quot;</td><td>&quot;noExperience&quot;</td></tr><tr><td>&quot;v_2485961&quot;</td><td>&quot;Домработница/Д…</td><td>&quot;c_133807&quot;</td><td>&quot;обязанности уб…</td><td>&quot;уборка, стирка…</td><td>65000</td><td>75000</td><td>&quot;RUR&quot;</td><td>&quot;a_1756&quot;</td><td>&quot;ar_41&quot;</td><td>&quot;full&quot;</td><td>&quot;fullDay&quot;</td><td>&quot;moreThan6&quot;</td></tr><tr><td>&quot;v_468073&quot;</td><td>&quot;Врач-офтальмол…</td><td>&quot;c_213052&quot;</td><td>&quot;в связи с расш…</td><td>&quot;медицинская до…</td><td>150000</td><td>150000</td><td>&quot;RUR&quot;</td><td>&quot;a_2755&quot;</td><td>&quot;ar_87&quot;</td><td>&quot;full&quot;</td><td>&quot;fullDay&quot;</td><td>&quot;between1And3&quot;</td></tr><tr><td>&hellip;</td><td>&hellip;</td><td>&hellip;</td><td>&hellip;</td><td>&hellip;</td><td>&hellip;</td><td>&hellip;</td><td>&hellip;</td><td>&hellip;</td><td>&hellip;</td><td>&hellip;</td><td>&hellip;</td><td>&hellip;</td></tr><tr><td>&quot;v_1741629&quot;</td><td>&quot;Оператор парко…</td><td>&quot;c_85559&quot;</td><td>&quot;чем предстоит …</td><td>&quot;парковочная си…</td><td>40000</td><td>42000</td><td>&quot;RUR&quot;</td><td>&quot;a_5398&quot;</td><td>&quot;ar_71&quot;</td><td>&quot;full&quot;</td><td>&quot;shift&quot;</td><td>&quot;noExperience&quot;</td></tr><tr><td>&quot;v_1841986&quot;</td><td>&quot;Маркетолог-ана…</td><td>&quot;c_44564&quot;</td><td>&quot;а групп – одна…</td><td>null</td><td>55128</td><td>71666</td><td>&quot;RUR&quot;</td><td>&quot;a_2649&quot;</td><td>&quot;ar_44&quot;</td><td>&quot;full&quot;</td><td>&quot;fullDay&quot;</td><td>&quot;between3And6&quot;</td></tr><tr><td>&quot;v_272395&quot;</td><td>&quot;Оператор полиг…</td><td>&quot;c_77277&quot;</td><td>&quot;обязанности же…</td><td>&quot;работа в коман…</td><td>45000</td><td>45000</td><td>&quot;RUR&quot;</td><td>&quot;a_2431&quot;</td><td>&quot;ar_64&quot;</td><td>&quot;full&quot;</td><td>&quot;fullDay&quot;</td><td>&quot;noExperience&quot;</td></tr><tr><td>&quot;v_2082311&quot;</td><td>&quot;Слесарь механо…</td><td>&quot;c_167337&quot;</td><td>&quot;работа вахтовы…</td><td>null</td><td>115000</td><td>115000</td><td>&quot;RUR&quot;</td><td>&quot;a_61&quot;</td><td>&quot;ar_25&quot;</td><td>&quot;full&quot;</td><td>&quot;flyInFlyOut&quot;</td><td>&quot;between1And3&quot;</td></tr><tr><td>&quot;v_292464&quot;</td><td>&quot;Ведущий бухгал…</td><td>&quot;c_138929&quot;</td><td>&quot;«premier basic…</td><td>null</td><td>100000</td><td>100000</td><td>&quot;RUR&quot;</td><td>&quot;a_4284&quot;</td><td>&quot;ar_23&quot;</td><td>&quot;full&quot;</td><td>&quot;fullDay&quot;</td><td>&quot;between1And3&quot;</td></tr><tr><td>&quot;v_704468&quot;</td><td>&quot;Водитель-экспе…</td><td>&quot;c_17061&quot;</td><td>&quot;в крупную стаб…</td><td>&quot;приемка груза …</td><td>90000</td><td>90000</td><td>&quot;RUR&quot;</td><td>&quot;a_6223&quot;</td><td>&quot;ar_78&quot;</td><td>&quot;full&quot;</td><td>&quot;fullDay&quot;</td><td>&quot;between1And3&quot;</td></tr><tr><td>&quot;v_496189&quot;</td><td>&quot;Продавец-касси…</td><td>&quot;c_33309&quot;</td><td>&quot;магазин товаро…</td><td>&quot;работа с кассо…</td><td>21000</td><td>21000</td><td>&quot;RUR&quot;</td><td>&quot;a_343&quot;</td><td>&quot;ar_38&quot;</td><td>&quot;full&quot;</td><td>&quot;shift&quot;</td><td>&quot;noExperience&quot;</td></tr><tr><td>&quot;v_2484959&quot;</td><td>&quot;Сборщик-упаков…</td><td>&quot;c_203256&quot;</td><td>&quot;обязанности  с…</td><td>&quot;пользователь п…</td><td>40000</td><td>90000</td><td>&quot;RUR&quot;</td><td>&quot;a_5387&quot;</td><td>&quot;ar_71&quot;</td><td>&quot;full&quot;</td><td>&quot;flexible&quot;</td><td>&quot;noExperience&quot;</td></tr><tr><td>&quot;v_205163&quot;</td><td>&quot;Сварщик на пол…</td><td>&quot;c_158695&quot;</td><td>&quot;оклад 80 000 р…</td><td>&quot;желание работа…</td><td>80000</td><td>130000</td><td>&quot;RUR&quot;</td><td>&quot;a_5527&quot;</td><td>&quot;ar_69&quot;</td><td>&quot;full&quot;</td><td>&quot;fullDay&quot;</td><td>&quot;between1And3&quot;</td></tr><tr><td>&quot;v_639897&quot;</td><td>&quot;Главный инжене…</td><td>&quot;c_209365&quot;</td><td>&quot;компания мобил…</td><td>&quot;контроль испра…</td><td>200000</td><td>200000</td><td>&quot;RUR&quot;</td><td>&quot;a_1756&quot;</td><td>&quot;ar_41&quot;</td><td>&quot;full&quot;</td><td>&quot;fullDay&quot;</td><td>&quot;between1And3&quot;</td></tr><tr><td>&quot;v_1636531&quot;</td><td>&quot;Провизор/Фарма…</td><td>&quot;c_246244&quot;</td><td>&quot;требования   з…</td><td>&quot;предпечатная п…</td><td>25000</td><td>25000</td><td>&quot;RUR&quot;</td><td>&quot;a_3403&quot;</td><td>&quot;ar_60&quot;</td><td>&quot;full&quot;</td><td>&quot;fullDay&quot;</td><td>&quot;noExperience&quot;</td></tr><tr><td>&quot;v_1689739&quot;</td><td>&quot;Продавец-консу…</td><td>&quot;c_73191&quot;</td><td>&quot;обязанности  к…</td><td>&quot;1с: торговля г…</td><td>25000</td><td>25000</td><td>&quot;RUR&quot;</td><td>&quot;a_1690&quot;</td><td>&quot;ar_91&quot;</td><td>&quot;full&quot;</td><td>&quot;fullDay&quot;</td><td>&quot;between1And3&quot;</td></tr></tbody></table></div>"
      ],
      "text/plain": [
       "shape: (2_734_129, 13)\n",
       "┌───────────┬───────────┬───────────┬───────────┬───┬───────────┬───────────┬───────────┬──────────┐\n",
       "│ vacancy_i ┆ name      ┆ company.i ┆ descripti ┆ … ┆ area.regi ┆ employmen ┆ workSched ┆ workExpe │\n",
       "│ d         ┆ ---       ┆ d         ┆ on        ┆   ┆ onId      ┆ t         ┆ ule       ┆ rience   │\n",
       "│ ---       ┆ str       ┆ ---       ┆ ---       ┆   ┆ ---       ┆ ---       ┆ ---       ┆ ---      │\n",
       "│ str       ┆           ┆ str       ┆ str       ┆   ┆ str       ┆ str       ┆ str       ┆ str      │\n",
       "╞═══════════╪═══════════╪═══════════╪═══════════╪═══╪═══════════╪═══════════╪═══════════╪══════════╡\n",
       "│ v_862116  ┆ Смотрител ┆ c_162972  ┆ обязаннос ┆ … ┆ ar_33     ┆ full      ┆ fullDay   ┆ noExperi │\n",
       "│           ┆ ь         ┆           ┆ ти  осуще ┆   ┆           ┆           ┆           ┆ ence     │\n",
       "│           ┆ музейный  ┆           ┆ ствлять   ┆   ┆           ┆           ┆           ┆          │\n",
       "│           ┆           ┆           ┆ контро…   ┆   ┆           ┆           ┆           ┆          │\n",
       "│ v_288642  ┆ Ведущий   ┆ c_208672  ┆ возможно  ┆ … ┆ ar_2      ┆ full      ┆ fullDay   ┆ noExperi │\n",
       "│           ┆ менеджер  ┆           ┆ наша      ┆   ┆           ┆           ┆           ┆ ence     │\n",
       "│           ┆ по работе ┆           ┆ вакансия  ┆   ┆           ┆           ┆           ┆          │\n",
       "│           ┆ с физ…    ┆           ┆ именно    ┆   ┆           ┆           ┆           ┆          │\n",
       "│           ┆           ┆           ┆ та…       ┆   ┆           ┆           ┆           ┆          │\n",
       "│ v_1840054 ┆ Бухгалтер ┆ c_198109  ┆ обязаннос ┆ … ┆ ar_78     ┆ full      ┆ fullDay   ┆ between3 │\n",
       "│           ┆ (по       ┆           ┆ ти        ┆   ┆           ┆           ┆           ┆ And6     │\n",
       "│           ┆ расчету   ┆           ┆ расчет    ┆   ┆           ┆           ┆           ┆          │\n",
       "│           ┆ зарплаты) ┆           ┆ заработно ┆   ┆           ┆           ┆           ┆          │\n",
       "│           ┆           ┆           ┆ й п…      ┆   ┆           ┆           ┆           ┆          │\n",
       "│ v_2346232 ┆ Пекарь    ┆ c_6137    ┆ для       ┆ … ┆ ar_51     ┆ full      ┆ fullDay   ┆ noExperi │\n",
       "│           ┆ (Токсово, ┆           ┆ каждого   ┆   ┆           ┆           ┆           ┆ ence     │\n",
       "│           ┆ Привокзал ┆           ┆ кто хочет ┆   ┆           ┆           ┆           ┆          │\n",
       "│           ┆ ьная, …   ┆           ┆ работать  ┆   ┆           ┆           ┆           ┆          │\n",
       "│           ┆           ┆           ┆ и…        ┆   ┆           ┆           ┆           ┆          │\n",
       "│ …         ┆ …         ┆ …         ┆ …         ┆ … ┆ …         ┆ …         ┆ …         ┆ …        │\n",
       "│ v_205163  ┆ Сварщик   ┆ c_158695  ┆ оклад 80  ┆ … ┆ ar_69     ┆ full      ┆ fullDay   ┆ between1 │\n",
       "│           ┆ на полуав ┆           ┆ 000       ┆   ┆           ┆           ┆           ┆ And3     │\n",
       "│           ┆ томат     ┆           ┆ рублей в  ┆   ┆           ┆           ┆           ┆          │\n",
       "│           ┆           ┆           ┆ связи с   ┆   ┆           ┆           ┆           ┆          │\n",
       "│           ┆           ┆           ┆ ув…       ┆   ┆           ┆           ┆           ┆          │\n",
       "│ v_639897  ┆ Главный   ┆ c_209365  ┆ компания  ┆ … ┆ ar_41     ┆ full      ┆ fullDay   ┆ between1 │\n",
       "│           ┆ инженер / ┆           ┆ мобильный ┆   ┆           ┆           ┆           ┆ And3     │\n",
       "│           ┆ Техническ ┆           ┆ дом       ┆   ┆           ┆           ┆           ┆          │\n",
       "│           ┆ ий ди…    ┆           ┆ лидер в … ┆   ┆           ┆           ┆           ┆          │\n",
       "│ v_1636531 ┆ Провизор/ ┆ c_246244  ┆ требовани ┆ … ┆ ar_60     ┆ full      ┆ fullDay   ┆ noExperi │\n",
       "│           ┆ Фармацевт ┆           ┆ я   закон ┆   ┆           ┆           ┆           ┆ ence     │\n",
       "│           ┆ (г.Адыгей ┆           ┆ ченное    ┆   ┆           ┆           ┆           ┆          │\n",
       "│           ┆ ск, …     ┆           ┆ высшеес…  ┆   ┆           ┆           ┆           ┆          │\n",
       "│ v_1689739 ┆ Продавец- ┆ c_73191   ┆ обязаннос ┆ … ┆ ar_91     ┆ full      ┆ fullDay   ┆ between1 │\n",
       "│           ┆ консульта ┆           ┆ ти  консу ┆   ┆           ┆           ┆           ┆ And3     │\n",
       "│           ┆ нт в      ┆           ┆ льтирован ┆   ┆           ┆           ┆           ┆          │\n",
       "│           ┆ магазин   ┆           ┆ ие по…    ┆   ┆           ┆           ┆           ┆          │\n",
       "│           ┆ б…        ┆           ┆           ┆   ┆           ┆           ┆           ┆          │\n",
       "└───────────┴───────────┴───────────┴───────────┴───┴───────────┴───────────┴───────────┴──────────┘"
      ]
     },
     "execution_count": 16,
     "metadata": {},
     "output_type": "execute_result"
    }
   ],
   "source": [
    "vacancies"
   ]
  },
  {
   "cell_type": "code",
   "execution_count": 20,
   "metadata": {},
   "outputs": [
    {
     "data": {
      "text/html": [
       "<div><style>\n",
       ".dataframe > thead > tr > th,\n",
       ".dataframe > tbody > tr > td {\n",
       "  text-align: right;\n",
       "  white-space: pre-wrap;\n",
       "}\n",
       "</style>\n",
       "<small>shape: (222, 13)</small><table border=\"1\" class=\"dataframe\"><thead><tr><th>vacancy_id</th><th>name</th><th>company.id</th><th>description</th><th>keySkills.keySkill</th><th>compensation.from</th><th>compensation.to</th><th>compensation.currencyCode</th><th>area.id</th><th>area.regionId</th><th>employment</th><th>workSchedule</th><th>workExperience</th></tr><tr><td>str</td><td>str</td><td>str</td><td>str</td><td>str</td><td>i64</td><td>i64</td><td>str</td><td>str</td><td>str</td><td>str</td><td>str</td><td>str</td></tr></thead><tbody><tr><td>&quot;v_1222387&quot;</td><td>&quot;Специалист слу…</td><td>&quot;c_160874&quot;</td><td>&quot;пользователи я…</td><td>null</td><td>5530000</td><td>5530000</td><td>&quot;UZS&quot;</td><td>&quot;a_3964&quot;</td><td>null</td><td>&quot;full&quot;</td><td>&quot;remote&quot;</td><td>&quot;noExperience&quot;</td></tr><tr><td>&quot;v_2337785&quot;</td><td>&quot;Менеджер по lu…</td><td>&quot;c_112093&quot;</td><td>&quot;в компании bor…</td><td>null</td><td>8000000</td><td>8000000</td><td>&quot;UZS&quot;</td><td>&quot;a_3964&quot;</td><td>null</td><td>&quot;full&quot;</td><td>&quot;fullDay&quot;</td><td>&quot;between3And6&quot;</td></tr><tr><td>&quot;v_446072&quot;</td><td>&quot;Региональный м…</td><td>&quot;c_42112&quot;</td><td>&quot;обязанности  п…</td><td>null</td><td>8000000</td><td>10000000</td><td>&quot;UZS&quot;</td><td>&quot;a_3964&quot;</td><td>null</td><td>&quot;full&quot;</td><td>&quot;fullDay&quot;</td><td>&quot;between3And6&quot;</td></tr><tr><td>&quot;v_540297&quot;</td><td>&quot;Ведущий инжене…</td><td>&quot;c_173551&quot;</td><td>&quot;обязанности  р…</td><td>&quot;разработка про…</td><td>8000000</td><td>8000000</td><td>&quot;UZS&quot;</td><td>&quot;a_3964&quot;</td><td>null</td><td>&quot;full&quot;</td><td>&quot;fullDay&quot;</td><td>&quot;between3And6&quot;</td></tr><tr><td>&quot;v_875594&quot;</td><td>&quot;Специалист слу…</td><td>&quot;c_160874&quot;</td><td>&quot;пользователи я…</td><td>null</td><td>5530000</td><td>5530000</td><td>&quot;UZS&quot;</td><td>&quot;a_6221&quot;</td><td>null</td><td>&quot;full&quot;</td><td>&quot;remote&quot;</td><td>&quot;noExperience&quot;</td></tr><tr><td>&quot;v_440966&quot;</td><td>&quot;Промоутер-конс…</td><td>&quot;c_146958&quot;</td><td>&quot;обязанности  п…</td><td>null</td><td>2500000</td><td>8700000</td><td>&quot;UZS&quot;</td><td>&quot;a_3964&quot;</td><td>null</td><td>&quot;full&quot;</td><td>&quot;fullDay&quot;</td><td>&quot;noExperience&quot;</td></tr><tr><td>&quot;v_1594879&quot;</td><td>&quot;Офис-менеджер&quot;</td><td>&quot;c_39683&quot;</td><td>&quot;в новый соврем…</td><td>&quot;розничная торг…</td><td>5000000</td><td>5000000</td><td>&quot;UZS&quot;</td><td>&quot;a_3964&quot;</td><td>null</td><td>&quot;full&quot;</td><td>&quot;fullDay&quot;</td><td>&quot;between1And3&quot;</td></tr><tr><td>&quot;v_2220635&quot;</td><td>&quot;Менеджер по пр…</td><td>&quot;c_243045&quot;</td><td>&quot;яндекседа – эт…</td><td>&quot;деловое общени…</td><td>1</td><td>7200000</td><td>&quot;UZS&quot;</td><td>&quot;a_5141&quot;</td><td>null</td><td>&quot;full&quot;</td><td>&quot;remote&quot;</td><td>&quot;between1And3&quot;</td></tr><tr><td>&quot;v_849781&quot;</td><td>&quot;Менеджер по ра…</td><td>&quot;c_104754&quot;</td><td>&quot;компания vian …</td><td>&quot;клиентоориенти…</td><td>6500000</td><td>6500000</td><td>&quot;UZS&quot;</td><td>&quot;a_3964&quot;</td><td>null</td><td>&quot;full&quot;</td><td>&quot;fullDay&quot;</td><td>&quot;between1And3&quot;</td></tr><tr><td>&quot;v_901765&quot;</td><td>&quot;Упаковщик&quot;</td><td>&quot;c_213514&quot;</td><td>&quot;обязанности  i…</td><td>null</td><td>7225000</td><td>11222000</td><td>&quot;UZS&quot;</td><td>&quot;a_4421&quot;</td><td>null</td><td>&quot;full&quot;</td><td>&quot;fullDay&quot;</td><td>&quot;noExperience&quot;</td></tr><tr><td>&quot;v_2414212&quot;</td><td>&quot;Курьер, подраб…</td><td>&quot;c_127963&quot;</td><td>&quot;нет комиссий г…</td><td>null</td><td>6000000</td><td>10000000</td><td>&quot;UZS&quot;</td><td>&quot;a_3964&quot;</td><td>null</td><td>&quot;part&quot;</td><td>&quot;flexible&quot;</td><td>&quot;noExperience&quot;</td></tr><tr><td>&quot;v_1640116&quot;</td><td>&quot;Старший кредит…</td><td>&quot;c_46967&quot;</td><td>&quot;обязанности  к…</td><td>&quot;потребительски…</td><td>7000000</td><td>7000000</td><td>&quot;UZS&quot;</td><td>&quot;a_3964&quot;</td><td>null</td><td>&quot;full&quot;</td><td>&quot;fullDay&quot;</td><td>&quot;moreThan6&quot;</td></tr><tr><td>&hellip;</td><td>&hellip;</td><td>&hellip;</td><td>&hellip;</td><td>&hellip;</td><td>&hellip;</td><td>&hellip;</td><td>&hellip;</td><td>&hellip;</td><td>&hellip;</td><td>&hellip;</td><td>&hellip;</td><td>&hellip;</td></tr><tr><td>&quot;v_392997&quot;</td><td>&quot;Торговый предс…</td><td>&quot;c_232160&quot;</td><td>&quot;функциональные…</td><td>null</td><td>5500000</td><td>8800000</td><td>&quot;UZS&quot;</td><td>&quot;a_5109&quot;</td><td>null</td><td>&quot;full&quot;</td><td>&quot;fullDay&quot;</td><td>&quot;between1And3&quot;</td></tr><tr><td>&quot;v_765299&quot;</td><td>&quot;Promoter of HO…</td><td>&quot;c_72510&quot;</td><td>&quot;обязанности  в…</td><td>null</td><td>1500000</td><td>6000000</td><td>&quot;UZS&quot;</td><td>&quot;a_1034&quot;</td><td>null</td><td>&quot;full&quot;</td><td>&quot;fullDay&quot;</td><td>&quot;between1And3&quot;</td></tr><tr><td>&quot;v_2007848&quot;</td><td>&quot;Engil buyurtma…</td><td>&quot;c_57121&quot;</td><td>&quot;toshkent hudud…</td><td>null</td><td>1</td><td>10000000</td><td>&quot;UZS&quot;</td><td>&quot;a_3964&quot;</td><td>null</td><td>&quot;part&quot;</td><td>&quot;fullDay&quot;</td><td>&quot;noExperience&quot;</td></tr><tr><td>&quot;v_1539030&quot;</td><td>&quot;Грузчик-компле…</td><td>&quot;c_213514&quot;</td><td>&quot;работа вахтовы…</td><td>&quot;работа в коман…</td><td>8500000</td><td>11000000</td><td>&quot;UZS&quot;</td><td>&quot;a_2277&quot;</td><td>null</td><td>&quot;full&quot;</td><td>&quot;flyInFlyOut&quot;</td><td>&quot;noExperience&quot;</td></tr><tr><td>&quot;v_1781718&quot;</td><td>&quot;Специалист по …</td><td>&quot;c_160874&quot;</td><td>&quot;яндекседа — эт…</td><td>&quot;телефонные пер…</td><td>3950000</td><td>4740000</td><td>&quot;UZS&quot;</td><td>&quot;a_6680&quot;</td><td>null</td><td>&quot;full&quot;</td><td>&quot;remote&quot;</td><td>&quot;noExperience&quot;</td></tr><tr><td>&quot;v_345316&quot;</td><td>&quot;Вечерний Курье…</td><td>&quot;c_217125&quot;</td><td>&quot;курьер подрабо…</td><td>null</td><td>8000000</td><td>10000000</td><td>&quot;UZS&quot;</td><td>&quot;a_3964&quot;</td><td>null</td><td>&quot;part&quot;</td><td>&quot;flexible&quot;</td><td>&quot;noExperience&quot;</td></tr><tr><td>&quot;v_1892821&quot;</td><td>&quot;Бухгалтер&quot;</td><td>&quot;c_260211&quot;</td><td>&quot;мы — команда s…</td><td>&quot;1с: предприяти…</td><td>3000000</td><td>3000000</td><td>&quot;UZS&quot;</td><td>&quot;a_3964&quot;</td><td>null</td><td>&quot;part&quot;</td><td>&quot;fullDay&quot;</td><td>&quot;between1And3&quot;</td></tr><tr><td>&quot;v_799126&quot;</td><td>&quot;Руководитель о…</td><td>&quot;c_193999&quot;</td><td>&quot; важно данная …</td><td>&quot;навыки перегов…</td><td>15000000</td><td>15000000</td><td>&quot;UZS&quot;</td><td>&quot;a_3964&quot;</td><td>null</td><td>&quot;full&quot;</td><td>&quot;fullDay&quot;</td><td>&quot;between3And6&quot;</td></tr><tr><td>&quot;v_576398&quot;</td><td>&quot;Специалист по …</td><td>&quot;c_251917&quot;</td><td>&quot;quickcall  меж…</td><td>null</td><td>5000000</td><td>10000000</td><td>&quot;UZS&quot;</td><td>&quot;a_3964&quot;</td><td>null</td><td>&quot;full&quot;</td><td>&quot;fullDay&quot;</td><td>&quot;between1And3&quot;</td></tr><tr><td>&quot;v_275976&quot;</td><td>&quot;Региональный м…</td><td>&quot;c_42112&quot;</td><td>&quot;обязанности   …</td><td>null</td><td>6000000</td><td>8000000</td><td>&quot;UZS&quot;</td><td>&quot;a_1034&quot;</td><td>null</td><td>&quot;full&quot;</td><td>&quot;fullDay&quot;</td><td>&quot;between3And6&quot;</td></tr><tr><td>&quot;v_2346110&quot;</td><td>&quot;Менеджер по пр…</td><td>&quot;c_104790&quot;</td><td>&quot;будем рады при…</td><td>&quot;развитие прода…</td><td>7500000</td><td>7500000</td><td>&quot;UZS&quot;</td><td>&quot;a_3964&quot;</td><td>null</td><td>&quot;full&quot;</td><td>&quot;fullDay&quot;</td><td>&quot;between1And3&quot;</td></tr><tr><td>&quot;v_931232&quot;</td><td>&quot;Менеджер по пр…</td><td>&quot;c_112093&quot;</td><td>&quot;обязанности  п…</td><td>null</td><td>8000000</td><td>8000000</td><td>&quot;UZS&quot;</td><td>&quot;a_3964&quot;</td><td>null</td><td>&quot;full&quot;</td><td>&quot;fullDay&quot;</td><td>&quot;between3And6&quot;</td></tr></tbody></table></div>"
      ],
      "text/plain": [
       "shape: (222, 13)\n",
       "┌───────────┬───────────┬───────────┬───────────┬───┬───────────┬───────────┬───────────┬──────────┐\n",
       "│ vacancy_i ┆ name      ┆ company.i ┆ descripti ┆ … ┆ area.regi ┆ employmen ┆ workSched ┆ workExpe │\n",
       "│ d         ┆ ---       ┆ d         ┆ on        ┆   ┆ onId      ┆ t         ┆ ule       ┆ rience   │\n",
       "│ ---       ┆ str       ┆ ---       ┆ ---       ┆   ┆ ---       ┆ ---       ┆ ---       ┆ ---      │\n",
       "│ str       ┆           ┆ str       ┆ str       ┆   ┆ str       ┆ str       ┆ str       ┆ str      │\n",
       "╞═══════════╪═══════════╪═══════════╪═══════════╪═══╪═══════════╪═══════════╪═══════════╪══════════╡\n",
       "│ v_1222387 ┆ Специалис ┆ c_160874  ┆ пользоват ┆ … ┆ null      ┆ full      ┆ remote    ┆ noExperi │\n",
       "│           ┆ т службы  ┆           ┆ ели       ┆   ┆           ┆           ┆           ┆ ence     │\n",
       "│           ┆ поддержки ┆           ┆ яндекс go ┆   ┆           ┆           ┆           ┆          │\n",
       "│           ┆ (экс…     ┆           ┆ ежедневно ┆   ┆           ┆           ┆           ┆          │\n",
       "│           ┆           ┆           ┆ …         ┆   ┆           ┆           ┆           ┆          │\n",
       "│ v_2337785 ┆ Менеджер  ┆ c_112093  ┆ в         ┆ … ┆ null      ┆ full      ┆ fullDay   ┆ between3 │\n",
       "│           ┆ по luxe-п ┆           ┆ компании  ┆   ┆           ┆           ┆           ┆ And6     │\n",
       "│           ┆ родажам   ┆           ┆ bork      ┆   ┆           ┆           ┆           ┆          │\n",
       "│           ┆ (Tashk…   ┆           ┆ открыт    ┆   ┆           ┆           ┆           ┆          │\n",
       "│           ┆           ┆           ┆ конкурс   ┆   ┆           ┆           ┆           ┆          │\n",
       "│           ┆           ┆           ┆ н…        ┆   ┆           ┆           ┆           ┆          │\n",
       "│ v_446072  ┆ Региональ ┆ c_42112   ┆ обязаннос ┆ … ┆ null      ┆ full      ┆ fullDay   ┆ between3 │\n",
       "│           ┆ ный       ┆           ┆ ти  промо ┆   ┆           ┆           ┆           ┆ And6     │\n",
       "│           ┆ менеджер  ┆           ┆ утерские  ┆   ┆           ┆           ┆           ┆          │\n",
       "│           ┆           ┆           ┆ прода…    ┆   ┆           ┆           ┆           ┆          │\n",
       "│ v_540297  ┆ Ведущий   ┆ c_173551  ┆ обязаннос ┆ … ┆ null      ┆ full      ┆ fullDay   ┆ between3 │\n",
       "│           ┆ инженер-п ┆           ┆ ти  разра ┆   ┆           ┆           ┆           ┆ And6     │\n",
       "│           ┆ роектиров ┆           ┆ ботка и   ┆   ┆           ┆           ┆           ┆          │\n",
       "│           ┆ щик ОВ…   ┆           ┆ соглас…   ┆   ┆           ┆           ┆           ┆          │\n",
       "│ …         ┆ …         ┆ …         ┆ …         ┆ … ┆ …         ┆ …         ┆ …         ┆ …        │\n",
       "│ v_576398  ┆ Специалис ┆ c_251917  ┆ quickcall ┆ … ┆ null      ┆ full      ┆ fullDay   ┆ between1 │\n",
       "│           ┆ т по      ┆           ┆ междунаро ┆   ┆           ┆           ┆           ┆ And3     │\n",
       "│           ┆ продажам  ┆           ┆ дный      ┆   ┆           ┆           ┆           ┆          │\n",
       "│           ┆ в         ┆           ┆ контакт…  ┆   ┆           ┆           ┆           ┆          │\n",
       "│           ┆ call-це…  ┆           ┆           ┆   ┆           ┆           ┆           ┆          │\n",
       "│ v_275976  ┆ Региональ ┆ c_42112   ┆ обязаннос ┆ … ┆ null      ┆ full      ┆ fullDay   ┆ between3 │\n",
       "│           ┆ ный       ┆           ┆ ти   пром ┆   ┆           ┆           ┆           ┆ And6     │\n",
       "│           ┆ менеджер  ┆           ┆ оутерские ┆   ┆           ┆           ┆           ┆          │\n",
       "│           ┆           ┆           ┆ прод…     ┆   ┆           ┆           ┆           ┆          │\n",
       "│ v_2346110 ┆ Менеджер  ┆ c_104790  ┆ будем     ┆ … ┆ null      ┆ full      ┆ fullDay   ┆ between1 │\n",
       "│           ┆ по        ┆           ┆ рады      ┆   ┆           ┆           ┆           ┆ And3     │\n",
       "│           ┆ продажам  ┆           ┆ принять в ┆   ┆           ┆           ┆           ┆          │\n",
       "│           ┆ автоматик ┆           ┆ команду   ┆   ┆           ┆           ┆           ┆          │\n",
       "│           ┆ и         ┆           ┆ «ме…      ┆   ┆           ┆           ┆           ┆          │\n",
       "│ v_931232  ┆ Менеджер  ┆ c_112093  ┆ обязаннос ┆ … ┆ null      ┆ full      ┆ fullDay   ┆ between3 │\n",
       "│           ┆ по        ┆           ┆ ти        ┆   ┆           ┆           ┆           ┆ And6     │\n",
       "│           ┆ продажам  ┆           ┆ продажи   ┆   ┆           ┆           ┆           ┆          │\n",
       "│           ┆ в интерне ┆           ┆ эксклюзив ┆   ┆           ┆           ┆           ┆          │\n",
       "│           ┆ т-…       ┆           ┆ но…       ┆   ┆           ┆           ┆           ┆          │\n",
       "└───────────┴───────────┴───────────┴───────────┴───┴───────────┴───────────┴───────────┴──────────┘"
      ]
     },
     "execution_count": 20,
     "metadata": {},
     "output_type": "execute_result"
    }
   ],
   "source": [
    "vacancies.filter(pl.col(\"compensation.currencyCode\") == 'UZS')"
   ]
  },
  {
   "cell_type": "markdown",
   "metadata": {},
   "source": [
    "Нужно свести все валюты к одной или исключить вакансии с зарплатой не в рублях!"
   ]
  },
  {
   "cell_type": "code",
   "execution_count": 21,
   "metadata": {},
   "outputs": [
    {
     "data": {
      "text/html": [
       "<div><style>\n",
       ".dataframe > thead > tr > th,\n",
       ".dataframe > tbody > tr > td {\n",
       "  text-align: right;\n",
       "  white-space: pre-wrap;\n",
       "}\n",
       "</style>\n",
       "<small>shape: (10, 1)</small><table border=\"1\" class=\"dataframe\"><thead><tr><th>compensation.currencyCode</th></tr><tr><td>str</td></tr></thead><tbody><tr><td>&quot;BYR&quot;</td></tr><tr><td>&quot;UAH&quot;</td></tr><tr><td>&quot;AZN&quot;</td></tr><tr><td>&quot;KGS&quot;</td></tr><tr><td>&quot;EUR&quot;</td></tr><tr><td>&quot;RUR&quot;</td></tr><tr><td>&quot;KZT&quot;</td></tr><tr><td>&quot;UZS&quot;</td></tr><tr><td>&quot;USD&quot;</td></tr><tr><td>&quot;GEL&quot;</td></tr></tbody></table></div>"
      ],
      "text/plain": [
       "shape: (10, 1)\n",
       "┌───────────────────────────┐\n",
       "│ compensation.currencyCode │\n",
       "│ ---                       │\n",
       "│ str                       │\n",
       "╞═══════════════════════════╡\n",
       "│ BYR                       │\n",
       "│ UAH                       │\n",
       "│ AZN                       │\n",
       "│ KGS                       │\n",
       "│ …                         │\n",
       "│ KZT                       │\n",
       "│ UZS                       │\n",
       "│ USD                       │\n",
       "│ GEL                       │\n",
       "└───────────────────────────┘"
      ]
     },
     "execution_count": 21,
     "metadata": {},
     "output_type": "execute_result"
    }
   ],
   "source": [
    "vacancies.select(['compensation.currencyCode']).unique()"
   ]
  },
  {
   "cell_type": "code",
   "execution_count": 22,
   "metadata": {},
   "outputs": [],
   "source": [
    "currency_rates = {\"UZS\": 0.007269,\n",
    "                  \"KGS\": 1.01,\n",
    "                  \"USD\": 89.69,\n",
    "                  \"GEL\": 33.3,\n",
    "                  \"BYR\": 28.23,\n",
    "                  \"AZN\": 52.76,\n",
    "                  \"KZT\": 0.197708,\n",
    "                  \"UAH\": 2.36,\n",
    "                  \"RUR\": 1.0,\n",
    "                  \"EUR\": 99.19\n",
    "                  }"
   ]
  },
  {
   "cell_type": "markdown",
   "metadata": {},
   "source": [
    "Преобразуем суммы зарплат в соответствии с курсом ЦБ (на 09.01.2023)"
   ]
  },
  {
   "cell_type": "code",
   "execution_count": 23,
   "metadata": {},
   "outputs": [],
   "source": [
    "vacancies = vacancies.rename({\"compensation.currencyCode\": \"currencyRate\", \"compensation.from\": \"compensation_from\", \"compensation.to\": \"compensation_to\"})\n",
    "\n",
    "#vacancies = vacancies.with_columns(currencyRate=pl.col(\"currencyRate\").replace(currency_rates, default=0.0))   # для версии 0.20\n",
    "vacancies = vacancies.with_columns(currencyRate=pl.col(\"currencyRate\").map_dict(currency_rates, default=0.0))   # для версии 0.19\n",
    "\n",
    "\n",
    "vacancies = vacancies.with_columns(compensation_from = pl.col('compensation_from')*pl.col('currencyRate'))\n",
    "vacancies = vacancies.with_columns(compensation_to = pl.col('compensation_to')*pl.col('currencyRate'))"
   ]
  },
  {
   "cell_type": "code",
   "execution_count": 24,
   "metadata": {},
   "outputs": [
    {
     "data": {
      "text/html": [
       "<div><style>\n",
       ".dataframe > thead > tr > th,\n",
       ".dataframe > tbody > tr > td {\n",
       "  text-align: right;\n",
       "  white-space: pre-wrap;\n",
       "}\n",
       "</style>\n",
       "<small>shape: (1, 13)</small><table border=\"1\" class=\"dataframe\"><thead><tr><th>vacancy_id</th><th>name</th><th>company.id</th><th>description</th><th>keySkills.keySkill</th><th>compensation_from</th><th>compensation_to</th><th>currencyRate</th><th>area.id</th><th>area.regionId</th><th>employment</th><th>workSchedule</th><th>workExperience</th></tr><tr><td>str</td><td>str</td><td>str</td><td>str</td><td>str</td><td>f64</td><td>f64</td><td>f64</td><td>str</td><td>str</td><td>str</td><td>str</td><td>str</td></tr></thead><tbody><tr><td>&quot;v_446072&quot;</td><td>&quot;Региональный м…</td><td>&quot;c_42112&quot;</td><td>&quot;обязанности  п…</td><td>null</td><td>58152.0</td><td>72690.0</td><td>0.007269</td><td>&quot;a_3964&quot;</td><td>null</td><td>&quot;full&quot;</td><td>&quot;fullDay&quot;</td><td>&quot;between3And6&quot;</td></tr></tbody></table></div>"
      ],
      "text/plain": [
       "shape: (1, 13)\n",
       "┌───────────┬───────────┬───────────┬───────────┬───┬───────────┬───────────┬───────────┬──────────┐\n",
       "│ vacancy_i ┆ name      ┆ company.i ┆ descripti ┆ … ┆ area.regi ┆ employmen ┆ workSched ┆ workExpe │\n",
       "│ d         ┆ ---       ┆ d         ┆ on        ┆   ┆ onId      ┆ t         ┆ ule       ┆ rience   │\n",
       "│ ---       ┆ str       ┆ ---       ┆ ---       ┆   ┆ ---       ┆ ---       ┆ ---       ┆ ---      │\n",
       "│ str       ┆           ┆ str       ┆ str       ┆   ┆ str       ┆ str       ┆ str       ┆ str      │\n",
       "╞═══════════╪═══════════╪═══════════╪═══════════╪═══╪═══════════╪═══════════╪═══════════╪══════════╡\n",
       "│ v_446072  ┆ Региональ ┆ c_42112   ┆ обязаннос ┆ … ┆ null      ┆ full      ┆ fullDay   ┆ between3 │\n",
       "│           ┆ ный       ┆           ┆ ти  промо ┆   ┆           ┆           ┆           ┆ And6     │\n",
       "│           ┆ менеджер  ┆           ┆ утерские  ┆   ┆           ┆           ┆           ┆          │\n",
       "│           ┆           ┆           ┆ прода…    ┆   ┆           ┆           ┆           ┆          │\n",
       "└───────────┴───────────┴───────────┴───────────┴───┴───────────┴───────────┴───────────┴──────────┘"
      ]
     },
     "execution_count": 24,
     "metadata": {},
     "output_type": "execute_result"
    }
   ],
   "source": [
    "vacancies.filter(pl.col(\"vacancy_id\") == 'v_446072')  # посмотрим что получилось для вакансии с зарплатой в UZS"
   ]
  },
  {
   "cell_type": "code",
   "execution_count": 25,
   "metadata": {},
   "outputs": [],
   "source": [
    "vacancies = vacancies.with_columns(salary_from=(pl.col(\"compensation_from\").log10()*10).floor().cast(pl.Int64).cast(pl.Utf8)                 # Переведем зарплату в символьный вид\n",
    "                                   ).with_columns(salary_to=(pl.col(\"compensation_to\").log10()*10).floor().cast(pl.Int64).cast(pl.Utf8))     # потому что SASRecF не умеет с float"
   ]
  },
  {
   "cell_type": "code",
   "execution_count": 19,
   "metadata": {},
   "outputs": [
    {
     "data": {
      "text/html": [
       "<div><style>\n",
       ".dataframe > thead > tr > th,\n",
       ".dataframe > tbody > tr > td {\n",
       "  text-align: right;\n",
       "  white-space: pre-wrap;\n",
       "}\n",
       "</style>\n",
       "<small>shape: (2_734_129, 15)</small><table border=\"1\" class=\"dataframe\"><thead><tr><th>vacancy_id</th><th>name</th><th>company.id</th><th>description</th><th>keySkills.keySkill</th><th>compensation_from</th><th>compensation_to</th><th>currencyRate</th><th>area.id</th><th>area.regionId</th><th>employment</th><th>workSchedule</th><th>workExperience</th><th>salary_from</th><th>salary_to</th></tr><tr><td>str</td><td>str</td><td>str</td><td>str</td><td>str</td><td>f64</td><td>f64</td><td>f64</td><td>str</td><td>str</td><td>str</td><td>str</td><td>str</td><td>str</td><td>str</td></tr></thead><tbody><tr><td>&quot;v_862116&quot;</td><td>&quot;Смотритель муз…</td><td>&quot;c_162972&quot;</td><td>&quot;обязанности  о…</td><td>&quot;пользователь п…</td><td>16500.0</td><td>16500.0</td><td>1.0</td><td>&quot;a_4761&quot;</td><td>&quot;ar_33&quot;</td><td>&quot;full&quot;</td><td>&quot;fullDay&quot;</td><td>&quot;noExperience&quot;</td><td>&quot;42&quot;</td><td>&quot;42&quot;</td></tr><tr><td>&quot;v_288642&quot;</td><td>&quot;Ведущий менедж…</td><td>&quot;c_208672&quot;</td><td>&quot;возможно наша …</td><td>&quot;активные прода…</td><td>50000.0</td><td>50000.0</td><td>1.0</td><td>&quot;a_744&quot;</td><td>&quot;ar_2&quot;</td><td>&quot;full&quot;</td><td>&quot;fullDay&quot;</td><td>&quot;noExperience&quot;</td><td>&quot;46&quot;</td><td>&quot;46&quot;</td></tr><tr><td>&quot;v_1840054&quot;</td><td>&quot;Бухгалтер (по …</td><td>&quot;c_198109&quot;</td><td>&quot;обязанности  р…</td><td>null</td><td>50000.0</td><td>65000.0</td><td>1.0</td><td>&quot;a_6223&quot;</td><td>&quot;ar_78&quot;</td><td>&quot;full&quot;</td><td>&quot;fullDay&quot;</td><td>&quot;between3And6&quot;</td><td>&quot;46&quot;</td><td>&quot;48&quot;</td></tr><tr><td>&quot;v_2346232&quot;</td><td>&quot;Пекарь (Токсов…</td><td>&quot;c_6137&quot;</td><td>&quot;для каждого кт…</td><td>null</td><td>38500.0</td><td>42000.0</td><td>1.0</td><td>&quot;a_4795&quot;</td><td>&quot;ar_51&quot;</td><td>&quot;full&quot;</td><td>&quot;fullDay&quot;</td><td>&quot;noExperience&quot;</td><td>&quot;45&quot;</td><td>&quot;46&quot;</td></tr><tr><td>&quot;v_312507&quot;</td><td>&quot;Торговый предс…</td><td>&quot;c_206699&quot;</td><td>&quot;компания тд ол…</td><td>&quot;продуктивность…</td><td>60000.0</td><td>60000.0</td><td>1.0</td><td>&quot;a_6837&quot;</td><td>&quot;ar_4&quot;</td><td>&quot;full&quot;</td><td>&quot;fullDay&quot;</td><td>&quot;between1And3&quot;</td><td>&quot;47&quot;</td><td>&quot;47&quot;</td></tr><tr><td>&quot;v_2323706&quot;</td><td>&quot;Менеджер по ка…</td><td>&quot;c_244141&quot;</td><td>&quot;x5 ready food …</td><td>&quot;контроль качес…</td><td>88000.0</td><td>88000.0</td><td>1.0</td><td>&quot;a_5920&quot;</td><td>&quot;ar_64&quot;</td><td>&quot;full&quot;</td><td>&quot;fullDay&quot;</td><td>&quot;between1And3&quot;</td><td>&quot;49&quot;</td><td>&quot;49&quot;</td></tr><tr><td>&quot;v_704266&quot;</td><td>&quot;Менеджер по пр…</td><td>&quot;c_192038&quot;</td><td>&quot;если ты ищешь …</td><td>&quot;активные прода…</td><td>30000.0</td><td>100000.0</td><td>1.0</td><td>&quot;a_5398&quot;</td><td>&quot;ar_71&quot;</td><td>&quot;full&quot;</td><td>&quot;fullDay&quot;</td><td>&quot;between1And3&quot;</td><td>&quot;44&quot;</td><td>&quot;50&quot;</td></tr><tr><td>&quot;v_525733&quot;</td><td>&quot;Врач по ЛФК&quot;</td><td>&quot;c_5101&quot;</td><td>&quot;обязанности  в…</td><td>null</td><td>1.0</td><td>1.0</td><td>1.0</td><td>&quot;a_5043&quot;</td><td>&quot;ar_96&quot;</td><td>&quot;full&quot;</td><td>&quot;fullDay&quot;</td><td>&quot;between3And6&quot;</td><td>&quot;0&quot;</td><td>&quot;0&quot;</td></tr><tr><td>&quot;v_2091086&quot;</td><td>&quot;Монтажник СТиЖ…</td><td>&quot;c_230890&quot;</td><td>&quot;строительная к…</td><td>null</td><td>100000.0</td><td>100000.0</td><td>1.0</td><td>&quot;a_500&quot;</td><td>&quot;ar_36&quot;</td><td>&quot;full&quot;</td><td>&quot;flyInFlyOut&quot;</td><td>&quot;between1And3&quot;</td><td>&quot;50&quot;</td><td>&quot;50&quot;</td></tr><tr><td>&quot;v_839657&quot;</td><td>&quot;Подсобный рабо…</td><td>&quot;c_192370&quot;</td><td>&quot;о компании бру…</td><td>&quot;умение работат…</td><td>50000.0</td><td>50000.0</td><td>1.0</td><td>&quot;a_2649&quot;</td><td>&quot;ar_44&quot;</td><td>&quot;full&quot;</td><td>&quot;fullDay&quot;</td><td>&quot;noExperience&quot;</td><td>&quot;46&quot;</td><td>&quot;46&quot;</td></tr><tr><td>&quot;v_2485961&quot;</td><td>&quot;Домработница/Д…</td><td>&quot;c_133807&quot;</td><td>&quot;обязанности уб…</td><td>&quot;уборка, стирка…</td><td>65000.0</td><td>75000.0</td><td>1.0</td><td>&quot;a_1756&quot;</td><td>&quot;ar_41&quot;</td><td>&quot;full&quot;</td><td>&quot;fullDay&quot;</td><td>&quot;moreThan6&quot;</td><td>&quot;48&quot;</td><td>&quot;48&quot;</td></tr><tr><td>&quot;v_468073&quot;</td><td>&quot;Врач-офтальмол…</td><td>&quot;c_213052&quot;</td><td>&quot;в связи с расш…</td><td>&quot;медицинская до…</td><td>150000.0</td><td>150000.0</td><td>1.0</td><td>&quot;a_2755&quot;</td><td>&quot;ar_87&quot;</td><td>&quot;full&quot;</td><td>&quot;fullDay&quot;</td><td>&quot;between1And3&quot;</td><td>&quot;51&quot;</td><td>&quot;51&quot;</td></tr><tr><td>&hellip;</td><td>&hellip;</td><td>&hellip;</td><td>&hellip;</td><td>&hellip;</td><td>&hellip;</td><td>&hellip;</td><td>&hellip;</td><td>&hellip;</td><td>&hellip;</td><td>&hellip;</td><td>&hellip;</td><td>&hellip;</td><td>&hellip;</td><td>&hellip;</td></tr><tr><td>&quot;v_1741629&quot;</td><td>&quot;Оператор парко…</td><td>&quot;c_85559&quot;</td><td>&quot;чем предстоит …</td><td>&quot;парковочная си…</td><td>40000.0</td><td>42000.0</td><td>1.0</td><td>&quot;a_5398&quot;</td><td>&quot;ar_71&quot;</td><td>&quot;full&quot;</td><td>&quot;shift&quot;</td><td>&quot;noExperience&quot;</td><td>&quot;46&quot;</td><td>&quot;46&quot;</td></tr><tr><td>&quot;v_1841986&quot;</td><td>&quot;Маркетолог-ана…</td><td>&quot;c_44564&quot;</td><td>&quot;а групп – одна…</td><td>null</td><td>55128.0</td><td>71666.0</td><td>1.0</td><td>&quot;a_2649&quot;</td><td>&quot;ar_44&quot;</td><td>&quot;full&quot;</td><td>&quot;fullDay&quot;</td><td>&quot;between3And6&quot;</td><td>&quot;47&quot;</td><td>&quot;48&quot;</td></tr><tr><td>&quot;v_272395&quot;</td><td>&quot;Оператор полиг…</td><td>&quot;c_77277&quot;</td><td>&quot;обязанности же…</td><td>&quot;работа в коман…</td><td>45000.0</td><td>45000.0</td><td>1.0</td><td>&quot;a_2431&quot;</td><td>&quot;ar_64&quot;</td><td>&quot;full&quot;</td><td>&quot;fullDay&quot;</td><td>&quot;noExperience&quot;</td><td>&quot;46&quot;</td><td>&quot;46&quot;</td></tr><tr><td>&quot;v_2082311&quot;</td><td>&quot;Слесарь механо…</td><td>&quot;c_167337&quot;</td><td>&quot;работа вахтовы…</td><td>null</td><td>115000.0</td><td>115000.0</td><td>1.0</td><td>&quot;a_61&quot;</td><td>&quot;ar_25&quot;</td><td>&quot;full&quot;</td><td>&quot;flyInFlyOut&quot;</td><td>&quot;between1And3&quot;</td><td>&quot;50&quot;</td><td>&quot;50&quot;</td></tr><tr><td>&quot;v_292464&quot;</td><td>&quot;Ведущий бухгал…</td><td>&quot;c_138929&quot;</td><td>&quot;«premier basic…</td><td>null</td><td>100000.0</td><td>100000.0</td><td>1.0</td><td>&quot;a_4284&quot;</td><td>&quot;ar_23&quot;</td><td>&quot;full&quot;</td><td>&quot;fullDay&quot;</td><td>&quot;between1And3&quot;</td><td>&quot;50&quot;</td><td>&quot;50&quot;</td></tr><tr><td>&quot;v_704468&quot;</td><td>&quot;Водитель-экспе…</td><td>&quot;c_17061&quot;</td><td>&quot;в крупную стаб…</td><td>&quot;приемка груза …</td><td>90000.0</td><td>90000.0</td><td>1.0</td><td>&quot;a_6223&quot;</td><td>&quot;ar_78&quot;</td><td>&quot;full&quot;</td><td>&quot;fullDay&quot;</td><td>&quot;between1And3&quot;</td><td>&quot;49&quot;</td><td>&quot;49&quot;</td></tr><tr><td>&quot;v_496189&quot;</td><td>&quot;Продавец-касси…</td><td>&quot;c_33309&quot;</td><td>&quot;магазин товаро…</td><td>&quot;работа с кассо…</td><td>21000.0</td><td>21000.0</td><td>1.0</td><td>&quot;a_343&quot;</td><td>&quot;ar_38&quot;</td><td>&quot;full&quot;</td><td>&quot;shift&quot;</td><td>&quot;noExperience&quot;</td><td>&quot;43&quot;</td><td>&quot;43&quot;</td></tr><tr><td>&quot;v_2484959&quot;</td><td>&quot;Сборщик-упаков…</td><td>&quot;c_203256&quot;</td><td>&quot;обязанности  с…</td><td>&quot;пользователь п…</td><td>40000.0</td><td>90000.0</td><td>1.0</td><td>&quot;a_5387&quot;</td><td>&quot;ar_71&quot;</td><td>&quot;full&quot;</td><td>&quot;flexible&quot;</td><td>&quot;noExperience&quot;</td><td>&quot;46&quot;</td><td>&quot;49&quot;</td></tr><tr><td>&quot;v_205163&quot;</td><td>&quot;Сварщик на пол…</td><td>&quot;c_158695&quot;</td><td>&quot;оклад 80 000 р…</td><td>&quot;желание работа…</td><td>80000.0</td><td>130000.0</td><td>1.0</td><td>&quot;a_5527&quot;</td><td>&quot;ar_69&quot;</td><td>&quot;full&quot;</td><td>&quot;fullDay&quot;</td><td>&quot;between1And3&quot;</td><td>&quot;49&quot;</td><td>&quot;51&quot;</td></tr><tr><td>&quot;v_639897&quot;</td><td>&quot;Главный инжене…</td><td>&quot;c_209365&quot;</td><td>&quot;компания мобил…</td><td>&quot;контроль испра…</td><td>200000.0</td><td>200000.0</td><td>1.0</td><td>&quot;a_1756&quot;</td><td>&quot;ar_41&quot;</td><td>&quot;full&quot;</td><td>&quot;fullDay&quot;</td><td>&quot;between1And3&quot;</td><td>&quot;53&quot;</td><td>&quot;53&quot;</td></tr><tr><td>&quot;v_1636531&quot;</td><td>&quot;Провизор/Фарма…</td><td>&quot;c_246244&quot;</td><td>&quot;требования   з…</td><td>&quot;предпечатная п…</td><td>25000.0</td><td>25000.0</td><td>1.0</td><td>&quot;a_3403&quot;</td><td>&quot;ar_60&quot;</td><td>&quot;full&quot;</td><td>&quot;fullDay&quot;</td><td>&quot;noExperience&quot;</td><td>&quot;43&quot;</td><td>&quot;43&quot;</td></tr><tr><td>&quot;v_1689739&quot;</td><td>&quot;Продавец-консу…</td><td>&quot;c_73191&quot;</td><td>&quot;обязанности  к…</td><td>&quot;1с: торговля г…</td><td>25000.0</td><td>25000.0</td><td>1.0</td><td>&quot;a_1690&quot;</td><td>&quot;ar_91&quot;</td><td>&quot;full&quot;</td><td>&quot;fullDay&quot;</td><td>&quot;between1And3&quot;</td><td>&quot;43&quot;</td><td>&quot;43&quot;</td></tr></tbody></table></div>"
      ],
      "text/plain": [
       "shape: (2_734_129, 15)\n",
       "┌───────────┬───────────┬───────────┬───────────┬───┬───────────┬───────────┬───────────┬──────────┐\n",
       "│ vacancy_i ┆ name      ┆ company.i ┆ descripti ┆ … ┆ workSched ┆ workExper ┆ salary_fr ┆ salary_t │\n",
       "│ d         ┆ ---       ┆ d         ┆ on        ┆   ┆ ule       ┆ ience     ┆ om        ┆ o        │\n",
       "│ ---       ┆ str       ┆ ---       ┆ ---       ┆   ┆ ---       ┆ ---       ┆ ---       ┆ ---      │\n",
       "│ str       ┆           ┆ str       ┆ str       ┆   ┆ str       ┆ str       ┆ str       ┆ str      │\n",
       "╞═══════════╪═══════════╪═══════════╪═══════════╪═══╪═══════════╪═══════════╪═══════════╪══════════╡\n",
       "│ v_862116  ┆ Смотрител ┆ c_162972  ┆ обязаннос ┆ … ┆ fullDay   ┆ noExperie ┆ 42        ┆ 42       │\n",
       "│           ┆ ь         ┆           ┆ ти  осуще ┆   ┆           ┆ nce       ┆           ┆          │\n",
       "│           ┆ музейный  ┆           ┆ ствлять   ┆   ┆           ┆           ┆           ┆          │\n",
       "│           ┆           ┆           ┆ контро…   ┆   ┆           ┆           ┆           ┆          │\n",
       "│ v_288642  ┆ Ведущий   ┆ c_208672  ┆ возможно  ┆ … ┆ fullDay   ┆ noExperie ┆ 46        ┆ 46       │\n",
       "│           ┆ менеджер  ┆           ┆ наша      ┆   ┆           ┆ nce       ┆           ┆          │\n",
       "│           ┆ по работе ┆           ┆ вакансия  ┆   ┆           ┆           ┆           ┆          │\n",
       "│           ┆ с физ…    ┆           ┆ именно    ┆   ┆           ┆           ┆           ┆          │\n",
       "│           ┆           ┆           ┆ та…       ┆   ┆           ┆           ┆           ┆          │\n",
       "│ v_1840054 ┆ Бухгалтер ┆ c_198109  ┆ обязаннос ┆ … ┆ fullDay   ┆ between3A ┆ 46        ┆ 48       │\n",
       "│           ┆ (по       ┆           ┆ ти        ┆   ┆           ┆ nd6       ┆           ┆          │\n",
       "│           ┆ расчету   ┆           ┆ расчет    ┆   ┆           ┆           ┆           ┆          │\n",
       "│           ┆ зарплаты) ┆           ┆ заработно ┆   ┆           ┆           ┆           ┆          │\n",
       "│           ┆           ┆           ┆ й п…      ┆   ┆           ┆           ┆           ┆          │\n",
       "│ v_2346232 ┆ Пекарь    ┆ c_6137    ┆ для       ┆ … ┆ fullDay   ┆ noExperie ┆ 45        ┆ 46       │\n",
       "│           ┆ (Токсово, ┆           ┆ каждого   ┆   ┆           ┆ nce       ┆           ┆          │\n",
       "│           ┆ Привокзал ┆           ┆ кто хочет ┆   ┆           ┆           ┆           ┆          │\n",
       "│           ┆ ьная, …   ┆           ┆ работать  ┆   ┆           ┆           ┆           ┆          │\n",
       "│           ┆           ┆           ┆ и…        ┆   ┆           ┆           ┆           ┆          │\n",
       "│ …         ┆ …         ┆ …         ┆ …         ┆ … ┆ …         ┆ …         ┆ …         ┆ …        │\n",
       "│ v_205163  ┆ Сварщик   ┆ c_158695  ┆ оклад 80  ┆ … ┆ fullDay   ┆ between1A ┆ 49        ┆ 51       │\n",
       "│           ┆ на полуав ┆           ┆ 000       ┆   ┆           ┆ nd3       ┆           ┆          │\n",
       "│           ┆ томат     ┆           ┆ рублей в  ┆   ┆           ┆           ┆           ┆          │\n",
       "│           ┆           ┆           ┆ связи с   ┆   ┆           ┆           ┆           ┆          │\n",
       "│           ┆           ┆           ┆ ув…       ┆   ┆           ┆           ┆           ┆          │\n",
       "│ v_639897  ┆ Главный   ┆ c_209365  ┆ компания  ┆ … ┆ fullDay   ┆ between1A ┆ 53        ┆ 53       │\n",
       "│           ┆ инженер / ┆           ┆ мобильный ┆   ┆           ┆ nd3       ┆           ┆          │\n",
       "│           ┆ Техническ ┆           ┆ дом       ┆   ┆           ┆           ┆           ┆          │\n",
       "│           ┆ ий ди…    ┆           ┆ лидер в … ┆   ┆           ┆           ┆           ┆          │\n",
       "│ v_1636531 ┆ Провизор/ ┆ c_246244  ┆ требовани ┆ … ┆ fullDay   ┆ noExperie ┆ 43        ┆ 43       │\n",
       "│           ┆ Фармацевт ┆           ┆ я   закон ┆   ┆           ┆ nce       ┆           ┆          │\n",
       "│           ┆ (г.Адыгей ┆           ┆ ченное    ┆   ┆           ┆           ┆           ┆          │\n",
       "│           ┆ ск, …     ┆           ┆ высшеес…  ┆   ┆           ┆           ┆           ┆          │\n",
       "│ v_1689739 ┆ Продавец- ┆ c_73191   ┆ обязаннос ┆ … ┆ fullDay   ┆ between1A ┆ 43        ┆ 43       │\n",
       "│           ┆ консульта ┆           ┆ ти  консу ┆   ┆           ┆ nd3       ┆           ┆          │\n",
       "│           ┆ нт в      ┆           ┆ льтирован ┆   ┆           ┆           ┆           ┆          │\n",
       "│           ┆ магазин   ┆           ┆ ие по…    ┆   ┆           ┆           ┆           ┆          │\n",
       "│           ┆ б…        ┆           ┆           ┆   ┆           ┆           ┆           ┆          │\n",
       "└───────────┴───────────┴───────────┴───────────┴───┴───────────┴───────────┴───────────┴──────────┘"
      ]
     },
     "execution_count": 19,
     "metadata": {},
     "output_type": "execute_result"
    }
   ],
   "source": [
    "vacancies"
   ]
  },
  {
   "cell_type": "code",
   "execution_count": 26,
   "metadata": {},
   "outputs": [
    {
     "data": {
      "text/html": [
       "<div><style>\n",
       ".dataframe > thead > tr > th,\n",
       ".dataframe > tbody > tr > td {\n",
       "  text-align: right;\n",
       "  white-space: pre-wrap;\n",
       "}\n",
       "</style>\n",
       "<small>shape: (5, 1)</small><table border=\"1\" class=\"dataframe\"><thead><tr><th>employment</th></tr><tr><td>str</td></tr></thead><tbody><tr><td>&quot;part&quot;</td></tr><tr><td>&quot;volunteer&quot;</td></tr><tr><td>&quot;project&quot;</td></tr><tr><td>&quot;full&quot;</td></tr><tr><td>&quot;probation&quot;</td></tr></tbody></table></div>"
      ],
      "text/plain": [
       "shape: (5, 1)\n",
       "┌────────────┐\n",
       "│ employment │\n",
       "│ ---        │\n",
       "│ str        │\n",
       "╞════════════╡\n",
       "│ part       │\n",
       "│ volunteer  │\n",
       "│ project    │\n",
       "│ full       │\n",
       "│ probation  │\n",
       "└────────────┘"
      ]
     },
     "execution_count": 26,
     "metadata": {},
     "output_type": "execute_result"
    }
   ],
   "source": [
    "vacancies.select(['employment']).unique()"
   ]
  },
  {
   "cell_type": "markdown",
   "metadata": {},
   "source": [
    "# SASRec"
   ]
  },
  {
   "cell_type": "markdown",
   "metadata": {},
   "source": [
    "https://recbole.io/docs/user_guide/data_intro.html\n",
    "\n",
    "https://recbole.io/docs/user_guide/data/atomic_files.html\n",
    "\n",
    "https://recbole.io/docs/user_guide/usage/use_modules.html\n",
    "\n",
    "https://www.recbole.io/docs/user_guide/model/sequential/sasrec.html"
   ]
  },
  {
   "cell_type": "code",
   "execution_count": 38,
   "metadata": {},
   "outputs": [],
   "source": [
    "'''\n",
    "unique_users = train['user_id'].unique().to_list()\n",
    "unique_vacancies = train['vacancy_id'].explode().unique().to_list()\n",
    "\n",
    "user2idx = {user_id: idx for idx, user_id in enumerate(unique_users)}\n",
    "vac2idx = {vac_id: idx for idx, vac_id in enumerate(unique_vacancies)}\n",
    "\n",
    "idx2vac = {idx: vac_id for vac_id, idx in vac2idx.items()}\n",
    "'''\n",
    "\n",
    "action_weights = {\n",
    "    1: 4.0,\n",
    "    2: 1.0,\n",
    "    3: 2.0\n",
    "}\n",
    "\n",
    "pairs = train.select(['user_id', 'vacancy_id', 'action_type', 'action_dt']).explode(['vacancy_id', 'action_type', 'action_dt'])"
   ]
  },
  {
   "cell_type": "code",
   "execution_count": 39,
   "metadata": {},
   "outputs": [
    {
     "data": {
      "text/html": [
       "<div><style>\n",
       ".dataframe > thead > tr > th,\n",
       ".dataframe > tbody > tr > td {\n",
       "  text-align: right;\n",
       "  white-space: pre-wrap;\n",
       "}\n",
       "</style>\n",
       "<small>shape: (18_143_261, 4)</small><table border=\"1\" class=\"dataframe\"><thead><tr><th>user_id</th><th>vacancy_id</th><th>action_type</th><th>action_dt</th></tr><tr><td>str</td><td>str</td><td>i64</td><td>datetime[ns]</td></tr></thead><tbody><tr><td>&quot;u_1057881&quot;</td><td>&quot;v_665861&quot;</td><td>2</td><td>2023-11-01 00:23:51.452</td></tr><tr><td>&quot;u_1036784&quot;</td><td>&quot;v_2594840&quot;</td><td>2</td><td>2023-11-01 00:52:34.023</td></tr><tr><td>&quot;u_786220&quot;</td><td>&quot;v_1473781&quot;</td><td>1</td><td>2023-11-01 00:58:20.793</td></tr><tr><td>&quot;u_786220&quot;</td><td>&quot;v_1622905&quot;</td><td>2</td><td>2023-11-01 01:17:04.774</td></tr><tr><td>&quot;u_786220&quot;</td><td>&quot;v_1621959&quot;</td><td>2</td><td>2023-11-01 00:54:00.360</td></tr><tr><td>&quot;u_786220&quot;</td><td>&quot;v_2289180&quot;</td><td>2</td><td>2023-11-01 01:16:05.415</td></tr><tr><td>&quot;u_786220&quot;</td><td>&quot;v_1473781&quot;</td><td>2</td><td>2023-11-01 00:55:32.149</td></tr><tr><td>&quot;u_786220&quot;</td><td>&quot;v_1719419&quot;</td><td>2</td><td>2023-11-01 01:09:54.498</td></tr><tr><td>&quot;u_786220&quot;</td><td>&quot;v_2654062&quot;</td><td>2</td><td>2023-11-01 01:00:50.537</td></tr><tr><td>&quot;u_786220&quot;</td><td>&quot;v_838039&quot;</td><td>2</td><td>2023-11-01 01:13:06.202</td></tr><tr><td>&quot;u_786220&quot;</td><td>&quot;v_810392&quot;</td><td>2</td><td>2023-11-01 00:52:50.255</td></tr><tr><td>&quot;u_786220&quot;</td><td>&quot;v_154052&quot;</td><td>2</td><td>2023-11-01 01:08:18.932</td></tr><tr><td>&hellip;</td><td>&hellip;</td><td>&hellip;</td><td>&hellip;</td></tr><tr><td>&quot;u_847738&quot;</td><td>&quot;v_1562269&quot;</td><td>2</td><td>2023-11-17 13:41:45.457</td></tr><tr><td>&quot;u_847738&quot;</td><td>&quot;v_2548403&quot;</td><td>2</td><td>2023-11-17 13:43:57.098</td></tr><tr><td>&quot;u_847738&quot;</td><td>&quot;v_2220317&quot;</td><td>2</td><td>2023-11-17 13:44:28.859</td></tr><tr><td>&quot;u_847738&quot;</td><td>&quot;v_237225&quot;</td><td>2</td><td>2023-11-17 13:45:53.244</td></tr><tr><td>&quot;u_847738&quot;</td><td>&quot;v_1068070&quot;</td><td>2</td><td>2023-11-17 13:46:59.630</td></tr><tr><td>&quot;u_847738&quot;</td><td>&quot;v_1547887&quot;</td><td>2</td><td>2023-11-17 14:03:43.951</td></tr><tr><td>&quot;u_847738&quot;</td><td>&quot;v_1068070&quot;</td><td>2</td><td>2023-11-17 14:05:57.907</td></tr><tr><td>&quot;u_847738&quot;</td><td>&quot;v_1302840&quot;</td><td>2</td><td>2023-11-17 14:07:52.939</td></tr><tr><td>&quot;u_847738&quot;</td><td>&quot;v_1302840&quot;</td><td>1</td><td>2023-11-17 14:08:31.661</td></tr><tr><td>&quot;u_847738&quot;</td><td>&quot;v_1247305&quot;</td><td>2</td><td>2023-11-17 14:23:48.421</td></tr><tr><td>&quot;u_847738&quot;</td><td>&quot;v_1764585&quot;</td><td>2</td><td>2023-11-17 14:27:15.268</td></tr><tr><td>&quot;u_847738&quot;</td><td>&quot;v_1462102&quot;</td><td>2</td><td>2023-11-17 14:27:46.817</td></tr></tbody></table></div>"
      ],
      "text/plain": [
       "shape: (18_143_261, 4)\n",
       "┌───────────┬────────────┬─────────────┬─────────────────────────┐\n",
       "│ user_id   ┆ vacancy_id ┆ action_type ┆ action_dt               │\n",
       "│ ---       ┆ ---        ┆ ---         ┆ ---                     │\n",
       "│ str       ┆ str        ┆ i64         ┆ datetime[ns]            │\n",
       "╞═══════════╪════════════╪═════════════╪═════════════════════════╡\n",
       "│ u_1057881 ┆ v_665861   ┆ 2           ┆ 2023-11-01 00:23:51.452 │\n",
       "│ u_1036784 ┆ v_2594840  ┆ 2           ┆ 2023-11-01 00:52:34.023 │\n",
       "│ u_786220  ┆ v_1473781  ┆ 1           ┆ 2023-11-01 00:58:20.793 │\n",
       "│ u_786220  ┆ v_1622905  ┆ 2           ┆ 2023-11-01 01:17:04.774 │\n",
       "│ …         ┆ …          ┆ …           ┆ …                       │\n",
       "│ u_847738  ┆ v_1302840  ┆ 1           ┆ 2023-11-17 14:08:31.661 │\n",
       "│ u_847738  ┆ v_1247305  ┆ 2           ┆ 2023-11-17 14:23:48.421 │\n",
       "│ u_847738  ┆ v_1764585  ┆ 2           ┆ 2023-11-17 14:27:15.268 │\n",
       "│ u_847738  ┆ v_1462102  ┆ 2           ┆ 2023-11-17 14:27:46.817 │\n",
       "└───────────┴────────────┴─────────────┴─────────────────────────┘"
      ]
     },
     "execution_count": 39,
     "metadata": {},
     "output_type": "execute_result"
    }
   ],
   "source": [
    "pairs"
   ]
  },
  {
   "cell_type": "markdown",
   "metadata": {},
   "source": [
    "## Теперь для ALS подготовим матрицу"
   ]
  },
  {
   "cell_type": "code",
   "execution_count": 40,
   "metadata": {},
   "outputs": [],
   "source": [
    "unique_users = train['user_id'].unique().to_list()\n",
    "unique_vacancies = train['vacancy_id'].explode().unique().to_list()\n",
    "\n",
    "user2idx = {user_id: idx for idx, user_id in enumerate(unique_users)}\n",
    "vac2idx = {vac_id: idx for idx, vac_id in enumerate(unique_vacancies)}\n",
    "\n",
    "idx2vac = {idx: vac_id for vac_id, idx in vac2idx.items()}\n",
    "action_weights = {\n",
    "    1: 4.0,\n",
    "    2: 1.0,\n",
    "    3: 2.0\n",
    "}\n",
    "\n",
    "users_list = pairs['user_id'].map_dict(user2idx, default=None).to_numpy()     # это для версии 0.19, для 0.20 надо .replace\n",
    "vacancies_list = pairs['vacancy_id'].map_dict(vac2idx, default=None).to_numpy()\n",
    "preferences = pairs['action_type'].map_dict(action_weights, default=None).to_numpy()"
   ]
  },
  {
   "cell_type": "code",
   "execution_count": null,
   "metadata": {},
   "outputs": [],
   "source": [
    "# это для версии 0.20\n",
    "#users_list = pairs['user_id'].replace(user2idx, default=None).to_numpy()\n",
    "#vacancies_list = pairs['vacancy_id'].replace(vac2idx, default=None).to_numpy()\n",
    "#preferences = pairs['action_type'].replace(action_weights, default=None).to_numpy()"
   ]
  },
  {
   "cell_type": "code",
   "execution_count": 41,
   "metadata": {},
   "outputs": [],
   "source": [
    "uv_mat = csr_matrix((preferences, (users_list, vacancies_list)))   # (data, (row_ind, col_ind)"
   ]
  },
  {
   "cell_type": "markdown",
   "metadata": {},
   "source": [
    "### а результат предобработки юзеров и вакансий запишем в датасет формата Recbole"
   ]
  },
  {
   "cell_type": "code",
   "execution_count": 35,
   "metadata": {},
   "outputs": [],
   "source": [
    "def conv_date(source_date):\n",
    "    return datetime.datetime.timestamp(source_date)"
   ]
  },
  {
   "cell_type": "code",
   "execution_count": 36,
   "metadata": {},
   "outputs": [],
   "source": [
    "if not os.path.exists(DATASET_NAME):\n",
    "    os.mkdir(DATASET_NAME)"
   ]
  },
  {
   "cell_type": "code",
   "execution_count": 34,
   "metadata": {},
   "outputs": [],
   "source": [
    "# для версии 0.19\n",
    "\n",
    "p = pairs.with_columns(action_dt=pl.col(\"action_dt\").map_elements(conv_date)\n",
    "                   ).with_columns(action_type=pl.col(\"action_type\").map_dict(action_weights, default=0.0)\n",
    "                                  ).rename({\"user_id\": \"user_id:token\", \"vacancy_id\": \"vacancy_id:token\", \"action_type\": \"action_type:float\", \"action_dt\": \"timestamp:float\"}\n",
    "                                  ).write_csv(\"./\" + DATASET_NAME + \"/hh_recsys.inter\", separator=\"\\t\")\n"
   ]
  },
  {
   "cell_type": "code",
   "execution_count": null,
   "metadata": {},
   "outputs": [],
   "source": [
    "# для версии 0.20\n",
    "\n",
    "pairs.with_columns(action_dt=pl.col(\"action_dt\").map_elements(conv_date)\n",
    "                   ).with_columns(action_type=pl.col(\"action_type\").replace(action_weights, default=0.0)\n",
    "                                  ).rename({\"user_id\": \"user_id:token\", \"vacancy_id\": \"vacancy_id:token\", \"action_type\": \"action_type:float\", \"action_dt\": \"timestamp:float\"}\n",
    "                                           ).write_csv(\"./\" + DATASET_NAME + \"/hh_recsys.inter\", include_header=True, separator=\"\\t\")"
   ]
  },
  {
   "cell_type": "code",
   "execution_count": 35,
   "metadata": {},
   "outputs": [],
   "source": [
    "# для версии 0.19\n",
    "\n",
    "vacancies.rename({\"vacancy_id\": \"vacancy_id:token\", \"name\": \"name:token_seq\", \"company.id\": \"company_id:token\", \"description\": \"description:token_seq\", \n",
    "                                 \"keySkills.keySkill\": \"keySkills:token_seq\", \"compensation_from\": \"compensation_from:float\", \"compensation_to\": \"compensation_to:float\", \n",
    "                                 \"currencyRate\": \"currencyRate:float\", \"area.id\": \"area_id:token\", \"area.regionId\": \"area_regionId:token\", \n",
    "                                 \"employment\": \"employment:token\", \"workSchedule\": \"workSchedule:token\", \"workExperience\": \"workExperience:token\",\n",
    "                                 \"salary_from\": \"salary_from:token\", \"salary_to\": \"salary_to:token\"}                                 \n",
    "                                 ).write_csv(\"./\" + DATASET_NAME + \"/hh_recsys.item\", separator=\"\\t\")"
   ]
  },
  {
   "cell_type": "code",
   "execution_count": null,
   "metadata": {},
   "outputs": [],
   "source": [
    "# для версии 0.20\n",
    "\n",
    "vacancies.with_columns(pl.col(\"keySkills.keySkill\").cast(pl.List(pl.Utf8)).list.join(\", \")\n",
    "                       ).rename({\"vacancy_id\": \"vacancy_id:token\", \"name\": \"name:token_seq\", \"company.id\": \"company_id:token\", \"description\": \"description:token_seq\", \n",
    "                                 \"keySkills.keySkill\": \"keySkills:token_seq\", \"compensation_from\": \"compensation_from:float\", \"compensation_to\": \"compensation_to:float\", \n",
    "                                 \"currencyRate\": \"currencyRate:float\", \"area.id\": \"area_id:token\", \"area.regionId\": \"area_regionId:token\", \n",
    "                                 \"employment\": \"employment:token\", \"workSchedule\": \"workSchedule:token\", \"workExperience\": \"workExperience:token\",\n",
    "                                 \"salary_from\": \"salary_from:token\", \"salary_to\": \"salary_to:token\"}\n",
    "                                 ).write_csv(\"./\" + DATASET_NAME + \"/hh_recsys.item\", include_header=True, separator=\"\\t\")"
   ]
  },
  {
   "cell_type": "markdown",
   "metadata": {},
   "source": [
    "Можно начинать с этой точки, если датасет уже сформирован"
   ]
  },
  {
   "cell_type": "code",
   "execution_count": 3,
   "metadata": {},
   "outputs": [],
   "source": [
    "parameter_dict = {\n",
    "    'data_path': './',\n",
    "    'USER_ID_FIELD': 'user_id',\n",
    "    'ITEM_ID_FIELD': 'vacancy_id',\n",
    "    'RATING_FIELD': 'action_type',\n",
    "    'TIME_FIELD': 'timestamp',\n",
    "#    'MAX_ITEM_LIST_LENGTH': 30,  # для Caser    \n",
    "#    'user_inter_num_interval': \"[1,inf)\",\n",
    "#    'item_inter_num_interval': \"[0,inf)\",\n",
    "    'user_inter_num_interval': \"[10,inf)\",\n",
    "#    'seq_len': {'vacancy_id': 10}, # попробуем последовательности не больше 10. Так ли???\n",
    "#    'MAX_ITEM_LIST_LENGTH': 10,    \n",
    "    'load_col': {'inter': ['user_id', 'vacancy_id', 'action_type', 'timestamp'],\n",
    "#                 'user': ['user_id'],\n",
    "                 'item': ['vacancy_id', 'name', 'company_id', 'keySkills', 'salary_from', 'salary_to', 'area_id', 'area_regionId', 'employment', 'workSchedule', 'workExperience' ]},  # не все, но на большее не хватает памяти\n",
    "#                 'item': ['vacancy_id', 'name', 'company_id', 'keySkills', 'compensation_from', 'area_regionId', 'employment', 'workSchedule', 'workExperience' ]},  # не все, но на большее не хватает памяти\n",
    "#    'selected_features': ['name', 'company_id', 'keySkills', 'compensation_from', 'compensation_to', 'area_id', 'area_regionId', 'employment', 'workSchedule', 'workExperience' ],\n",
    "#    'selected_features': ['name', 'company_id', 'keySkills'], - ок\n",
    "#    'selected_features': ['compensation_from', 'compensation_to'], # mat1 and mat2 shapes cannot be multiplied (10x256 and 320x64)  или RuntimeError: torch.cat(): expected a non-empty list of Tensors\n",
    "#    'selected_features': ['name', 'company_id', 'keySkills', 'area_id', 'area_regionId', 'employment', 'workSchedule', 'workExperience' ],\n",
    "    'selected_features': ['name', 'company_id', 'keySkills', 'area_id', 'area_regionId', 'employment', 'workSchedule', 'workExperience', 'salary_from', 'salary_to'],\n",
    "#    'numerical_features': ['compensation_from', 'compensation_to'],\n",
    "#    'normalize_all': True,\n",
    "    'neg_sampling': None,\n",
    "    'train_neg_sample_args': None,\n",
    "    'worker': 8,   # на vm66\n",
    "    'train_batch_size': 1024,\n",
    "    'eval_batch_size': 1024,\n",
    "    'epochs': 5,\n",
    "    'use_gpu': False,\n",
    "#    'metrics': ['Recall', 'MRR', 'NDCG', 'Hit', 'Precision'],\n",
    "    'metrics': ['Recall', 'MRR'],\n",
    "    'loss_type': 'CE',\n",
    "#    'train_neg_sample_args': {'uniform': 1},  # для TransRec  \n",
    "#    'loss_type': 'BPR',  # для FPMC\n",
    "#    'train_neg_sample_args': {'distribution': 'uniform', 'sample_num': 1},  # для FPMC\n",
    "    'reproducibility': False,   # для HRM или SHAN\n",
    "    'topk': 100,\n",
    "    'valid_metric': 'MRR@100',\n",
    "    \"stopping_step\": 2, # останавливаем обучение если в течение этого кол-ва эпох не было улучшения валидационной метрики\n",
    "    'hidden_size': 64,  # по дефолту 64\n",
    "    'inner_size': 256,  # по дефолту 256\n",
    "    'hidden_dropout_prob': 0.3,  # 0.5\n",
    "    'attn_dropout_prob': 0.3,    # 0.5\n",
    "    'seed': 42,\n",
    "    'eval_args': {\n",
    "        'split': {'RS': [10, 0, 0]},  # 8,1,1 ?\n",
    "#        'split': {'RS': [0.95, 0.03, 0.02]},  # 8,1,1 ?\n",
    "        'group_by': 'user',\n",
    "        'order': 'TO',\n",
    "        'mode': 'full'}  #  labeled ??\n",
    "}"
   ]
  },
  {
   "cell_type": "markdown",
   "metadata": {},
   "source": [
    "train_batch_size: 2048  по дефолту<br>\n",
    "eval_batch_size: 4096"
   ]
  },
  {
   "cell_type": "code",
   "execution_count": null,
   "metadata": {},
   "outputs": [],
   "source": [
    "config = Config(model='SASRec', dataset=DATASET_NAME, config_dict=parameter_dict)"
   ]
  },
  {
   "cell_type": "code",
   "execution_count": null,
   "metadata": {},
   "outputs": [],
   "source": [
    "config = Config(model='SLIMElastic', dataset=DATASET_NAME, config_dict=parameter_dict)"
   ]
  },
  {
   "cell_type": "code",
   "execution_count": null,
   "metadata": {},
   "outputs": [],
   "source": [
    "hh_recsys_dataset = create_dataset(config)"
   ]
  },
  {
   "cell_type": "code",
   "execution_count": null,
   "metadata": {},
   "outputs": [],
   "source": [
    "hh_recsys_dataset # это 30 и 50, датасет объединенный с test"
   ]
  },
  {
   "cell_type": "code",
   "execution_count": null,
   "metadata": {},
   "outputs": [],
   "source": [
    "# hh_recsys_dataset # это 10 и 15 и цепочки max 10, датасет объединенный с test"
   ]
  },
  {
   "cell_type": "code",
   "execution_count": null,
   "metadata": {},
   "outputs": [],
   "source": [
    "# hh_recsys_dataset  # это 10 и 15"
   ]
  },
  {
   "cell_type": "code",
   "execution_count": null,
   "metadata": {},
   "outputs": [],
   "source": [
    "# hh_recsys_dataset   # это полный"
   ]
  },
  {
   "cell_type": "code",
   "execution_count": null,
   "metadata": {},
   "outputs": [],
   "source": [
    "# train_data, valid_data, test_data = data_preparation(config, hh_recsys_dataset)   # работает 8 минут"
   ]
  },
  {
   "cell_type": "code",
   "execution_count": 4,
   "metadata": {},
   "outputs": [
    {
     "name": "stderr",
     "output_type": "stream",
     "text": [
      "06 Feb 09:10    INFO  ['/home/vm66/.local/lib/python3.9/site-packages/ipykernel_launcher.py', '--f=/home/vm66/.local/share/jupyter/runtime/kernel-v2-30242733iY1MzJsTy4m.json']\n",
      "06 Feb 09:10    INFO  \n",
      "General Hyper Parameters:\n",
      "gpu_id = 0\n",
      "use_gpu = False\n",
      "seed = 42\n",
      "state = INFO\n",
      "reproducibility = False\n",
      "data_path = ./hh_recsys\n",
      "checkpoint_dir = saved\n",
      "show_progress = True\n",
      "save_dataset = False\n",
      "dataset_save_path = None\n",
      "save_dataloaders = False\n",
      "dataloaders_save_path = None\n",
      "log_wandb = False\n",
      "\n",
      "Training Hyper Parameters:\n",
      "epochs = 5\n",
      "train_batch_size = 1024\n",
      "learner = adam\n",
      "learning_rate = 0.001\n",
      "train_neg_sample_args = {'distribution': 'none', 'sample_num': 'none', 'alpha': 'none', 'dynamic': False, 'candidate_num': 0}\n",
      "eval_step = 1\n",
      "stopping_step = 2\n",
      "clip_grad_norm = None\n",
      "weight_decay = 0.0\n",
      "loss_decimal_place = 4\n",
      "\n",
      "Evaluation Hyper Parameters:\n",
      "eval_args = {'split': {'RS': [10, 0, 0]}, 'order': 'TO', 'group_by': 'user', 'mode': {'valid': 'full', 'test': 'full'}}\n",
      "repeatable = True\n",
      "metrics = ['Recall', 'MRR']\n",
      "topk = [100]\n",
      "valid_metric = MRR@100\n",
      "valid_metric_bigger = True\n",
      "eval_batch_size = 1024\n",
      "metric_decimal_place = 4\n",
      "\n",
      "Dataset Hyper Parameters:\n",
      "field_separator = \t\n",
      "seq_separator =  \n",
      "USER_ID_FIELD = user_id\n",
      "ITEM_ID_FIELD = vacancy_id\n",
      "RATING_FIELD = action_type\n",
      "TIME_FIELD = timestamp\n",
      "seq_len = None\n",
      "LABEL_FIELD = label\n",
      "threshold = None\n",
      "NEG_PREFIX = neg_\n",
      "load_col = {'inter': ['user_id', 'vacancy_id', 'action_type', 'timestamp'], 'item': ['vacancy_id', 'name', 'company_id', 'keySkills', 'salary_from', 'salary_to', 'area_id', 'area_regionId', 'employment', 'workSchedule', 'workExperience']}\n",
      "unload_col = None\n",
      "unused_col = None\n",
      "additional_feat_suffix = None\n",
      "rm_dup_inter = None\n",
      "val_interval = None\n",
      "filter_inter_by_user_or_item = True\n",
      "user_inter_num_interval = [10,inf)\n",
      "item_inter_num_interval = [0,inf)\n",
      "alias_of_user_id = None\n",
      "alias_of_item_id = None\n",
      "alias_of_entity_id = None\n",
      "alias_of_relation_id = None\n",
      "preload_weight = None\n",
      "normalize_field = None\n",
      "normalize_all = None\n",
      "ITEM_LIST_LENGTH_FIELD = item_length\n",
      "LIST_SUFFIX = _list\n",
      "MAX_ITEM_LIST_LENGTH = 50\n",
      "POSITION_FIELD = position_id\n",
      "HEAD_ENTITY_ID_FIELD = head_id\n",
      "TAIL_ENTITY_ID_FIELD = tail_id\n",
      "RELATION_ID_FIELD = relation_id\n",
      "ENTITY_ID_FIELD = entity_id\n",
      "benchmark_filename = None\n",
      "\n",
      "Other Hyper Parameters: \n",
      "worker = 8\n",
      "wandb_project = recbole\n",
      "shuffle = True\n",
      "require_pow = False\n",
      "enable_amp = False\n",
      "enable_scaler = False\n",
      "transform = None\n",
      "embedding_size = 64\n",
      "layer_norm_eps = 1e-12\n",
      "prototype_size = 50\n",
      "interest_size = 3\n",
      "tau_ratio = 0.1\n",
      "reg_loss_ratio = 0.5\n",
      "loss_type = CE\n",
      "numerical_features = []\n",
      "discretization = None\n",
      "kg_reverse_r = False\n",
      "entity_kg_num_interval = [0,inf)\n",
      "relation_kg_num_interval = [0,inf)\n",
      "MODEL_TYPE = ModelType.SEQUENTIAL\n",
      "selected_features = ['name', 'company_id', 'keySkills', 'area_id', 'area_regionId', 'employment', 'workSchedule', 'workExperience', 'salary_from', 'salary_to']\n",
      "neg_sampling = None\n",
      "hidden_size = 64\n",
      "inner_size = 256\n",
      "hidden_dropout_prob = 0.3\n",
      "attn_dropout_prob = 0.3\n",
      "MODEL_INPUT_TYPE = InputType.PAIRWISE\n",
      "eval_type = EvaluatorType.RANKING\n",
      "single_spec = True\n",
      "local_rank = 0\n",
      "device = cpu\n",
      "valid_neg_sample_args = {'distribution': 'uniform', 'sample_num': 'none'}\n",
      "test_neg_sample_args = {'distribution': 'uniform', 'sample_num': 'none'}\n",
      "\n",
      "\n",
      "06 Feb 09:15    INFO  hh_recsys\n",
      "The number of users: 385133\n",
      "Average actions of users: 42.388404495082206\n",
      "The number of items: 2734130\n",
      "Average actions of items: 12.329879987613573\n",
      "The number of inters: 16325131\n",
      "The sparsity of the dataset: 99.99844966060746%\n",
      "Remain Fields: ['user_id', 'vacancy_id', 'action_type', 'timestamp', 'name', 'company_id', 'keySkills', 'area_id', 'area_regionId', 'employment', 'workSchedule', 'workExperience', 'salary_from', 'salary_to']\n",
      "06 Feb 09:22    INFO  [Training]: train_batch_size = [1024] train_neg_sample_args: [{'distribution': 'none', 'sample_num': 'none', 'alpha': 'none', 'dynamic': False, 'candidate_num': 0}]\n",
      "06 Feb 09:22    INFO  [Evaluation]: eval_batch_size = [1024] eval_args: [{'split': {'RS': [10, 0, 0]}, 'order': 'TO', 'group_by': 'user', 'mode': {'valid': 'full', 'test': 'full'}}]\n",
      "06 Feb 09:22    INFO  SINE(\n",
      "  (loss_fct): CrossEntropyLoss()\n",
      "  (C): Embedding(50, 64)\n",
      "  (item_embedding): Embedding(2734130, 64, padding_idx=0)\n",
      "  (ln2): LayerNorm((64,), eps=1e-12, elementwise_affine=True)\n",
      "  (ln4): LayerNorm((64,), eps=1e-12, elementwise_affine=True)\n",
      ")\n",
      "Trainable parameters: 175008576\n",
      "06 Feb 09:22    INFO  FLOPs: 3968.0\n",
      "Train     0:   0%|                                                        | 0/15567 [00:00<?, ?it/s]"
     ]
    },
    {
     "ename": "",
     "evalue": "",
     "output_type": "error",
     "traceback": [
      "\u001b[1;31mThe Kernel crashed while executing code in the the current cell or a previous cell. Please review the code in the cell(s) to identify a possible cause of the failure. Click <a href='https://aka.ms/vscodeJupyterKernelCrash'>here</a> for more info. View Jupyter <a href='command:jupyter.viewOutput'>log</a> for further details."
     ]
    }
   ],
   "source": [
    "#run_recbole(model='SASRecF', dataset=DATASET_NAME, config_dict=parameter_dict)\n",
    "run_recbole(model='SINE', dataset=DATASET_NAME, config_dict=parameter_dict)"
   ]
  },
  {
   "cell_type": "markdown",
   "metadata": {},
   "source": [
    "Надо будет использовать full_sort_topk ?\n",
    "\n",
    "как описано тут: https://recbole.io/docs/user_guide/usage/case_study.html  <br>\n",
    "и тут: https://www.kaggle.com/code/astrung/recbole-lstm-sequential-for-recomendation-tutorial\n",
    "\n",
    "Или методы модели https://recbole.io/docs/recbole/recbole.model.sequential_recommender.sasrec.html"
   ]
  },
  {
   "cell_type": "code",
   "execution_count": null,
   "metadata": {},
   "outputs": [],
   "source": [
    "samples = pl.read_parquet(\"./hh_recsys_sample.pq\")"
   ]
  },
  {
   "cell_type": "code",
   "execution_count": null,
   "metadata": {},
   "outputs": [],
   "source": [
    "samples"
   ]
  },
  {
   "cell_type": "markdown",
   "metadata": {},
   "source": [
    "в т.ч. можно использовать для загрузки при обрыве"
   ]
  },
  {
   "cell_type": "code",
   "execution_count": 1,
   "metadata": {},
   "outputs": [
    {
     "name": "stdout",
     "output_type": "stream",
     "text": [
      "ALS-200-fulldata.npz\t\t  SASRec-Jan-04-2024_07-58-21.pth\n",
      "ALS-200-fulldata.pkl\t\t  SASRec-Jan-06-2024_02-07-14.pth\n",
      "FPMC-Jan-14-2024_15-27-07.pth\t  SASRec-Jan-16-2024_01-44-14.pth\n",
      "ItemKNN-Jan-23-2024_15-30-10.pth  SHAN-Jan-10-2024_12-13-04.pth\n",
      "ItemKNN-Jan-26-2024_15-20-50.pth  SINE-Jan-23-2024_18-05-07.pth\n",
      "SASRecF-Jan-27-2024_15-13-17.pth\n"
     ]
    }
   ],
   "source": [
    "!ls saved"
   ]
  },
  {
   "cell_type": "code",
   "execution_count": 3,
   "metadata": {},
   "outputs": [],
   "source": [
    "!ls models-gpu"
   ]
  },
  {
   "cell_type": "markdown",
   "metadata": {},
   "source": [
    "Следующая ячейка выполняется 12 минут."
   ]
  },
  {
   "cell_type": "code",
   "execution_count": null,
   "metadata": {},
   "outputs": [],
   "source": [
    "model_cpu = torch.load('models-gpu/HRM-Jan-11-2024_18-18-49.pth', map_location=torch.device('cpu'))"
   ]
  },
  {
   "cell_type": "code",
   "execution_count": null,
   "metadata": {},
   "outputs": [],
   "source": [
    "torch.save(model_cpu, \"saved/HRM-Jan-11-2024_18-18-49.pth\")"
   ]
  },
  {
   "cell_type": "code",
   "execution_count": 54,
   "metadata": {},
   "outputs": [
    {
     "name": "stderr",
     "output_type": "stream",
     "text": [
      "01 Feb 17:10    INFO  \n",
      "General Hyper Parameters:\n",
      "gpu_id = 0\n",
      "use_gpu = False\n",
      "seed = 42\n",
      "state = INFO\n",
      "reproducibility = True\n",
      "data_path = ./hh_recsys\n",
      "checkpoint_dir = saved\n",
      "show_progress = True\n",
      "save_dataset = False\n",
      "dataset_save_path = None\n",
      "save_dataloaders = False\n",
      "dataloaders_save_path = None\n",
      "log_wandb = False\n",
      "\n",
      "Training Hyper Parameters:\n",
      "epochs = 5\n",
      "train_batch_size = 1024\n",
      "learner = adam\n",
      "learning_rate = 0.001\n",
      "train_neg_sample_args = {'distribution': 'none', 'sample_num': 'none', 'alpha': 'none', 'dynamic': False, 'candidate_num': 0}\n",
      "eval_step = 1\n",
      "stopping_step = 2\n",
      "clip_grad_norm = None\n",
      "weight_decay = 0.0\n",
      "loss_decimal_place = 4\n",
      "\n",
      "Evaluation Hyper Parameters:\n",
      "eval_args = {'split': {'RS': [0.95, 0.03, 0.02]}, 'order': 'TO', 'group_by': 'user', 'mode': {'valid': 'full', 'test': 'full'}}\n",
      "repeatable = True\n",
      "metrics = ['Recall', 'MRR']\n",
      "topk = [100]\n",
      "valid_metric = MRR@100\n",
      "valid_metric_bigger = True\n",
      "eval_batch_size = 1024\n",
      "metric_decimal_place = 4\n",
      "\n",
      "Dataset Hyper Parameters:\n",
      "field_separator = \t\n",
      "seq_separator =  \n",
      "USER_ID_FIELD = user_id\n",
      "ITEM_ID_FIELD = vacancy_id\n",
      "RATING_FIELD = action_type\n",
      "TIME_FIELD = timestamp\n",
      "seq_len = {'vacancy_id': 10}\n",
      "LABEL_FIELD = label\n",
      "threshold = None\n",
      "NEG_PREFIX = neg_\n",
      "load_col = {'inter': ['user_id', 'vacancy_id', 'action_type', 'timestamp'], 'item': ['vacancy_id', 'name', 'company_id', 'keySkills', 'salary_from', 'salary_to', 'area_id', 'area_regionId', 'employment', 'workSchedule', 'workExperience']}\n",
      "unload_col = None\n",
      "unused_col = None\n",
      "additional_feat_suffix = None\n",
      "rm_dup_inter = None\n",
      "val_interval = None\n",
      "filter_inter_by_user_or_item = True\n",
      "user_inter_num_interval = [10,inf)\n",
      "item_inter_num_interval = [15,inf)\n",
      "alias_of_user_id = None\n",
      "alias_of_item_id = None\n",
      "alias_of_entity_id = None\n",
      "alias_of_relation_id = None\n",
      "preload_weight = None\n",
      "normalize_field = None\n",
      "normalize_all = None\n",
      "ITEM_LIST_LENGTH_FIELD = item_length\n",
      "LIST_SUFFIX = _list\n",
      "MAX_ITEM_LIST_LENGTH = 10\n",
      "POSITION_FIELD = position_id\n",
      "HEAD_ENTITY_ID_FIELD = head_id\n",
      "TAIL_ENTITY_ID_FIELD = tail_id\n",
      "RELATION_ID_FIELD = relation_id\n",
      "ENTITY_ID_FIELD = entity_id\n",
      "benchmark_filename = None\n",
      "\n",
      "Other Hyper Parameters: \n",
      "worker = 8\n",
      "wandb_project = recbole\n",
      "shuffle = True\n",
      "require_pow = False\n",
      "enable_amp = False\n",
      "enable_scaler = False\n",
      "transform = None\n",
      "n_layers = 2\n",
      "n_heads = 2\n",
      "hidden_size = 64\n",
      "inner_size = 256\n",
      "hidden_dropout_prob = 0.3\n",
      "attn_dropout_prob = 0.3\n",
      "hidden_act = gelu\n",
      "layer_norm_eps = 1e-12\n",
      "initializer_range = 0.02\n",
      "selected_features = ['name', 'company_id', 'keySkills', 'area_id', 'area_regionId', 'employment', 'workSchedule', 'workExperience', 'salary_from', 'salary_to']\n",
      "pooling_mode = sum\n",
      "loss_type = CE\n",
      "numerical_features = []\n",
      "discretization = None\n",
      "kg_reverse_r = False\n",
      "entity_kg_num_interval = [0,inf)\n",
      "relation_kg_num_interval = [0,inf)\n",
      "MODEL_TYPE = ModelType.SEQUENTIAL\n",
      "neg_sampling = None\n",
      "MODEL_INPUT_TYPE = InputType.POINTWISE\n",
      "eval_type = EvaluatorType.RANKING\n",
      "single_spec = True\n",
      "local_rank = 0\n",
      "device = cpu\n",
      "valid_neg_sample_args = {'distribution': 'uniform', 'sample_num': 'none'}\n",
      "test_neg_sample_args = {'distribution': 'uniform', 'sample_num': 'none'}\n",
      "\n",
      "\n",
      "01 Feb 17:17    INFO  hh_recsys\n",
      "The number of users: 291499\n",
      "Average actions of users: 38.2871237538508\n",
      "The number of items: 214819\n",
      "Average actions of items: 51.953839994786286\n",
      "The number of inters: 11160620\n",
      "The sparsity of the dataset: 99.98217709215284%\n",
      "Remain Fields: ['user_id', 'vacancy_id', 'action_type', 'timestamp', 'name', 'company_id', 'keySkills', 'area_id', 'area_regionId', 'employment', 'workSchedule', 'workExperience', 'salary_from', 'salary_to']\n",
      "01 Feb 17:21    INFO  [Training]: train_batch_size = [1024] train_neg_sample_args: [{'distribution': 'none', 'sample_num': 'none', 'alpha': 'none', 'dynamic': False, 'candidate_num': 0}]\n",
      "01 Feb 17:21    INFO  [Evaluation]: eval_batch_size = [1024] eval_args: [{'split': {'RS': [0.95, 0.03, 0.02]}, 'order': 'TO', 'group_by': 'user', 'mode': {'valid': 'full', 'test': 'full'}}]\n"
     ]
    }
   ],
   "source": [
    "\n",
    "config, model, dataset, train_data, valid_data, test_data = load_data_and_model(\n",
    "    model_file='saved/SASRecF-Jan-27-2024_15-13-17.pth',\n",
    ")"
   ]
  },
  {
   "cell_type": "code",
   "execution_count": null,
   "metadata": {},
   "outputs": [],
   "source": [
    "model_file='saved/HRM-Jan-11-2024_18-18-49.pth'"
   ]
  },
  {
   "cell_type": "code",
   "execution_count": null,
   "metadata": {},
   "outputs": [],
   "source": [
    "import torch"
   ]
  },
  {
   "cell_type": "code",
   "execution_count": null,
   "metadata": {},
   "outputs": [],
   "source": [
    "from recbole.utils import init_seed, init_logger, get_model\n",
    "from logging import getLogger"
   ]
  },
  {
   "cell_type": "code",
   "execution_count": null,
   "metadata": {},
   "outputs": [],
   "source": [
    "# то же самое что load_data_and_model, но вручную и с подменой device\n",
    "checkpoint = torch.load(model_file)\n",
    "config = checkpoint[\"config\"]\n",
    "\n",
    "config[\"use_gpu\"] = False  #  вот и проверим\n",
    "config[\"device\"] = torch.device(\"cpu\")\n",
    "\n",
    "init_seed(config[\"seed\"], config[\"reproducibility\"])\n",
    "init_logger(config)\n",
    "logger = getLogger()\n",
    "logger.info(config)\n",
    "\n",
    "dataset = create_dataset(config)\n",
    "logger.info(dataset)\n",
    "train_data, valid_data, test_data = data_preparation(config, dataset)\n",
    "\n",
    "init_seed(config[\"seed\"], config[\"reproducibility\"])\n",
    "#model = get_model(config[\"model\"])(config, train_data._dataset).to(config[\"device\"])\n",
    "model = get_model(config[\"model\"])(config, train_data._dataset).to(torch.device(\"cpu\"))\n",
    "model.load_state_dict(checkpoint[\"state_dict\"])\n",
    "model.load_other_parameter(checkpoint.get(\"other_parameter\"))"
   ]
  },
  {
   "cell_type": "code",
   "execution_count": 11,
   "metadata": {},
   "outputs": [],
   "source": [
    "config['epochs']=5"
   ]
  },
  {
   "cell_type": "code",
   "execution_count": 12,
   "metadata": {},
   "outputs": [
    {
     "name": "stderr",
     "output_type": "stream",
     "text": [
      "Evaluate   :  99%|███████████████████████████████████████████████▌| 367/370 [06:55<00:04,  1.54s/it]:  99%|███████████████████████████████████████████████▋| 368/370 [06:56<00:02,  1.40s/it]: 100%|███████████████████████████████████████████████▊| 369/370 [06:57<00:01,  1.33s/it]: 100%|████████████████████████████████████████████████| 370/370 [06:58<00:00,  1.21s/it]: 100%|████████████████████████████████████████████████| 370/370 [06:58<00:00,  1.13s/it]\n",
      "28 Jan 23:03    INFO  epoch 4 evaluating [time: 420.02s, valid_score: 0.165300]\n",
      "28 Jan 23:03    INFO  valid result: \n",
      "recall@100 : 0.5724    mrr@100 : 0.1653\n",
      "28 Jan 23:03    INFO  Saving current: saved/SASRecF-Jan-27-2024_15-13-17.pth\n"
     ]
    }
   ],
   "source": [
    "\n",
    "# trainer loading and initialization\n",
    "trainer = get_trainer(config['MODEL_TYPE'], config['model'])(config, model)\n",
    "\n",
    "# resume from break point\n",
    "checkpoint_file = 'saved/SASRecF-Jan-27-2024_15-13-17.pth'\n",
    "trainer.resume_checkpoint(checkpoint_file)\n",
    "\n",
    "# model training\n",
    "best_valid_score, best_valid_result = trainer.fit(train_data, valid_data, show_progress=True)\n"
   ]
  },
  {
   "cell_type": "markdown",
   "metadata": {},
   "source": [
    "Исходные данные нам больше не нужны"
   ]
  },
  {
   "cell_type": "code",
   "execution_count": 41,
   "metadata": {},
   "outputs": [
    {
     "data": {
      "text/plain": [
       "318"
      ]
     },
     "execution_count": 41,
     "metadata": {},
     "output_type": "execute_result"
    }
   ],
   "source": [
    "import gc\n",
    "\n",
    "del train\n",
    "# del test  # нам еще понадобится\n",
    "del vacancies\n",
    "\n",
    "gc.collect()"
   ]
  },
  {
   "cell_type": "markdown",
   "metadata": {},
   "source": [
    "#### Теперь обучим ALS как модель второго эшелона"
   ]
  },
  {
   "cell_type": "code",
   "execution_count": 42,
   "metadata": {},
   "outputs": [
    {
     "data": {
      "application/vnd.jupyter.widget-view+json": {
       "model_id": "eb5d36033a534c6c90aa7722cbac02ca",
       "version_major": 2,
       "version_minor": 0
      },
      "text/plain": [
       "  0%|          | 0/100 [00:00<?, ?it/s]"
      ]
     },
     "metadata": {},
     "output_type": "display_data"
    }
   ],
   "source": [
    "als_model = implicit.als.AlternatingLeastSquares(\n",
    "    factors=200,   # 150\n",
    "    random_state=RANDOM_STATE,\n",
    "    iterations=100,\n",
    "    alpha=3.0,\n",
    "    calculate_training_loss=True,\n",
    "    regularization=0.001,\n",
    "    num_threads=8\n",
    ")\n",
    "als_model.fit(uv_mat)"
   ]
  },
  {
   "cell_type": "code",
   "execution_count": 46,
   "metadata": {},
   "outputs": [],
   "source": [
    "als_model.save(\"saved/ALS-200-fulldata.npz\")"
   ]
  },
  {
   "cell_type": "code",
   "execution_count": 45,
   "metadata": {},
   "outputs": [],
   "source": [
    "with open('saved/ALS-200-fulldata.pkl', 'wb') as f:\n",
    "    pickle.dump(als_model, f)"
   ]
  },
  {
   "cell_type": "code",
   "execution_count": null,
   "metadata": {},
   "outputs": [],
   "source": []
  },
  {
   "cell_type": "code",
   "execution_count": null,
   "metadata": {},
   "outputs": [],
   "source": []
  },
  {
   "cell_type": "code",
   "execution_count": 55,
   "metadata": {},
   "outputs": [],
   "source": [
    "test = pl.read_parquet(\"./hh_recsys_test_hh.pq\", low_memory=True)\n",
    "#vacancies = pl.read_parquet(\"./hh_recsys_vacancies.pq\")"
   ]
  },
  {
   "cell_type": "code",
   "execution_count": 48,
   "metadata": {},
   "outputs": [],
   "source": [
    "test_users = test['user_id'].to_list()\n",
    "test_vacancies = test.select(pl.col('vacancy_id').list.unique(maintain_order=True))['vacancy_id'].to_list()"
   ]
  },
  {
   "cell_type": "code",
   "execution_count": 49,
   "metadata": {},
   "outputs": [
    {
     "name": "stderr",
     "output_type": "stream",
     "text": [
      "100%|██████████| 83189/83189 [54:20<00:00, 25.51it/s]  \n"
     ]
    }
   ],
   "source": [
    "# Предсказание чисто ALS\n",
    "\n",
    "predictions = []\n",
    "\n",
    "for user, vacs in tqdm(zip(test_users, test_vacancies), total=len(test_users)):\n",
    "    if user not in user2idx:\n",
    "        predictions.append(vacs)\n",
    "        continue\n",
    "    cuser = user2idx[user]\n",
    "\n",
    "    recommendations = als_model.recommend(cuser, uv_mat[cuser], N=N_PREDICTIONS, filter_already_liked_items=False)[0]\n",
    "    recommendations = [idx2vac[cv] for cv in recommendations]\n",
    "    predictions.append(recommendations)"
   ]
  },
  {
   "cell_type": "code",
   "execution_count": 52,
   "metadata": {},
   "outputs": [],
   "source": [
    "#test = test.with_columns(pl.lit(predictions).alias('predictions'))\n",
    "test = test.with_columns(pl.lit(pl.Series(predictions)).alias('predictions'))\n",
    "test.select(['user_id', 'session_id', 'predictions']).write_parquet('als200-full_submission.pq')"
   ]
  },
  {
   "cell_type": "code",
   "execution_count": null,
   "metadata": {},
   "outputs": [],
   "source": []
  },
  {
   "cell_type": "code",
   "execution_count": null,
   "metadata": {},
   "outputs": [],
   "source": [
    "cuser = dataset.token2id(dataset.uid_field, 'u_186164') \n",
    "cuser"
   ]
  },
  {
   "cell_type": "code",
   "execution_count": null,
   "metadata": {},
   "outputs": [],
   "source": [
    "scores, topk_iid_list = full_sort_topk([cuser], model, test_data, k=10, device=config['device'])"
   ]
  },
  {
   "cell_type": "code",
   "execution_count": null,
   "metadata": {},
   "outputs": [],
   "source": [
    "topk_iid_list[-1]"
   ]
  },
  {
   "cell_type": "code",
   "execution_count": null,
   "metadata": {},
   "outputs": [],
   "source": [
    "last_topk_iid_list = topk_iid_list[-1]"
   ]
  },
  {
   "cell_type": "code",
   "execution_count": null,
   "metadata": {},
   "outputs": [],
   "source": [
    "recommendations = dataset.id2token(dataset.iid_field, last_topk_iid_list.cpu()).tolist()"
   ]
  },
  {
   "cell_type": "code",
   "execution_count": null,
   "metadata": {},
   "outputs": [],
   "source": [
    "recommendations"
   ]
  },
  {
   "cell_type": "code",
   "execution_count": null,
   "metadata": {},
   "outputs": [],
   "source": [
    "bad_list = ['u_186164']"
   ]
  },
  {
   "cell_type": "markdown",
   "metadata": {},
   "source": [
    "Это для моделей из implicit\n",
    "\n",
    "https://benfred.github.io/implicit/api/models/recommender_base.html#implicit.recommender_base.RecommenderBase\n",
    "\n",
    "М.б. model.recommend(userid, user_items, N=10, filter_already_liked_items=True, filter_items=None, recalculate_user=False, items=None)\n",
    "\n",
    "recalculate_user=True, filter_already_liked_items=False (?)"
   ]
  },
  {
   "cell_type": "code",
   "execution_count": 16,
   "metadata": {},
   "outputs": [
    {
     "data": {
      "application/vnd.jupyter.widget-view+json": {
       "model_id": "d25ade7beacd44c8955c21e16eab921c",
       "version_major": 2,
       "version_minor": 0
      },
      "text/plain": [
       "  0%|          | 0/83189 [00:00<?, ?it/s]"
      ]
     },
     "metadata": {},
     "output_type": "display_data"
    },
    {
     "name": "stdout",
     "output_type": "stream",
     "text": [
      "Not found:  30906\n",
      "Zero topk:  0\n"
     ]
    }
   ],
   "source": [
    "predictions = []\n",
    "num_not_found = 0\n",
    "zero_topk = 0\n",
    "\n",
    "for user, vacs in tqdm(zip(test_users, test_vacancies), total=len(test_users)):\n",
    "#    print(\"Try: \", user)\n",
    "    if user not in dataset.field2token_id[dataset.uid_field]:   # либо в тесте есть такой юзер, которого не было в трейне, либо в трейне он отсеялся по порогу (?)\n",
    "        predictions.append(vacs)\n",
    "        num_not_found += 1\n",
    "#        print(\"Not found user: \", user)\n",
    "        \n",
    "        continue\n",
    "    \n",
    "    cuser = dataset.token2id(dataset.uid_field, user)   # получили id очередного юзера по его имени\n",
    "    \n",
    "\n",
    "    _, topk_iid_list = full_sort_topk([cuser], model, test_data, k=N_PREDICTIONS, device=config['device'])\n",
    "#    _, topk_iid_list = full_sort_topk([cuser], model, test_data, k=N_PREDICTIONS, device='cpu')\n",
    "    if len(topk_iid_list) == 0:\n",
    "#        print(\"Zero topk for user \", user)\n",
    "        predictions.append(vacs)\n",
    "        zero_topk += 1\n",
    "        continue\n",
    "    \n",
    "    last_topk_iid_list = topk_iid_list[-1]\n",
    "    recommendations = dataset.id2token(dataset.iid_field, last_topk_iid_list.cpu()).tolist()\n",
    "\n",
    "    predictions.append(recommendations)\n",
    "\n",
    "print(\"Not found: \", num_not_found)\n",
    "print(\"Zero topk: \", zero_topk)\n"
   ]
  },
  {
   "cell_type": "markdown",
   "metadata": {},
   "source": [
    "Для юзеров, которые есть в тесте, но не попали в трейн, можно:\n",
    "- тупо брать те вакансии что они смотрели\n",
    "- использовать ALS\n",
    "- использовать какую-нибудь другую модель\n",
    "- как-то находить самую похожую последовательность вакансий и предсказывать для такого юзера?  или искать такую в тесте?.. ???\n",
    "\n",
    "Как придумать предсказание на основе последовательности для любого юзера, независимо от его id?..\n"
   ]
  },
  {
   "cell_type": "code",
   "execution_count": 27,
   "metadata": {},
   "outputs": [
    {
     "ename": "AttributeError",
     "evalue": "'dict' object has no attribute 'with_columns'",
     "output_type": "error",
     "traceback": [
      "\u001b[0;31m---------------------------------------------------------------------------\u001b[0m",
      "\u001b[0;31mAttributeError\u001b[0m                            Traceback (most recent call last)",
      "Cell \u001b[0;32mIn[27], line 1\u001b[0m\n\u001b[0;32m----> 1\u001b[0m test \u001b[38;5;241m=\u001b[39m \u001b[43mtest\u001b[49m\u001b[38;5;241;43m.\u001b[39;49m\u001b[43mwith_columns\u001b[49m(pl\u001b[38;5;241m.\u001b[39mlit(pl\u001b[38;5;241m.\u001b[39mSeries(predictions))\u001b[38;5;241m.\u001b[39malias(\u001b[38;5;124m'\u001b[39m\u001b[38;5;124mpredictions\u001b[39m\u001b[38;5;124m'\u001b[39m))\n\u001b[1;32m      2\u001b[0m test\u001b[38;5;241m.\u001b[39mselect([\u001b[38;5;124m'\u001b[39m\u001b[38;5;124muser_id\u001b[39m\u001b[38;5;124m'\u001b[39m, \u001b[38;5;124m'\u001b[39m\u001b[38;5;124msession_id\u001b[39m\u001b[38;5;124m'\u001b[39m, \u001b[38;5;124m'\u001b[39m\u001b[38;5;124mpredictions\u001b[39m\u001b[38;5;124m'\u001b[39m])\u001b[38;5;241m.\u001b[39mwrite_parquet(\u001b[38;5;124m'\u001b[39m\u001b[38;5;124msasrecf-10-15_good-dataset_submission.pq\u001b[39m\u001b[38;5;124m'\u001b[39m)\n",
      "\u001b[0;31mAttributeError\u001b[0m: 'dict' object has no attribute 'with_columns'"
     ]
    }
   ],
   "source": [
    "test = test.with_columns(pl.lit(pl.Series(predictions)).alias('predictions'))\n",
    "test.select(['user_id', 'session_id', 'predictions']).write_parquet('sasrecf-10-15_good-dataset_submission.pq')"
   ]
  },
  {
   "cell_type": "code",
   "execution_count": null,
   "metadata": {},
   "outputs": [],
   "source": [
    "score, topk_iid_list = full_sort_topk([1], model, test_data, k=6, device=config['device'])\n",
    "last_topk_iid_list = topk_iid_list[-1]\n",
    "external_item_list = dataset.id2token(dataset.iid_field, last_topk_iid_list.cpu()).tolist()\n",
    "external_item_list"
   ]
  },
  {
   "cell_type": "code",
   "execution_count": null,
   "metadata": {},
   "outputs": [],
   "source": [
    "topk_iid_list.shape"
   ]
  },
  {
   "cell_type": "code",
   "execution_count": null,
   "metadata": {},
   "outputs": [],
   "source": [
    "score"
   ]
  },
  {
   "cell_type": "code",
   "execution_count": null,
   "metadata": {},
   "outputs": [],
   "source": [
    "dataset.uid_field"
   ]
  },
  {
   "cell_type": "code",
   "execution_count": null,
   "metadata": {},
   "outputs": [],
   "source": [
    "type(dataset)"
   ]
  },
  {
   "cell_type": "code",
   "execution_count": null,
   "metadata": {},
   "outputs": [],
   "source": [
    "dir(dataset)"
   ]
  },
  {
   "cell_type": "code",
   "execution_count": null,
   "metadata": {},
   "outputs": [],
   "source": [
    "dataset.history_item_matrix(value_field='1')"
   ]
  },
  {
   "cell_type": "code",
   "execution_count": null,
   "metadata": {},
   "outputs": [],
   "source": [
    "dataset[dataset.uid_field]"
   ]
  },
  {
   "cell_type": "code",
   "execution_count": null,
   "metadata": {},
   "outputs": [],
   "source": [
    "index = np.isin(dataset[dataset.uid_field].numpy(), [1])\n",
    "input_interaction = dataset[index]\n",
    "input_interaction"
   ]
  },
  {
   "cell_type": "code",
   "execution_count": null,
   "metadata": {},
   "outputs": [],
   "source": [
    "input_features = test_data.dataset[np.isin(test_data.dataset[test_data.dataset.uid_field].numpy(), [2])]\n",
    "input_features"
   ]
  },
  {
   "cell_type": "markdown",
   "metadata": {},
   "source": [
    "## Попробуем предсказания последнего item-а"
   ]
  },
  {
   "cell_type": "markdown",
   "metadata": {},
   "source": [
    "In my previous notebook about sequential model with Recbole, someone asked me about the mechanism of test data when using full_sort_topk for prediction submitted recommendation in this comment and this comment, and they have a doubt about whether we are using all items for getting final recommendation. Most of people has 2 questions about using full_sort_topk with test data:\n",
    "\n",
    "Do items in test data are used as input features for getting recommendation ?\n",
    "If test data is necessary for getting recommendation in Recbole API, how can we get recommendation without splitting into train/test data?\n",
    "In this notebook i will answer all questions:\n",
    "\n",
    "Yes. In sequential models, items in test data is used as input features, but not last items. As a example, if user X have 3 items in test data(A, B, C) and 5 items in train data(a,b,c,d,e), test data will generate 3 sample rows for evaluating performance on user X:\n",
    "Row 1: Input features: a,b,c,d,e,0,0. Output features: A. 0 is a pad item\n",
    "Row 2: Input features: a,b,c,d,e,A,0. Output features: B.\n",
    "Row 3: Input features: a,b,c,d,e,A,B. Output features: C.\n",
    "In my previous notebook, i use last row result as recommendation, so we still using nearly all of items as input for recommendation, except last item(item C). Our recommendation in previous notebooks may be not perfect, but it is simple as a tutorial for anyone want to start.\n",
    "\n",
    "Note: This mechanism is only for sequential model in recbole. For other types of model, it isn't correct - it won't use items in test data for getting recommendation. If you have requests for explaining for other model, please upvote and comment. I will explain it in other notebook"
   ]
  },
  {
   "cell_type": "markdown",
   "metadata": {},
   "source": [
    "In first session of this notebook, i will dig into test data to prove this conclusion.\n",
    "\n",
    "Yes, we can get recommendation by using all of items as input features, without splitting train/test. In order to do this, you need to modify recbole code:\n",
    "Fist, you copy last row in dataset(input features have all items, except last one), then add last item into input features.\n",
    "Then you predict directly from model api, without using full_sort_score or full_sort_topk\n",
    "In second session of this notebook, i will show you how to do that."
   ]
  },
  {
   "cell_type": "markdown",
   "metadata": {},
   "source": [
    "I. How test items are used in test data.\n",
    "For each item in test data, it will be generated as a sample row. As a example, if user X have 3 items in test data(A, B, C) and 5 items in train data(a,b,c,d,e), test data will generate 3 sample rows for evaluating performance on user X:\n",
    "\n",
    "Row 1: Input features: a,b,c,d,e,0,0. Output label: A. 0 is a pad item\n",
    "Row 2: Input features: a,b,c,d,e,A,0. Output label: B.\n",
    "Row 3: Input features: a,b,c,d,e,A,B. Output label: C.\n",
    "For proving it, we will create a dataset, then extract input features and label in test data."
   ]
  },
  {
   "cell_type": "code",
   "execution_count": 7,
   "metadata": {},
   "outputs": [
    {
     "data": {
      "text/plain": [
       "'user_id'"
      ]
     },
     "execution_count": 7,
     "metadata": {},
     "output_type": "execute_result"
    }
   ],
   "source": [
    "test_data.dataset.uid_field"
   ]
  },
  {
   "cell_type": "code",
   "execution_count": 8,
   "metadata": {},
   "outputs": [
    {
     "data": {
      "text/plain": [
       "1"
      ]
     },
     "execution_count": 8,
     "metadata": {},
     "output_type": "execute_result"
    }
   ],
   "source": [
    "test_data.dataset.token2id(test_data.dataset.uid_field, 'u_786220')"
   ]
  },
  {
   "cell_type": "code",
   "execution_count": 9,
   "metadata": {},
   "outputs": [
    {
     "data": {
      "text/plain": [
       "'vacancy_id'"
      ]
     },
     "execution_count": 9,
     "metadata": {},
     "output_type": "execute_result"
    }
   ],
   "source": [
    "dataset.iid_field"
   ]
  },
  {
   "cell_type": "code",
   "execution_count": 119,
   "metadata": {},
   "outputs": [],
   "source": [
    "test = pl.read_parquet(\"./hh_recsys_test_hh.pq\", low_memory=True)"
   ]
  },
  {
   "cell_type": "code",
   "execution_count": 120,
   "metadata": {},
   "outputs": [
    {
     "data": {
      "text/html": [
       "<div><style>\n",
       ".dataframe > thead > tr > th,\n",
       ".dataframe > tbody > tr > td {\n",
       "  text-align: right;\n",
       "  white-space: pre-wrap;\n",
       "}\n",
       "</style>\n",
       "<small>shape: (83_189, 5)</small><table border=\"1\" class=\"dataframe\"><thead><tr><th>user_id</th><th>session_id</th><th>vacancy_id</th><th>action_type</th><th>action_dt</th></tr><tr><td>str</td><td>str</td><td>list[str]</td><td>list[i64]</td><td>list[datetime[ns]]</td></tr></thead><tbody><tr><td>&quot;u_482520&quot;</td><td>&quot;s_25018731&quot;</td><td>[&quot;v_2597196&quot;, &quot;v_1223061&quot;, &quot;v_1223061&quot;]</td><td>[2, 2, 1]</td><td>[2023-11-19 12:03:13.089, 2023-11-19 12:03:30.396, 2023-11-19 12:05:03.473]</td></tr><tr><td>&quot;u_582132&quot;</td><td>&quot;s_481216&quot;</td><td>[&quot;v_470400&quot;, &quot;v_470400&quot;, &quot;v_1530783&quot;]</td><td>[2, 1, 2]</td><td>[2023-11-21 15:39:47.981, 2023-11-21 15:43:57.620, 2023-11-21 15:44:37.982]</td></tr><tr><td>&quot;u_212584&quot;</td><td>&quot;s_16918781&quot;</td><td>[&quot;v_1572055&quot;, &quot;v_1572055&quot;, … &quot;v_1329494&quot;]</td><td>[2, 3, … 1]</td><td>[2023-11-16 08:41:47.031, 2023-11-16 08:45:21.403, … 2023-11-16 09:05:27.379]</td></tr><tr><td>&quot;u_425177&quot;</td><td>&quot;s_17505104&quot;</td><td>[&quot;v_1375331&quot;, &quot;v_1922852&quot;]</td><td>[2, 2]</td><td>[2023-11-17 12:42:18.513, 2023-11-17 12:43:52.744]</td></tr><tr><td>&quot;u_700997&quot;</td><td>&quot;s_15528830&quot;</td><td>[&quot;v_2152997&quot;, &quot;v_2152997&quot;, &quot;v_1217630&quot;]</td><td>[2, 1, 2]</td><td>[2023-11-16 17:22:53.530, 2023-11-16 17:23:19.885, 2023-11-16 17:23:33.472]</td></tr><tr><td>&quot;u_687201&quot;</td><td>&quot;s_11187326&quot;</td><td>[&quot;v_2602959&quot;, &quot;v_549337&quot;, … &quot;v_212060&quot;]</td><td>[2, 2, … 1]</td><td>[2023-11-21 14:41:30.546, 2023-11-21 15:00:25.506, … 2023-11-21 15:24:56.271]</td></tr><tr><td>&quot;u_573219&quot;</td><td>&quot;s_27394215&quot;</td><td>[&quot;v_1836184&quot;, &quot;v_2733253&quot;, … &quot;v_2297339&quot;]</td><td>[1, 2, … 2]</td><td>[2023-11-21 18:48:43.424, 2023-11-21 18:49:12.552, … 2023-11-21 19:48:55.704]</td></tr><tr><td>&quot;u_1082782&quot;</td><td>&quot;s_30341164&quot;</td><td>[&quot;v_1026036&quot;, &quot;v_1026036&quot;, … &quot;v_206700&quot;]</td><td>[2, 1, … 2]</td><td>[2023-11-17 02:54:19.561, 2023-11-17 02:54:50.486, … 2023-11-17 03:21:22.008]</td></tr><tr><td>&quot;u_81444&quot;</td><td>&quot;s_1909964&quot;</td><td>[&quot;v_2497384&quot;, &quot;v_1480870&quot;, … &quot;v_1500697&quot;]</td><td>[2, 2, … 1]</td><td>[2023-11-15 12:38:34.579, 2023-11-15 13:03:41.360, … 2023-11-15 13:05:15.916]</td></tr><tr><td>&quot;u_858357&quot;</td><td>&quot;s_12463318&quot;</td><td>[&quot;v_1085881&quot;, &quot;v_522338&quot;, … &quot;v_1776027&quot;]</td><td>[2, 2, … 2]</td><td>[2023-11-18 11:58:33.953, 2023-11-18 12:01:09.562, … 2023-11-18 14:39:24.255]</td></tr><tr><td>&quot;u_136080&quot;</td><td>&quot;s_25066108&quot;</td><td>[&quot;v_1167642&quot;, &quot;v_613829&quot;, … &quot;v_2061106&quot;]</td><td>[2, 2, … 2]</td><td>[2023-11-21 05:09:14.167, 2023-11-21 05:10:02.996, … 2023-11-21 05:17:03.842]</td></tr><tr><td>&quot;u_361893&quot;</td><td>&quot;s_12897073&quot;</td><td>[&quot;v_2188274&quot;, &quot;v_941470&quot;, … &quot;v_450701&quot;]</td><td>[2, 2, … 2]</td><td>[2023-11-21 16:03:36.003, 2023-11-21 16:04:07.515, … 2023-11-21 16:24:26.163]</td></tr><tr><td>&hellip;</td><td>&hellip;</td><td>&hellip;</td><td>&hellip;</td><td>&hellip;</td></tr><tr><td>&quot;u_27420&quot;</td><td>&quot;s_15647766&quot;</td><td>[&quot;v_779522&quot;, &quot;v_32918&quot;, … &quot;v_2382404&quot;]</td><td>[2, 2, … 2]</td><td>[2023-11-15 09:46:24.682, 2023-11-15 09:46:52.048, … 2023-11-15 09:55:07.684]</td></tr><tr><td>&quot;u_101925&quot;</td><td>&quot;s_9312767&quot;</td><td>[&quot;v_899404&quot;, &quot;v_2009859&quot;]</td><td>[2, 2]</td><td>[2023-11-17 10:54:18.637, 2023-11-17 12:19:55.239]</td></tr><tr><td>&quot;u_105702&quot;</td><td>&quot;s_27857907&quot;</td><td>[&quot;v_473549&quot;, &quot;v_1137408&quot;]</td><td>[2, 2]</td><td>[2023-11-18 09:25:22.487, 2023-11-18 09:27:10.980]</td></tr><tr><td>&quot;u_485573&quot;</td><td>&quot;s_19643559&quot;</td><td>[&quot;v_1032129&quot;, &quot;v_1340903&quot;, &quot;v_1032129&quot;]</td><td>[2, 2, 2]</td><td>[2023-11-21 14:44:58.274, 2023-11-21 15:11:34.645, 2023-11-21 15:11:56.029]</td></tr><tr><td>&quot;u_737688&quot;</td><td>&quot;s_5225203&quot;</td><td>[&quot;v_616873&quot;, &quot;v_2610004&quot;]</td><td>[2, 2]</td><td>[2023-11-20 12:37:56.056, 2023-11-20 12:41:23.243]</td></tr><tr><td>&quot;u_366097&quot;</td><td>&quot;s_20110640&quot;</td><td>[&quot;v_307100&quot;, &quot;v_2040988&quot;, … &quot;v_2586611&quot;]</td><td>[2, 2, … 1]</td><td>[2023-11-17 15:31:42.944, 2023-11-17 15:32:01.187, … 2023-11-17 15:36:51.248]</td></tr><tr><td>&quot;u_995221&quot;</td><td>&quot;s_21000652&quot;</td><td>[&quot;v_528661&quot;, &quot;v_528661&quot;, … &quot;v_199518&quot;]</td><td>[2, 1, … 2]</td><td>[2023-11-15 14:00:32.515, 2023-11-15 14:01:08.165, … 2023-11-15 14:04:31.812]</td></tr><tr><td>&quot;u_499368&quot;</td><td>&quot;s_19158589&quot;</td><td>[&quot;v_1716634&quot;, &quot;v_2232327&quot;, … &quot;v_1993650&quot;]</td><td>[2, 2, … 2]</td><td>[2023-11-18 03:15:15.530, 2023-11-18 03:19:20.971, … 2023-11-18 03:35:12.020]</td></tr><tr><td>&quot;u_1084868&quot;</td><td>&quot;s_24756162&quot;</td><td>[&quot;v_395706&quot;, &quot;v_2405231&quot;]</td><td>[2, 2]</td><td>[2023-11-15 18:06:16.550, 2023-11-15 18:07:18.447]</td></tr><tr><td>&quot;u_1138032&quot;</td><td>&quot;s_25291467&quot;</td><td>[&quot;v_1213925&quot;, &quot;v_1213925&quot;, … &quot;v_2359832&quot;]</td><td>[2, 1, … 1]</td><td>[2023-11-19 23:19:44.092, 2023-11-19 23:27:22.739, … 2023-11-19 23:27:51.152]</td></tr><tr><td>&quot;u_608102&quot;</td><td>&quot;s_18813020&quot;</td><td>[&quot;v_933773&quot;, &quot;v_933773&quot;, … &quot;v_2667466&quot;]</td><td>[3, 2, … 2]</td><td>[2023-11-16 15:40:09.408, 2023-11-16 15:40:09.448, … 2023-11-16 16:18:05.927]</td></tr><tr><td>&quot;u_847738&quot;</td><td>&quot;s_7662913&quot;</td><td>[&quot;v_875568&quot;, &quot;v_2677852&quot;, … &quot;v_1462102&quot;]</td><td>[2, 2, … 2]</td><td>[2023-11-17 13:34:03.386, 2023-11-17 13:34:57.675, … 2023-11-17 14:27:46.817]</td></tr></tbody></table></div>"
      ],
      "text/plain": [
       "shape: (83_189, 5)\n",
       "┌───────────┬────────────┬─────────────────────────────┬─────────────┬─────────────────────────────┐\n",
       "│ user_id   ┆ session_id ┆ vacancy_id                  ┆ action_type ┆ action_dt                   │\n",
       "│ ---       ┆ ---        ┆ ---                         ┆ ---         ┆ ---                         │\n",
       "│ str       ┆ str        ┆ list[str]                   ┆ list[i64]   ┆ list[datetime[ns]]          │\n",
       "╞═══════════╪════════════╪═════════════════════════════╪═════════════╪═════════════════════════════╡\n",
       "│ u_482520  ┆ s_25018731 ┆ [\"v_2597196\", \"v_1223061\",  ┆ [2, 2, 1]   ┆ [2023-11-19 12:03:13.089,   │\n",
       "│           ┆            ┆ \"v_12…                      ┆             ┆ 2023-1…                     │\n",
       "│ u_582132  ┆ s_481216   ┆ [\"v_470400\", \"v_470400\",    ┆ [2, 1, 2]   ┆ [2023-11-21 15:39:47.981,   │\n",
       "│           ┆            ┆ \"v_1530…                    ┆             ┆ 2023-1…                     │\n",
       "│ u_212584  ┆ s_16918781 ┆ [\"v_1572055\", \"v_1572055\",  ┆ [2, 3, … 1] ┆ [2023-11-16 08:41:47.031,   │\n",
       "│           ┆            ┆ … \"v_…                      ┆             ┆ 2023-1…                     │\n",
       "│ u_425177  ┆ s_17505104 ┆ [\"v_1375331\", \"v_1922852\"]  ┆ [2, 2]      ┆ [2023-11-17 12:42:18.513,   │\n",
       "│           ┆            ┆                             ┆             ┆ 2023-1…                     │\n",
       "│ …         ┆ …          ┆ …                           ┆ …           ┆ …                           │\n",
       "│ u_1084868 ┆ s_24756162 ┆ [\"v_395706\", \"v_2405231\"]   ┆ [2, 2]      ┆ [2023-11-15 18:06:16.550,   │\n",
       "│           ┆            ┆                             ┆             ┆ 2023-1…                     │\n",
       "│ u_1138032 ┆ s_25291467 ┆ [\"v_1213925\", \"v_1213925\",  ┆ [2, 1, … 1] ┆ [2023-11-19 23:19:44.092,   │\n",
       "│           ┆            ┆ … \"v_…                      ┆             ┆ 2023-1…                     │\n",
       "│ u_608102  ┆ s_18813020 ┆ [\"v_933773\", \"v_933773\", …  ┆ [3, 2, … 2] ┆ [2023-11-16 15:40:09.408,   │\n",
       "│           ┆            ┆ \"v_26…                      ┆             ┆ 2023-1…                     │\n",
       "│ u_847738  ┆ s_7662913  ┆ [\"v_875568\", \"v_2677852\", … ┆ [2, 2, … 2] ┆ [2023-11-17 13:34:03.386,   │\n",
       "│           ┆            ┆ \"v_1…                       ┆             ┆ 2023-1…                     │\n",
       "└───────────┴────────────┴─────────────────────────────┴─────────────┴─────────────────────────────┘"
      ]
     },
     "execution_count": 120,
     "metadata": {},
     "output_type": "execute_result"
    }
   ],
   "source": [
    "test "
   ]
  },
  {
   "cell_type": "code",
   "execution_count": 12,
   "metadata": {},
   "outputs": [
    {
     "data": {
      "text/plain": [
       "['v_395706', 'v_2405231']"
      ]
     },
     "execution_count": 12,
     "metadata": {},
     "output_type": "execute_result"
    }
   ],
   "source": [
    "last_item_ids = test.filter(pl.col(test_data.dataset.uid_field) == 'u_1084868').select(pl.col(\"vacancy_id\")).item().to_list()\n",
    "last_item_ids"
   ]
  },
  {
   "cell_type": "markdown",
   "metadata": {},
   "source": [
    "Recbole use an internal ids for identify user_id and item_id, so let convert this user_id and his items into internal ids."
   ]
  },
  {
   "cell_type": "code",
   "execution_count": 13,
   "metadata": {},
   "outputs": [
    {
     "name": "stdout",
     "output_type": "stream",
     "text": [
      "[178271 113615]\n"
     ]
    }
   ],
   "source": [
    "print(dataset.token2id(dataset.iid_field, last_item_ids))"
   ]
  },
  {
   "cell_type": "code",
   "execution_count": 96,
   "metadata": {},
   "outputs": [
    {
     "data": {
      "text/plain": [
       "289282"
      ]
     },
     "execution_count": 96,
     "metadata": {},
     "output_type": "execute_result"
    }
   ],
   "source": [
    "dataset.token2id(dataset.uid_field, 'u_885219')"
   ]
  },
  {
   "cell_type": "code",
   "execution_count": 14,
   "metadata": {},
   "outputs": [
    {
     "data": {
      "text/plain": [
       "'user_id'"
      ]
     },
     "execution_count": 14,
     "metadata": {},
     "output_type": "execute_result"
    }
   ],
   "source": [
    "test_data.dataset.uid_field"
   ]
  },
  {
   "cell_type": "code",
   "execution_count": 15,
   "metadata": {},
   "outputs": [
    {
     "data": {
      "text/plain": [
       "The batch_size of interaction: 214819\n",
       "    vacancy_id, torch.Size([214819]), cpu, torch.int64\n",
       "    name, torch.Size([214819, 26]), cpu, torch.int64\n",
       "    company_id, torch.Size([214819]), cpu, torch.int64\n",
       "    keySkills, torch.Size([214819, 141]), cpu, torch.int64\n",
       "    area_id, torch.Size([214819]), cpu, torch.int64\n",
       "    area_regionId, torch.Size([214819]), cpu, torch.int64\n",
       "    employment, torch.Size([214819]), cpu, torch.int64\n",
       "    workSchedule, torch.Size([214819]), cpu, torch.int64\n",
       "    workExperience, torch.Size([214819]), cpu, torch.int64\n",
       "    salary_from, torch.Size([214819]), cpu, torch.int64\n",
       "    salary_to, torch.Size([214819]), cpu, torch.int64\n"
      ]
     },
     "execution_count": 15,
     "metadata": {},
     "output_type": "execute_result"
    }
   ],
   "source": [
    "test_data.dataset.item_feat"
   ]
  },
  {
   "cell_type": "code",
   "execution_count": 16,
   "metadata": {},
   "outputs": [
    {
     "data": {
      "text/plain": [
       "['inter_feat', 'item_feat']"
      ]
     },
     "execution_count": 16,
     "metadata": {},
     "output_type": "execute_result"
    }
   ],
   "source": [
    "test_data.dataset.feat_name_list"
   ]
  },
  {
   "cell_type": "code",
   "execution_count": 17,
   "metadata": {},
   "outputs": [
    {
     "data": {
      "text/plain": [
       "The batch_size of interaction: 327064\n",
       "    user_id, torch.Size([327064]), cpu, torch.int64\n",
       "    vacancy_id, torch.Size([327064]), cpu, torch.int64\n",
       "    action_type, torch.Size([327064]), cpu, torch.float32\n",
       "    timestamp, torch.Size([327064]), cpu, torch.float32\n",
       "    item_length, torch.Size([327064]), cpu, torch.int64\n",
       "    vacancy_id_list, torch.Size([327064, 10]), cpu, torch.int64\n",
       "    action_type_list, torch.Size([327064, 10]), cpu, torch.float32\n",
       "    timestamp_list, torch.Size([327064, 10]), cpu, torch.float32\n"
      ]
     },
     "execution_count": 17,
     "metadata": {},
     "output_type": "execute_result"
    }
   ],
   "source": [
    "test_data.dataset.inter_feat"
   ]
  },
  {
   "cell_type": "code",
   "execution_count": 8,
   "metadata": {},
   "outputs": [
    {
     "data": {
      "text/plain": [
       "tensor([[ 88040, 161035,  28595,  ...,  32333,  32333, 108429],\n",
       "        [161035,  28595,   7463,  ...,  32333, 108429, 213577],\n",
       "        [ 28595,   7463, 172372,  ..., 108429, 213577,  39711],\n",
       "        ...,\n",
       "        [  7093,  85906, 135675,  ...,  13031, 214558, 126895],\n",
       "        [   796,  12320,  46415,  ...,   5336,  97367,  12337],\n",
       "        [ 24799,  65934,  51421,  ...,  93796,  54235,   7856]])"
      ]
     },
     "execution_count": 8,
     "metadata": {},
     "output_type": "execute_result"
    }
   ],
   "source": [
    "test_data.dataset.inter_feat['vacancy_id_list']"
   ]
  },
  {
   "cell_type": "code",
   "execution_count": 9,
   "metadata": {},
   "outputs": [
    {
     "data": {
      "text/plain": [
       "tensor([  1056,   1056,   1056,  ..., 285099, 290799, 289382])"
      ]
     },
     "execution_count": 9,
     "metadata": {},
     "output_type": "execute_result"
    }
   ],
   "source": [
    "test_data.dataset.inter_feat['user_id']  # это все юзеры, по которым было взаимодействие (которые есть в датасете - !). Могут быть дубли"
   ]
  },
  {
   "cell_type": "code",
   "execution_count": 20,
   "metadata": {},
   "outputs": [
    {
     "data": {
      "text/plain": [
       "torch.Size([327064])"
      ]
     },
     "execution_count": 20,
     "metadata": {},
     "output_type": "execute_result"
    }
   ],
   "source": [
    "test_data.dataset.inter_feat['user_id'].shape"
   ]
  },
  {
   "cell_type": "code",
   "execution_count": 147,
   "metadata": {},
   "outputs": [
    {
     "data": {
      "text/plain": [
       "array([     1,      2,      3, ..., 291496, 291497, 291498])"
      ]
     },
     "execution_count": 147,
     "metadata": {},
     "output_type": "execute_result"
    }
   ],
   "source": [
    "np.unique(test_data.dataset.inter_feat['user_id'])"
   ]
  },
  {
   "cell_type": "code",
   "execution_count": 149,
   "metadata": {},
   "outputs": [
    {
     "data": {
      "text/plain": [
       "array([     1,      2,      3, ..., 291496, 291497, 291498])"
      ]
     },
     "execution_count": 149,
     "metadata": {},
     "output_type": "execute_result"
    }
   ],
   "source": [
    "np.unique(test_data.dataset.inter_feat[test_data.dataset.uid_field])"
   ]
  },
  {
   "cell_type": "markdown",
   "metadata": {},
   "source": [
    "Now let extract input features and labels in our test data. "
   ]
  },
  {
   "cell_type": "code",
   "execution_count": 10,
   "metadata": {},
   "outputs": [
    {
     "data": {
      "text/plain": [
       "torch.Tensor"
      ]
     },
     "execution_count": 10,
     "metadata": {},
     "output_type": "execute_result"
    }
   ],
   "source": [
    "type(test_data.dataset.inter_feat[test_data.dataset.uid_field])"
   ]
  },
  {
   "cell_type": "code",
   "execution_count": 11,
   "metadata": {},
   "outputs": [],
   "source": [
    "input_features = test_data.dataset[np.isin(test_data.dataset.inter_feat[test_data.dataset.uid_field].numpy(), [40729])]\n",
    "#%time\n",
    "#input_features = test_data.dataset[torch.isin(test_data.dataset.inter_feat[test_data.dataset.uid_field], torch.tensor([40729])).numpy()]    # а так через Pytorch"
   ]
  },
  {
   "cell_type": "markdown",
   "metadata": {},
   "source": [
    "item_id in above interaction is used as label item\n",
    "item_id_list in above interaction is used as feature items"
   ]
  },
  {
   "cell_type": "code",
   "execution_count": 12,
   "metadata": {},
   "outputs": [
    {
     "data": {
      "text/plain": [
       "The batch_size of interaction: 1\n",
       "    user_id, torch.Size([1]), cpu, torch.int64\n",
       "    vacancy_id, torch.Size([1]), cpu, torch.int64\n",
       "    action_type, torch.Size([1]), cpu, torch.float32\n",
       "    timestamp, torch.Size([1]), cpu, torch.float32\n",
       "    item_length, torch.Size([1]), cpu, torch.int64\n",
       "    vacancy_id_list, torch.Size([1, 10]), cpu, torch.int64\n",
       "    action_type_list, torch.Size([1, 10]), cpu, torch.float32\n",
       "    timestamp_list, torch.Size([1, 10]), cpu, torch.float32\n",
       "    name, torch.Size([1, 26]), cpu, torch.int64\n",
       "    company_id, torch.Size([1]), cpu, torch.int64\n",
       "    keySkills, torch.Size([1, 141]), cpu, torch.int64\n",
       "    area_id, torch.Size([1]), cpu, torch.int64\n",
       "    area_regionId, torch.Size([1]), cpu, torch.int64\n",
       "    employment, torch.Size([1]), cpu, torch.int64\n",
       "    workSchedule, torch.Size([1]), cpu, torch.int64\n",
       "    workExperience, torch.Size([1]), cpu, torch.int64\n",
       "    salary_from, torch.Size([1]), cpu, torch.int64\n",
       "    salary_to, torch.Size([1]), cpu, torch.int64\n"
      ]
     },
     "execution_count": 12,
     "metadata": {},
     "output_type": "execute_result"
    }
   ],
   "source": [
    "input_features"
   ]
  },
  {
   "cell_type": "code",
   "execution_count": 157,
   "metadata": {},
   "outputs": [
    {
     "data": {
      "text/plain": [
       "213763"
      ]
     },
     "execution_count": 157,
     "metadata": {},
     "output_type": "execute_result"
    }
   ],
   "source": [
    "input_features['vacancy_id'].item()"
   ]
  },
  {
   "cell_type": "code",
   "execution_count": 31,
   "metadata": {},
   "outputs": [
    {
     "name": "stdout",
     "output_type": "stream",
     "text": [
      "test label: tensor([213763])\n",
      "last 10 items from origin dataset: [178271 113615]\n"
     ]
    }
   ],
   "source": [
    "print(\"test label: \" + str(input_features['vacancy_id']))\n",
    "print(\"last 10 items from origin dataset: \" + str(dataset.token2id(dataset.iid_field, last_item_ids)))"
   ]
  },
  {
   "cell_type": "code",
   "execution_count": 32,
   "metadata": {},
   "outputs": [
    {
     "data": {
      "text/plain": [
       "torch.Size([1, 10])"
      ]
     },
     "execution_count": 32,
     "metadata": {},
     "output_type": "execute_result"
    }
   ],
   "source": [
    "input_features['vacancy_id_list'].shape"
   ]
  },
  {
   "cell_type": "markdown",
   "metadata": {},
   "source": [
    "For 1st row, it uses all items in training as input features.\n",
    "For 2nd row, it uses all items in training + first label as input features\n",
    "For 3rd row, it uses all items in training + first label + second label as input features\n",
    "...\n",
    "For last row, it uses all items except last item as input features.\n",
    "\n",
    "so we are missing information from last item.\n",
    "\n",
    "So now let fix it- find a new way for using all items"
   ]
  },
  {
   "cell_type": "markdown",
   "metadata": {},
   "source": [
    "We have seen that last row is missing only last item, so fixxing ideal is simple now:\n",
    "\n",
    "copy last row, add last item into it as a new interation(a row in test dataset)\n",
    "make prediction with new interation\n",
    "So now let train a dummy model for testing it"
   ]
  },
  {
   "cell_type": "markdown",
   "metadata": {},
   "source": [
    "Our sequence items is always have fix length(50). So if we have more than 50 items, we need to drop earlier items, and if there are less than 50 items, we need to add a padding(0) into input item features. As example:\n",
    "\n",
    "If last row input = [3, 4, 7,..., 20, 0, 0 ,0] (47 items < 50 item, so we have padding), after adding id=30, we will have input = [3, 4, 7,..., 20, 30, 0 ,0] Now our sequence lenght = 48 items.\n",
    "If last row input = [3, 4, 7,..., 20, 9, 10 ,12] (50 items), after adding id=30, we will have input = [4, 7,..., 9, 10, 12, 30] (drop first item and add last item).Now our sequence lenght still = 50 items.\n",
    "Now let implement it.\n",
    "\n",
    "First let extract last row from all interation when internal_user_id = 2"
   ]
  },
  {
   "cell_type": "code",
   "execution_count": 34,
   "metadata": {},
   "outputs": [],
   "source": [
    "index = np.isin(dataset.inter_feat[dataset.uid_field].numpy(), [40729])  # 291496 40729  # 11 + 64   # np.isin"
   ]
  },
  {
   "cell_type": "code",
   "execution_count": 37,
   "metadata": {},
   "outputs": [],
   "source": [
    "index2 = np.argwhere(index)"
   ]
  },
  {
   "cell_type": "code",
   "execution_count": 40,
   "metadata": {},
   "outputs": [],
   "source": [
    "input_interaction = dataset[np.argwhere(index)]"
   ]
  },
  {
   "cell_type": "code",
   "execution_count": 41,
   "metadata": {},
   "outputs": [
    {
     "data": {
      "text/plain": [
       "The batch_size of interaction: 64\n",
       "    user_id, torch.Size([64, 1]), cpu, torch.int64\n",
       "    vacancy_id, torch.Size([64, 1]), cpu, torch.int64\n",
       "    action_type, torch.Size([64, 1]), cpu, torch.float32\n",
       "    timestamp, torch.Size([64, 1]), cpu, torch.float32\n",
       "    item_length, torch.Size([64, 1]), cpu, torch.int64\n",
       "    vacancy_id_list, torch.Size([64, 1, 10]), cpu, torch.int64\n",
       "    action_type_list, torch.Size([64, 1, 10]), cpu, torch.float32\n",
       "    timestamp_list, torch.Size([64, 1, 10]), cpu, torch.float32\n",
       "    name, torch.Size([64, 1, 26]), cpu, torch.int64\n",
       "    company_id, torch.Size([64, 1]), cpu, torch.int64\n",
       "    keySkills, torch.Size([64, 1, 141]), cpu, torch.int64\n",
       "    area_id, torch.Size([64, 1]), cpu, torch.int64\n",
       "    area_regionId, torch.Size([64, 1]), cpu, torch.int64\n",
       "    employment, torch.Size([64, 1]), cpu, torch.int64\n",
       "    workSchedule, torch.Size([64, 1]), cpu, torch.int64\n",
       "    workExperience, torch.Size([64, 1]), cpu, torch.int64\n",
       "    salary_from, torch.Size([64, 1]), cpu, torch.int64\n",
       "    salary_to, torch.Size([64, 1]), cpu, torch.int64\n"
      ]
     },
     "execution_count": 41,
     "metadata": {},
     "output_type": "execute_result"
    }
   ],
   "source": [
    "input_interaction"
   ]
  },
  {
   "cell_type": "code",
   "execution_count": 97,
   "metadata": {},
   "outputs": [
    {
     "data": {
      "text/plain": [
       "The batch_size of interaction: 10\n",
       "    user_id, torch.Size([]), cpu, torch.int64\n",
       "    vacancy_id, torch.Size([]), cpu, torch.int64\n",
       "    action_type, torch.Size([]), cpu, torch.float32\n",
       "    timestamp, torch.Size([]), cpu, torch.float32\n",
       "    item_length, torch.Size([]), cpu, torch.int64\n",
       "    vacancy_id_list, torch.Size([10]), cpu, torch.int64\n",
       "    action_type_list, torch.Size([10]), cpu, torch.float32\n",
       "    timestamp_list, torch.Size([10]), cpu, torch.float32\n",
       "    name, torch.Size([26]), cpu, torch.int64\n",
       "    company_id, torch.Size([]), cpu, torch.int64\n",
       "    keySkills, torch.Size([141]), cpu, torch.int64\n",
       "    area_id, torch.Size([]), cpu, torch.int64\n",
       "    area_regionId, torch.Size([]), cpu, torch.int64\n",
       "    employment, torch.Size([]), cpu, torch.int64\n",
       "    workSchedule, torch.Size([]), cpu, torch.int64\n",
       "    workExperience, torch.Size([]), cpu, torch.int64\n",
       "    salary_from, torch.Size([]), cpu, torch.int64\n",
       "    salary_to, torch.Size([]), cpu, torch.int64\n"
      ]
     },
     "execution_count": 97,
     "metadata": {},
     "output_type": "execute_result"
    }
   ],
   "source": [
    "dataset[289282]"
   ]
  },
  {
   "cell_type": "code",
   "execution_count": 99,
   "metadata": {},
   "outputs": [],
   "source": [
    "index = np.isin(dataset.inter_feat[dataset.uid_field].numpy(), [289282])   # 40729"
   ]
  },
  {
   "cell_type": "code",
   "execution_count": 89,
   "metadata": {},
   "outputs": [
    {
     "data": {
      "text/plain": [
       "array([ 1157120,  1359025,  3304546,  3304547,  4353641,  4353642,\n",
       "        4373144,  4389929,  4389930,  4395415,  4395416,  4395417,\n",
       "        4395418,  4395419,  4395420,  4395421,  4398292,  4398293,\n",
       "        4398294,  4400933,  4403554,  4403555,  4406191,  4406192,\n",
       "        4406193,  4406194,  4406195,  4406196,  4406197,  4406198,\n",
       "        4406199,  4406200,  4406201,  4406202,  4406203,  4406204,\n",
       "        4406205,  4406206,  4406207,  4406208,  4406209,  4406210,\n",
       "        4406211,  4406212,  4411451,  4414032,  4419270,  4419271,\n",
       "        4434959,  4434960,  4437538,  6483271,  6485853,  6488394,\n",
       "        6488395,  6488396,  6488397,  6488398,  6490957,  9950239,\n",
       "       10853905, 10855034, 10855703, 10855787])"
      ]
     },
     "execution_count": 89,
     "metadata": {},
     "output_type": "execute_result"
    }
   ],
   "source": [
    "np.nonzero(index)[0]"
   ]
  },
  {
   "cell_type": "markdown",
   "metadata": {},
   "source": [
    "Now let add last item into sequences, and make new interaction. We also need to edit sequence lenght (without padding)"
   ]
  },
  {
   "cell_type": "code",
   "execution_count": 103,
   "metadata": {},
   "outputs": [
    {
     "data": {
      "text/plain": [
       "The batch_size of interaction: 1\n",
       "    vacancy_id_list, torch.Size([1, 10]), cpu, torch.int64\n",
       "    item_length, torch.Size([1]), cpu, torch.int64\n"
      ]
     },
     "execution_count": 103,
     "metadata": {},
     "output_type": "execute_result"
    }
   ],
   "source": [
    "import torch\n",
    "from recbole.data.interaction import Interaction\n",
    "\n",
    "def add_last_vacancy(old_interaction, last_vacancy_id, max_len=10):  # было max_len=50\n",
    "    new_seq_vacancies = old_interaction['vacancy_id_list'][-1]\n",
    "    if old_interaction['item_length'][-1].item() < max_len:\n",
    "        new_seq_vacancies[input_interaction['item_length'][-1].item()] = last_vacancy_id\n",
    "    else:\n",
    "        new_seq_vacancies = torch.roll(new_seq_vacancies, -1)\n",
    "        new_seq_vacancies[-1] = last_vacancy_id\n",
    "    return new_seq_vacancies.view(1, len(new_seq_vacancies))\n",
    "\n",
    "test = {\n",
    "            'vacancy_id_list': add_last_vacancy(input_interaction, input_interaction['vacancy_id'][-1].item(), model.max_seq_length),\n",
    "            'item_length': torch.tensor(\n",
    "                [input_interaction['item_length'][-1].item() + 1\n",
    "                 if input_interaction['item_length'][-1].item() < model.max_seq_length else model.max_seq_length])\n",
    "        }\n",
    "new_inter = Interaction(test)\n",
    "new_inter"
   ]
  },
  {
   "cell_type": "code",
   "execution_count": 108,
   "metadata": {},
   "outputs": [
    {
     "data": {
      "text/plain": [
       "tensor([[ 84548,  84548, 104162, 104162, 201448,  25052,  24355,  25052,  25052,\n",
       "          47335]])"
      ]
     },
     "execution_count": 108,
     "metadata": {},
     "output_type": "execute_result"
    }
   ],
   "source": [
    "new_inter['vacancy_id_list']"
   ]
  },
  {
   "cell_type": "markdown",
   "metadata": {},
   "source": [
    "Interaction for GRU4Rec model need to have only item_id_list and item_lenght. You can drop other key. If you want more information, you can check GRU4Rec code\n",
    "\n",
    "Then we can apply the remaining prediction code from full_sort_scores"
   ]
  },
  {
   "cell_type": "code",
   "execution_count": 109,
   "metadata": {},
   "outputs": [],
   "source": [
    "new_inter = new_inter.to(config['device'])\n",
    "new_scores = model.full_sort_predict(new_inter)\n",
    "new_scores = new_scores.view(-1, test_data.dataset.item_num)\n",
    "new_scores[:, 0] = -np.inf  # set scores of [pad] to -inf"
   ]
  },
  {
   "cell_type": "markdown",
   "metadata": {},
   "source": [
    "So now by combining all fragments,we have a new function for predicting with all item in dataset. You can use this custom code for all sequential model\n",
    "\n",
    "Взято отсюда: https://www.kaggle.com/code/astrung/recbole-using-all-items-for-prediction"
   ]
  },
  {
   "cell_type": "markdown",
   "metadata": {},
   "source": [
    "## Итоговый код для предсказания на всех взаимодействиях"
   ]
  },
  {
   "cell_type": "code",
   "execution_count": 56,
   "metadata": {},
   "outputs": [],
   "source": [
    "def add_last_vacancy(old_interaction, last_vacancy_id, max_len=10):   # изначально max_len=50\n",
    "    new_seq_vacancies = old_interaction['vacancy_id_list'][-1]\n",
    "    if old_interaction['item_length'][-1].item() < max_len:\n",
    "        new_seq_vacancies[old_interaction['item_length'][-1].item()] = last_vacancy_id\n",
    "    else:\n",
    "        new_seq_vacancies = torch.roll(new_seq_vacancies, -1)\n",
    "        new_seq_vacancies[-1] = last_vacancy_id\n",
    "    return new_seq_vacancies.view(1, len(new_seq_vacancies))"
   ]
  },
  {
   "cell_type": "code",
   "execution_count": 57,
   "metadata": {},
   "outputs": [],
   "source": [
    "def predict_for_all_item(external_user_id, dataset, model):\n",
    "    model.eval()\n",
    "    with torch.no_grad():\n",
    "        uid_series = dataset.token2id(dataset.uid_field, [external_user_id])\n",
    "        index = np.isin(dataset.inter_feat[dataset.uid_field].numpy(), uid_series)\n",
    "        input_interaction = dataset[np.nonzero(index)[0]]\n",
    "#        input_interaction = dataset[index]  # 9 секунд на полном датасете\n",
    "        test = {\n",
    "            'vacancy_id_list': add_last_vacancy(input_interaction,\n",
    "                                                input_interaction['vacancy_id'][-1].item(), model.max_seq_length),\n",
    "            'item_length': torch.tensor(\n",
    "                [input_interaction['item_length'][-1].item() + 1\n",
    "                 if input_interaction['item_length'][-1].item() < model.max_seq_length else model.max_seq_length])\n",
    "        }\n",
    "        new_inter = Interaction(test)\n",
    "        new_inter = new_inter.to(config['device'])\n",
    "        new_scores = model.full_sort_predict(new_inter)\n",
    "        new_scores = new_scores.view(-1, test_data.dataset.item_num)\n",
    "        new_scores[:, 0] = -np.inf  # set scores of [pad] to -inf\n",
    "    return torch.topk(new_scores, N_PREDICTIONS)"
   ]
  },
  {
   "cell_type": "code",
   "execution_count": 112,
   "metadata": {},
   "outputs": [
    {
     "data": {
      "text/plain": [
       "torch.return_types.topk(\n",
       "values=tensor([[14.3389, 14.0669, 14.0236, 13.8455, 13.6557, 13.5191, 13.3359, 13.2251,\n",
       "         13.1959, 13.1597, 13.0343, 12.9661, 12.9437, 12.9436, 12.9337, 12.8954,\n",
       "         12.8509, 12.8388, 12.8159, 12.7106, 12.7051, 12.6965, 12.6950, 12.6817,\n",
       "         12.6732, 12.5698, 12.5396, 12.4783, 12.4731, 12.4493, 12.4251, 12.4190,\n",
       "         12.3312, 12.3008, 12.2841, 12.2558, 12.2264, 12.2226, 12.1985, 12.1276,\n",
       "         12.1253, 12.1151, 12.0830, 12.0668, 12.0460, 12.0228, 12.0220, 12.0140,\n",
       "         12.0116, 11.9861, 11.9765, 11.9696, 11.9588, 11.8891, 11.8603, 11.8292,\n",
       "         11.8292, 11.8161, 11.8052, 11.7602, 11.7092, 11.7017, 11.6783, 11.6643,\n",
       "         11.6612, 11.6508, 11.5972, 11.5856, 11.5526, 11.5499, 11.5359, 11.5227,\n",
       "         11.5183, 11.5083, 11.5080, 11.4895, 11.4775, 11.4706, 11.4326, 11.4318,\n",
       "         11.4313, 11.4147, 11.4134, 11.4129, 11.4111, 11.4101, 11.4052, 11.3911,\n",
       "         11.3791, 11.3750, 11.3683, 11.3590, 11.3580, 11.3021, 11.2924, 11.2893,\n",
       "         11.2536, 11.2302, 11.2242, 11.1827]], grad_fn=<TopkBackward0>),\n",
       "indices=tensor([[  8321,  84548,  76895,  21057, 104162,  49403,   8336,   3862,  24279,\n",
       "         146745,  24825,   7592, 180893,  25052,  30998,  86965,  36894,  24273,\n",
       "          86361,   8331,  43808,  54054,   8333,  24278,  24675,  59335,   9682,\n",
       "           7758,  24678,  91146,  59001,  59334, 114324, 178474, 117649,  78422,\n",
       "         104253, 151011,   5205, 190623,   9698,  43932, 159925,  99433,  24355,\n",
       "           3001,   3865,  24352,  20135,   2581, 118945,  36885,  29307, 191084,\n",
       "           3024,  25937,   2566,  75507,  41202,  71883,  46252,  47068,   3855,\n",
       "          23095,   4856,  81706, 198209,  29963,  24674, 132408,  24671, 114921,\n",
       "           2592, 201448,  25071, 199707, 145219,  91151,  78423,   3389,  24673,\n",
       "         146743,  31610, 101354,  25933,   3869,  76854,   8756, 127045,   8329,\n",
       "          47593,  80041,  59007, 141450,  22250,   8327,  24672,  29466,  29509,\n",
       "          50296]]))"
      ]
     },
     "execution_count": 112,
     "metadata": {},
     "output_type": "execute_result"
    }
   ],
   "source": [
    "torch.topk(new_scores, N_PREDICTIONS)"
   ]
  },
  {
   "cell_type": "code",
   "execution_count": 113,
   "metadata": {},
   "outputs": [
    {
     "data": {
      "text/plain": [
       "torch.return_types.topk(\n",
       "values=tensor([[14.3389, 14.0669, 14.0236, 13.8455, 13.6557, 13.5191, 13.3359, 13.2251,\n",
       "         13.1959, 13.1597, 13.0343, 12.9661, 12.9437, 12.9436, 12.9337, 12.8954,\n",
       "         12.8509, 12.8388, 12.8159, 12.7106, 12.7051, 12.6965, 12.6950, 12.6817,\n",
       "         12.6732, 12.5698, 12.5396, 12.4783, 12.4731, 12.4493, 12.4251, 12.4190,\n",
       "         12.3312, 12.3008, 12.2841, 12.2558, 12.2264, 12.2226, 12.1985, 12.1276,\n",
       "         12.1253, 12.1151, 12.0830, 12.0668, 12.0460, 12.0228, 12.0220, 12.0140,\n",
       "         12.0116, 11.9861, 11.9765, 11.9696, 11.9588, 11.8891, 11.8603, 11.8292,\n",
       "         11.8292, 11.8161, 11.8052, 11.7602, 11.7092, 11.7017, 11.6783, 11.6643,\n",
       "         11.6612, 11.6508, 11.5972, 11.5856, 11.5526, 11.5499, 11.5359, 11.5227,\n",
       "         11.5183, 11.5083, 11.5080, 11.4895, 11.4775, 11.4706, 11.4326, 11.4318,\n",
       "         11.4313, 11.4147, 11.4134, 11.4129, 11.4111, 11.4101, 11.4052, 11.3911,\n",
       "         11.3791, 11.3750, 11.3683, 11.3590, 11.3580, 11.3021, 11.2924, 11.2893,\n",
       "         11.2536, 11.2302, 11.2242, 11.1827]]),\n",
       "indices=tensor([[  8321,  84548,  76895,  21057, 104162,  49403,   8336,   3862,  24279,\n",
       "         146745,  24825,   7592, 180893,  25052,  30998,  86965,  36894,  24273,\n",
       "          86361,   8331,  43808,  54054,   8333,  24278,  24675,  59335,   9682,\n",
       "           7758,  24678,  91146,  59001,  59334, 114324, 178474, 117649,  78422,\n",
       "         104253, 151011,   5205, 190623,   9698,  43932, 159925,  99433,  24355,\n",
       "           3001,   3865,  24352,  20135,   2581, 118945,  36885,  29307, 191084,\n",
       "           3024,  25937,   2566,  75507,  41202,  71883,  46252,  47068,   3855,\n",
       "          23095,   4856,  81706, 198209,  29963,  24674, 132408,  24671, 114921,\n",
       "           2592, 201448,  25071, 199707, 145219,  91151,  78423,   3389,  24673,\n",
       "         146743,  31610, 101354,  25933,   3869,  76854,   8756, 127045,   8329,\n",
       "          47593,  80041,  59007, 141450,  22250,   8327,  24672,  29466,  29509,\n",
       "          50296]]))"
      ]
     },
     "execution_count": 113,
     "metadata": {},
     "output_type": "execute_result"
    }
   ],
   "source": [
    "predict_for_all_item('u_885219', dataset, model) # we feed directly origin dataset, not train data or test data\n",
    "# u_27420"
   ]
  },
  {
   "cell_type": "markdown",
   "metadata": {},
   "source": [
    "Можно делать так:"
   ]
  },
  {
   "cell_type": "code",
   "execution_count": 114,
   "metadata": {},
   "outputs": [],
   "source": [
    "_, topk_iid_list = predict_for_all_item('u_885219', dataset, model)     # u_27420\n",
    "last_topk_iid_list = topk_iid_list[-1]\n",
    "external_item_list = dataset.id2token(dataset.iid_field, last_topk_iid_list.cpu()).tolist()"
   ]
  },
  {
   "cell_type": "markdown",
   "metadata": {},
   "source": [
    "Congratulation !!!.Now you can use all data as train set, don't need for a test set, but still can predict directly from dataset without testset.Now let apply it into our previous notebook."
   ]
  },
  {
   "cell_type": "markdown",
   "metadata": {},
   "source": [
    "Сравним со старым способом:"
   ]
  },
  {
   "cell_type": "code",
   "execution_count": 82,
   "metadata": {},
   "outputs": [],
   "source": [
    "cuser = dataset.token2id(dataset.uid_field, 'u_27420') \n",
    "scores, topk_iid_list = full_sort_topk([cuser], model, test_data, k=N_PREDICTIONS, device=config['device'])"
   ]
  },
  {
   "cell_type": "code",
   "execution_count": 83,
   "metadata": {},
   "outputs": [
    {
     "data": {
      "text/plain": [
       "tensor([[ 73927,  73929,  45371,  73924, 188568, 157228, 211232, 168561, 119417,\n",
       "          85973,  51842, 109158, 210108,  73931, 114783, 199070, 155645, 201392,\n",
       "         100142, 170783,  23956,  23952,  37543, 168560, 185014,  18950, 150418,\n",
       "         155644, 133709,  45372, 159896, 103329, 159549, 143861,  37555,  27850,\n",
       "         127396,  23958,  43466,  28576,  37552,  73926,  43681, 206601,  96398,\n",
       "          25276,   8026,  34970, 211892, 119419, 145730, 121371, 100143, 198097,\n",
       "         204802,  18949,  53375, 115478, 211400,   8023,  67427, 129516, 148628,\n",
       "         172224,  18953,  54505,  41717, 169586, 205031,  25274,  82339, 170441,\n",
       "           9446,  53718, 187162,  96397, 107750,  73932,  37545,  40389, 181471,\n",
       "          68146, 195020,  13493,  43680,   8031,  94629,   8024,   8027, 172023,\n",
       "          85728, 156000,  73930, 183859, 114789,  21252,  38388, 200754, 172376,\n",
       "          84770]])"
      ]
     },
     "execution_count": 83,
     "metadata": {},
     "output_type": "execute_result"
    }
   ],
   "source": [
    "topk_iid_list"
   ]
  },
  {
   "cell_type": "markdown",
   "metadata": {},
   "source": [
    "Попробуем предсказать всех"
   ]
  },
  {
   "cell_type": "code",
   "execution_count": 116,
   "metadata": {},
   "outputs": [
    {
     "data": {
      "application/vnd.jupyter.widget-view+json": {
       "model_id": "2ae1c3686e584c34836a1ac4b44a0ecf",
       "version_major": 2,
       "version_minor": 0
      },
      "text/plain": [
       "  0%|          | 0/83189 [00:00<?, ?it/s]"
      ]
     },
     "metadata": {},
     "output_type": "display_data"
    },
    {
     "name": "stdout",
     "output_type": "stream",
     "text": [
      "Not found:  30906\n",
      "Zero topk:  0\n"
     ]
    }
   ],
   "source": [
    "predictions = []\n",
    "num_not_found = 0\n",
    "zero_topk = 0\n",
    "\n",
    "dataset_uids = dataset.field2token_id[dataset.uid_field]\n",
    "\n",
    "for user, vacs in tqdm(zip(test_users, test_vacancies), total=len(test_users)):\n",
    "#    print(\"Try: \", user)\n",
    "#    if user not in dataset.field2token_id[dataset.uid_field]:   # либо в тесте есть такой юзер, которого не было в трейне, либо в трейне он отсеялся по порогу (?)\n",
    "    if user not in dataset_uids:   # либо в тесте есть такой юзер, которого не было в трейне, либо в трейне он отсеялся по порогу (?)\n",
    "        predictions.append(vacs)\n",
    "        num_not_found += 1\n",
    "#        print(\"Not found user: \", user)\n",
    "        continue\n",
    "    \n",
    "#    cuser = dataset.token2id(dataset.uid_field, user)   # получили id очередного юзера по его имени\n",
    "\n",
    "    _, topk_iid_list = predict_for_all_item(user, dataset, model)\n",
    "#    _, topk_iid_list = full_sort_topk([cuser], model, test_data, k=N_PREDICTIONS, device='cpu')\n",
    "    if len(topk_iid_list) == 0:\n",
    "#        print(\"Zero topk for user \", user)\n",
    "        predictions.append(vacs)\n",
    "        zero_topk += 1\n",
    "        continue\n",
    "    \n",
    "    last_topk_iid_list = topk_iid_list[-1]\n",
    "    recommendations = dataset.id2token(dataset.iid_field, last_topk_iid_list.cpu()).tolist()\n",
    "\n",
    "    predictions.append(recommendations)\n",
    "\n",
    "print(\"Not found: \", num_not_found)\n",
    "print(\"Zero topk: \", zero_topk)\n"
   ]
  },
  {
   "cell_type": "markdown",
   "metadata": {},
   "source": [
    "Предскажем в сочетании ALS и нашей модели"
   ]
  },
  {
   "cell_type": "code",
   "execution_count": 58,
   "metadata": {},
   "outputs": [
    {
     "name": "stderr",
     "output_type": "stream",
     "text": [
      "100%|██████████| 83189/83189 [51:15<00:00, 27.05it/s]  \n"
     ]
    },
    {
     "name": "stdout",
     "output_type": "stream",
     "text": [
      "Not found:  30906\n",
      "Not found by ALS:  0\n",
      "Zero topk:  0\n"
     ]
    }
   ],
   "source": [
    "predictions = []\n",
    "num_not_found = 0\n",
    "num_not_found_als = 0\n",
    "zero_topk = 0\n",
    "\n",
    "dataset_uids = dataset.field2token_id[dataset.uid_field]\n",
    "\n",
    "for user, vacs in tqdm(zip(test_users, test_vacancies), total=len(test_users)):\n",
    "#    print(\"Try: \", user)\n",
    "#    if user not in dataset.field2token_id[dataset.uid_field]:   # либо в тесте есть такой юзер, которого не было в трейне, либо в трейне он отсеялся по порогу (?)\n",
    "    if user not in dataset_uids:   # либо в тесте есть такой юзер, которого не было в трейне, либо в трейне он отсеялся по порогу (?) - тогда попробуем ALS\n",
    "        if user not in user2idx:\n",
    "             predictions.append(vacs)  # если его нет и тут больше ничего не остается\n",
    "             num_not_found_als += 1\n",
    "             continue\n",
    "        cuser = user2idx[user]\n",
    "        recommendations = als_model.recommend(cuser, uv_mat[cuser], N=N_PREDICTIONS, filter_already_liked_items=False)[0]\n",
    "        recommendations = [idx2vac[cv] for cv in recommendations]\n",
    "        predictions.append(recommendations)        \n",
    "         \n",
    "        num_not_found += 1\n",
    "#        print(\"Not found user: \", user)\n",
    "        continue\n",
    "    \n",
    "#    cuser = dataset.token2id(dataset.uid_field, user)   # получили id очередного юзера по его имени\n",
    "\n",
    "    _, topk_iid_list = predict_for_all_item(user, dataset, model)\n",
    "#    _, topk_iid_list = full_sort_topk([cuser], model, test_data, k=N_PREDICTIONS, device='cpu')\n",
    "    if len(topk_iid_list) == 0:\n",
    "#        print(\"Zero topk for user \", user)\n",
    "        if user not in user2idx:\n",
    "             predictions.append(vacs)  # если его нет и тут больше ничего не остается\n",
    "             num_not_found_als += 1\n",
    "             continue\n",
    "        cuser = user2idx[user]\n",
    "        recommendations = als_model.recommend(cuser, uv_mat[cuser], N=N_PREDICTIONS, filter_already_liked_items=False)[0]\n",
    "        recommendations = [idx2vac[cv] for cv in recommendations]\n",
    "        predictions.append(recommendations)        \n",
    "\n",
    "        zero_topk += 1\n",
    "        continue\n",
    "    \n",
    "    last_topk_iid_list = topk_iid_list[-1]\n",
    "    recommendations = dataset.id2token(dataset.iid_field, last_topk_iid_list.cpu()).tolist()\n",
    "\n",
    "    predictions.append(recommendations)\n",
    "\n",
    "print(\"Not found: \", num_not_found)\n",
    "print(\"Not found by ALS: \", num_not_found_als)\n",
    "print(\"Zero topk: \", zero_topk)\n"
   ]
  },
  {
   "cell_type": "code",
   "execution_count": null,
   "metadata": {},
   "outputs": [],
   "source": [
    "test = test.with_columns(pl.lit(pl.Series(predictions)).alias('predictions'))\n",
    "test.select(['user_id', 'session_id', 'predictions']).write_parquet('sasrecf-als-combined_submission.pq')"
   ]
  },
  {
   "cell_type": "code",
   "execution_count": null,
   "metadata": {},
   "outputs": [],
   "source": [
    "# test = test.with_columns(pl.Series(name='predictions', values=predictions))\n",
    "# в чате группы предлагали так\n"
   ]
  },
  {
   "cell_type": "code",
   "execution_count": 132,
   "metadata": {},
   "outputs": [],
   "source": [
    "dataset_uids = dataset.field2token_id[dataset.uid_field]"
   ]
  },
  {
   "cell_type": "code",
   "execution_count": 131,
   "metadata": {},
   "outputs": [],
   "source": [
    "predictions = []\n",
    "num_not_found = 0\n",
    "zero_topk = 0"
   ]
  },
  {
   "cell_type": "code",
   "execution_count": 104,
   "metadata": {},
   "outputs": [],
   "source": [
    "def final_predict(user_vacs_tuple):\n",
    "    global num_not_found, zero_topk\n",
    "    user, vacs = user_vacs_tuple\n",
    "#    print(\"Try: \", user)\n",
    "    if user not in dataset_uids:   # либо в тесте есть такой юзер, которого не было в трейне, либо в трейне он отсеялся по порогу (?)\n",
    "        num_not_found += 1\n",
    "#        print(\"Not found user: \", user)\n",
    "        return vacs.copy()\n",
    "#    print(\"User found ok: \", user)\n",
    "    \n",
    "#    cuser = dataset.token2id(dataset.uid_field, user)   # получили id очередного юзера по его имени\n",
    "\n",
    "    _, topk_iid_list = predict_for_all_item(user, dataset, model)\n",
    "#    print(\"Predictions got for user \", user)    \n",
    "    if len(topk_iid_list) == 0:\n",
    "#        print(\"Zero topk for user \", user)\n",
    "        zero_topk += 1\n",
    "        return vacs.copy()\n",
    "\n",
    "#    print(\"Prediction not zero for user \", user)\n",
    "\n",
    "    \n",
    "    last_topk_iid_list = topk_iid_list[-1]\n",
    "    recommendations = dataset.id2token(dataset.iid_field, last_topk_iid_list.cpu()).tolist()\n",
    "#    print(\"Recommendations ok...\")\n",
    "   \n",
    "    return recommendations"
   ]
  },
  {
   "cell_type": "code",
   "execution_count": 126,
   "metadata": {},
   "outputs": [],
   "source": [
    "from multiprocessing import Pool"
   ]
  },
  {
   "cell_type": "code",
   "execution_count": 122,
   "metadata": {},
   "outputs": [],
   "source": [
    "tu = test_users[:8]\n",
    "tv = test_vacancies[:8]"
   ]
  },
  {
   "cell_type": "code",
   "execution_count": 127,
   "metadata": {},
   "outputs": [
    {
     "name": "stdout",
     "output_type": "stream",
     "text": [
      "Not found:  2\n",
      "Zero topk:  0\n"
     ]
    }
   ],
   "source": [
    "print(\"Not found: \", num_not_found)\n",
    "print(\"Zero topk: \", zero_topk)"
   ]
  },
  {
   "cell_type": "code",
   "execution_count": null,
   "metadata": {},
   "outputs": [],
   "source": []
  },
  {
   "cell_type": "code",
   "execution_count": null,
   "metadata": {},
   "outputs": [],
   "source": []
  },
  {
   "cell_type": "code",
   "execution_count": 130,
   "metadata": {},
   "outputs": [
    {
     "ename": "KeyboardInterrupt",
     "evalue": "",
     "output_type": "error",
     "traceback": [
      "\u001b[0;31m---------------------------------------------------------------------------\u001b[0m",
      "\u001b[0;31mIndexError\u001b[0m                                Traceback (most recent call last)",
      "File \u001b[0;32m/usr/lib/python3.9/multiprocessing/pool.py:853\u001b[0m, in \u001b[0;36mIMapIterator.next\u001b[0;34m(self, timeout)\u001b[0m\n\u001b[1;32m    852\u001b[0m \u001b[38;5;28;01mtry\u001b[39;00m:\n\u001b[0;32m--> 853\u001b[0m     item \u001b[38;5;241m=\u001b[39m \u001b[38;5;28;43mself\u001b[39;49m\u001b[38;5;241;43m.\u001b[39;49m\u001b[43m_items\u001b[49m\u001b[38;5;241;43m.\u001b[39;49m\u001b[43mpopleft\u001b[49m\u001b[43m(\u001b[49m\u001b[43m)\u001b[49m\n\u001b[1;32m    854\u001b[0m \u001b[38;5;28;01mexcept\u001b[39;00m \u001b[38;5;167;01mIndexError\u001b[39;00m:\n",
      "\u001b[0;31mIndexError\u001b[0m: pop from an empty deque",
      "\nDuring handling of the above exception, another exception occurred:\n",
      "\u001b[0;31mKeyboardInterrupt\u001b[0m                         Traceback (most recent call last)",
      "Cell \u001b[0;32mIn[130], line 4\u001b[0m\n\u001b[1;32m      1\u001b[0m pool \u001b[38;5;241m=\u001b[39m Pool(processes\u001b[38;5;241m=\u001b[39m\u001b[38;5;241m8\u001b[39m)\n\u001b[1;32m      2\u001b[0m \u001b[38;5;66;03m# predictions = list(tqdm(pool.imap(final_predict, zip(test_users, test_vacancies), chunksize=8), total=len(test_users)))\u001b[39;00m\n\u001b[1;32m      3\u001b[0m \u001b[38;5;66;03m#predictions = list(tqdm(pool.imap(final_predict, zip(test_users, test_vacancies), chunksize=8), total=8))\u001b[39;00m\n\u001b[0;32m----> 4\u001b[0m predictions \u001b[38;5;241m=\u001b[39m \u001b[38;5;28;43mlist\u001b[39;49m\u001b[43m(\u001b[49m\u001b[43mpool\u001b[49m\u001b[38;5;241;43m.\u001b[39;49m\u001b[43mimap\u001b[49m\u001b[43m(\u001b[49m\u001b[43mfinal_predict\u001b[49m\u001b[43m,\u001b[49m\u001b[43m \u001b[49m\u001b[38;5;28;43mzip\u001b[39;49m\u001b[43m(\u001b[49m\u001b[43mtu\u001b[49m\u001b[43m,\u001b[49m\u001b[43m \u001b[49m\u001b[43mtv\u001b[49m\u001b[43m)\u001b[49m\u001b[43m)\u001b[49m\u001b[43m)\u001b[49m\n",
      "File \u001b[0;32m/usr/lib/python3.9/multiprocessing/pool.py:858\u001b[0m, in \u001b[0;36mIMapIterator.next\u001b[0;34m(self, timeout)\u001b[0m\n\u001b[1;32m    856\u001b[0m     \u001b[38;5;28mself\u001b[39m\u001b[38;5;241m.\u001b[39m_pool \u001b[38;5;241m=\u001b[39m \u001b[38;5;28;01mNone\u001b[39;00m\n\u001b[1;32m    857\u001b[0m     \u001b[38;5;28;01mraise\u001b[39;00m \u001b[38;5;167;01mStopIteration\u001b[39;00m \u001b[38;5;28;01mfrom\u001b[39;00m \u001b[38;5;28mNone\u001b[39m\n\u001b[0;32m--> 858\u001b[0m \u001b[38;5;28;43mself\u001b[39;49m\u001b[38;5;241;43m.\u001b[39;49m\u001b[43m_cond\u001b[49m\u001b[38;5;241;43m.\u001b[39;49m\u001b[43mwait\u001b[49m\u001b[43m(\u001b[49m\u001b[43mtimeout\u001b[49m\u001b[43m)\u001b[49m\n\u001b[1;32m    859\u001b[0m \u001b[38;5;28;01mtry\u001b[39;00m:\n\u001b[1;32m    860\u001b[0m     item \u001b[38;5;241m=\u001b[39m \u001b[38;5;28mself\u001b[39m\u001b[38;5;241m.\u001b[39m_items\u001b[38;5;241m.\u001b[39mpopleft()\n",
      "File \u001b[0;32m/usr/lib/python3.9/threading.py:312\u001b[0m, in \u001b[0;36mCondition.wait\u001b[0;34m(self, timeout)\u001b[0m\n\u001b[1;32m    310\u001b[0m \u001b[38;5;28;01mtry\u001b[39;00m:    \u001b[38;5;66;03m# restore state no matter what (e.g., KeyboardInterrupt)\u001b[39;00m\n\u001b[1;32m    311\u001b[0m     \u001b[38;5;28;01mif\u001b[39;00m timeout \u001b[38;5;129;01mis\u001b[39;00m \u001b[38;5;28;01mNone\u001b[39;00m:\n\u001b[0;32m--> 312\u001b[0m         \u001b[43mwaiter\u001b[49m\u001b[38;5;241;43m.\u001b[39;49m\u001b[43macquire\u001b[49m\u001b[43m(\u001b[49m\u001b[43m)\u001b[49m\n\u001b[1;32m    313\u001b[0m         gotit \u001b[38;5;241m=\u001b[39m \u001b[38;5;28;01mTrue\u001b[39;00m\n\u001b[1;32m    314\u001b[0m     \u001b[38;5;28;01melse\u001b[39;00m:\n",
      "\u001b[0;31mKeyboardInterrupt\u001b[0m: "
     ]
    }
   ],
   "source": [
    "pool = Pool(processes=8)\n",
    "# predictions = list(tqdm(pool.imap(final_predict, zip(test_users, test_vacancies), chunksize=8), total=len(test_users)))\n",
    "#predictions = list(tqdm(pool.imap(final_predict, zip(test_users, test_vacancies), chunksize=8), total=8))\n",
    "predictions = list(pool.imap(final_predict, zip(tu, tv)))\n"
   ]
  },
  {
   "cell_type": "code",
   "execution_count": 50,
   "metadata": {},
   "outputs": [],
   "source": [
    "tu = test_users[:8]\n",
    "tv = test_vacancies[:8]"
   ]
  },
  {
   "cell_type": "code",
   "execution_count": 58,
   "metadata": {},
   "outputs": [
    {
     "data": {
      "text/plain": [
       "['u_482520',\n",
       " 'u_582132',\n",
       " 'u_212584',\n",
       " 'u_425177',\n",
       " 'u_700997',\n",
       " 'u_687201',\n",
       " 'u_573219',\n",
       " 'u_1082782']"
      ]
     },
     "execution_count": 58,
     "metadata": {},
     "output_type": "execute_result"
    }
   ],
   "source": [
    "tu"
   ]
  },
  {
   "cell_type": "code",
   "execution_count": 51,
   "metadata": {},
   "outputs": [],
   "source": [
    "vac = tv[0]"
   ]
  },
  {
   "cell_type": "code",
   "execution_count": 65,
   "metadata": {},
   "outputs": [
    {
     "data": {
      "text/plain": [
       "['v_2597196', 'v_1223061']"
      ]
     },
     "execution_count": 65,
     "metadata": {},
     "output_type": "execute_result"
    }
   ],
   "source": [
    "vac2 = vac.copy()\n",
    "vac2"
   ]
  },
  {
   "cell_type": "code",
   "execution_count": 103,
   "metadata": {},
   "outputs": [
    {
     "ename": "KeyboardInterrupt",
     "evalue": "",
     "output_type": "error",
     "traceback": [
      "\u001b[0;31m---------------------------------------------------------------------------\u001b[0m",
      "\u001b[0;31mIndexError\u001b[0m                                Traceback (most recent call last)",
      "File \u001b[0;32m/usr/lib/python3.9/multiprocessing/pool.py:853\u001b[0m, in \u001b[0;36mIMapIterator.next\u001b[0;34m(self, timeout)\u001b[0m\n\u001b[1;32m    852\u001b[0m \u001b[38;5;28;01mtry\u001b[39;00m:\n\u001b[0;32m--> 853\u001b[0m     item \u001b[38;5;241m=\u001b[39m \u001b[38;5;28;43mself\u001b[39;49m\u001b[38;5;241;43m.\u001b[39;49m\u001b[43m_items\u001b[49m\u001b[38;5;241;43m.\u001b[39;49m\u001b[43mpopleft\u001b[49m\u001b[43m(\u001b[49m\u001b[43m)\u001b[49m\n\u001b[1;32m    854\u001b[0m \u001b[38;5;28;01mexcept\u001b[39;00m \u001b[38;5;167;01mIndexError\u001b[39;00m:\n",
      "\u001b[0;31mIndexError\u001b[0m: pop from an empty deque",
      "\nDuring handling of the above exception, another exception occurred:\n",
      "\u001b[0;31mKeyboardInterrupt\u001b[0m                         Traceback (most recent call last)",
      "Cell \u001b[0;32mIn[103], line 8\u001b[0m\n\u001b[1;32m      6\u001b[0m results_iterator \u001b[38;5;241m=\u001b[39m imap_easy(final_predict, \u001b[38;5;28mzip\u001b[39m(tu, tv), \u001b[38;5;241m-\u001b[39m\u001b[38;5;241m1\u001b[39m, \u001b[38;5;241m8\u001b[39m)\n\u001b[1;32m      7\u001b[0m \u001b[38;5;66;03m#predictions = list(result)\u001b[39;00m\n\u001b[0;32m----> 8\u001b[0m predictions \u001b[38;5;241m=\u001b[39m \u001b[38;5;28;43mlist\u001b[39;49m\u001b[43m(\u001b[49m\u001b[43mresults_iterator\u001b[49m\u001b[43m)\u001b[49m\n",
      "File \u001b[0;32m/usr/lib/python3.9/multiprocessing/pool.py:420\u001b[0m, in \u001b[0;36m<genexpr>\u001b[0;34m(.0)\u001b[0m\n\u001b[1;32m    412\u001b[0m result \u001b[38;5;241m=\u001b[39m IMapIterator(\u001b[38;5;28mself\u001b[39m)\n\u001b[1;32m    413\u001b[0m \u001b[38;5;28mself\u001b[39m\u001b[38;5;241m.\u001b[39m_taskqueue\u001b[38;5;241m.\u001b[39mput(\n\u001b[1;32m    414\u001b[0m     (\n\u001b[1;32m    415\u001b[0m         \u001b[38;5;28mself\u001b[39m\u001b[38;5;241m.\u001b[39m_guarded_task_generation(result\u001b[38;5;241m.\u001b[39m_job,\n\u001b[0;32m   (...)\u001b[0m\n\u001b[1;32m    418\u001b[0m         result\u001b[38;5;241m.\u001b[39m_set_length\n\u001b[1;32m    419\u001b[0m     ))\n\u001b[0;32m--> 420\u001b[0m \u001b[38;5;28;01mreturn\u001b[39;00m (item \u001b[38;5;28;01mfor\u001b[39;00m chunk \u001b[38;5;129;01min\u001b[39;00m result \u001b[38;5;28;01mfor\u001b[39;00m item \u001b[38;5;129;01min\u001b[39;00m chunk)\n",
      "File \u001b[0;32m/usr/lib/python3.9/multiprocessing/pool.py:858\u001b[0m, in \u001b[0;36mIMapIterator.next\u001b[0;34m(self, timeout)\u001b[0m\n\u001b[1;32m    856\u001b[0m     \u001b[38;5;28mself\u001b[39m\u001b[38;5;241m.\u001b[39m_pool \u001b[38;5;241m=\u001b[39m \u001b[38;5;28;01mNone\u001b[39;00m\n\u001b[1;32m    857\u001b[0m     \u001b[38;5;28;01mraise\u001b[39;00m \u001b[38;5;167;01mStopIteration\u001b[39;00m \u001b[38;5;28;01mfrom\u001b[39;00m \u001b[38;5;28mNone\u001b[39m\n\u001b[0;32m--> 858\u001b[0m \u001b[38;5;28;43mself\u001b[39;49m\u001b[38;5;241;43m.\u001b[39;49m\u001b[43m_cond\u001b[49m\u001b[38;5;241;43m.\u001b[39;49m\u001b[43mwait\u001b[49m\u001b[43m(\u001b[49m\u001b[43mtimeout\u001b[49m\u001b[43m)\u001b[49m\n\u001b[1;32m    859\u001b[0m \u001b[38;5;28;01mtry\u001b[39;00m:\n\u001b[1;32m    860\u001b[0m     item \u001b[38;5;241m=\u001b[39m \u001b[38;5;28mself\u001b[39m\u001b[38;5;241m.\u001b[39m_items\u001b[38;5;241m.\u001b[39mpopleft()\n",
      "File \u001b[0;32m/usr/lib/python3.9/threading.py:312\u001b[0m, in \u001b[0;36mCondition.wait\u001b[0;34m(self, timeout)\u001b[0m\n\u001b[1;32m    310\u001b[0m \u001b[38;5;28;01mtry\u001b[39;00m:    \u001b[38;5;66;03m# restore state no matter what (e.g., KeyboardInterrupt)\u001b[39;00m\n\u001b[1;32m    311\u001b[0m     \u001b[38;5;28;01mif\u001b[39;00m timeout \u001b[38;5;129;01mis\u001b[39;00m \u001b[38;5;28;01mNone\u001b[39;00m:\n\u001b[0;32m--> 312\u001b[0m         \u001b[43mwaiter\u001b[49m\u001b[38;5;241;43m.\u001b[39;49m\u001b[43macquire\u001b[49m\u001b[43m(\u001b[49m\u001b[43m)\u001b[49m\n\u001b[1;32m    313\u001b[0m         gotit \u001b[38;5;241m=\u001b[39m \u001b[38;5;28;01mTrue\u001b[39;00m\n\u001b[1;32m    314\u001b[0m     \u001b[38;5;28;01melse\u001b[39;00m:\n",
      "\u001b[0;31mKeyboardInterrupt\u001b[0m: "
     ]
    }
   ],
   "source": [
    "# pool = Pool(processes=2)\n",
    "# predictions = list(tqdm(pool.imap(final_predict, zip(test_users, test_vacancies), chunksize=8), total=len(test_users)))\n",
    "#predictions = list(tqdm(pool.imap(final_predict, zip(tu, tv))))\n",
    "# predictions = list(pool.map(final_predict, zip(tu, tv)))\n",
    "# result = pool.map(final_predict, zip(tu, tv))\n",
    "results_iterator = imap_easy(final_predict, zip(tu, tv), -1, 8)\n",
    "#predictions = list(result)\n",
    "predictions = list(results_iterator)\n"
   ]
  },
  {
   "cell_type": "code",
   "execution_count": 121,
   "metadata": {},
   "outputs": [],
   "source": [
    "test = test.with_columns(pl.lit(pl.Series(predictions)).alias('predictions'))\n",
    "test.select(['user_id', 'session_id', 'predictions']).write_parquet('sasrecf-10-15_good-dataset_last_item_submission.pq')"
   ]
  },
  {
   "cell_type": "code",
   "execution_count": null,
   "metadata": {},
   "outputs": [],
   "source": []
  },
  {
   "cell_type": "code",
   "execution_count": null,
   "metadata": {},
   "outputs": [],
   "source": [
    "# config, model, dataset, train_data, valid_data, test_data"
   ]
  },
  {
   "cell_type": "code",
   "execution_count": null,
   "metadata": {},
   "outputs": [],
   "source": [
    "dataset.token2id()"
   ]
  },
  {
   "cell_type": "code",
   "execution_count": 14,
   "metadata": {},
   "outputs": [
    {
     "data": {
      "text/html": [
       "<div><style>\n",
       ".dataframe > thead > tr > th,\n",
       ".dataframe > tbody > tr > td {\n",
       "  text-align: right;\n",
       "  white-space: pre-wrap;\n",
       "}\n",
       "</style>\n",
       "<small>shape: (83_189, 5)</small><table border=\"1\" class=\"dataframe\"><thead><tr><th>user_id</th><th>session_id</th><th>vacancy_id</th><th>action_type</th><th>action_dt</th></tr><tr><td>str</td><td>str</td><td>list[str]</td><td>list[i64]</td><td>list[datetime[ns]]</td></tr></thead><tbody><tr><td>&quot;u_482520&quot;</td><td>&quot;s_25018731&quot;</td><td>[&quot;v_2597196&quot;, &quot;v_1223061&quot;, &quot;v_1223061&quot;]</td><td>[2, 2, 1]</td><td>[2023-11-19 12:03:13.089, 2023-11-19 12:03:30.396, 2023-11-19 12:05:03.473]</td></tr><tr><td>&quot;u_582132&quot;</td><td>&quot;s_481216&quot;</td><td>[&quot;v_470400&quot;, &quot;v_470400&quot;, &quot;v_1530783&quot;]</td><td>[2, 1, 2]</td><td>[2023-11-21 15:39:47.981, 2023-11-21 15:43:57.620, 2023-11-21 15:44:37.982]</td></tr><tr><td>&quot;u_212584&quot;</td><td>&quot;s_16918781&quot;</td><td>[&quot;v_1572055&quot;, &quot;v_1572055&quot;, … &quot;v_1329494&quot;]</td><td>[2, 3, … 1]</td><td>[2023-11-16 08:41:47.031, 2023-11-16 08:45:21.403, … 2023-11-16 09:05:27.379]</td></tr><tr><td>&quot;u_425177&quot;</td><td>&quot;s_17505104&quot;</td><td>[&quot;v_1375331&quot;, &quot;v_1922852&quot;]</td><td>[2, 2]</td><td>[2023-11-17 12:42:18.513, 2023-11-17 12:43:52.744]</td></tr><tr><td>&quot;u_700997&quot;</td><td>&quot;s_15528830&quot;</td><td>[&quot;v_2152997&quot;, &quot;v_2152997&quot;, &quot;v_1217630&quot;]</td><td>[2, 1, 2]</td><td>[2023-11-16 17:22:53.530, 2023-11-16 17:23:19.885, 2023-11-16 17:23:33.472]</td></tr><tr><td>&quot;u_687201&quot;</td><td>&quot;s_11187326&quot;</td><td>[&quot;v_2602959&quot;, &quot;v_549337&quot;, … &quot;v_212060&quot;]</td><td>[2, 2, … 1]</td><td>[2023-11-21 14:41:30.546, 2023-11-21 15:00:25.506, … 2023-11-21 15:24:56.271]</td></tr><tr><td>&quot;u_573219&quot;</td><td>&quot;s_27394215&quot;</td><td>[&quot;v_1836184&quot;, &quot;v_2733253&quot;, … &quot;v_2297339&quot;]</td><td>[1, 2, … 2]</td><td>[2023-11-21 18:48:43.424, 2023-11-21 18:49:12.552, … 2023-11-21 19:48:55.704]</td></tr><tr><td>&quot;u_1082782&quot;</td><td>&quot;s_30341164&quot;</td><td>[&quot;v_1026036&quot;, &quot;v_1026036&quot;, … &quot;v_206700&quot;]</td><td>[2, 1, … 2]</td><td>[2023-11-17 02:54:19.561, 2023-11-17 02:54:50.486, … 2023-11-17 03:21:22.008]</td></tr><tr><td>&quot;u_81444&quot;</td><td>&quot;s_1909964&quot;</td><td>[&quot;v_2497384&quot;, &quot;v_1480870&quot;, … &quot;v_1500697&quot;]</td><td>[2, 2, … 1]</td><td>[2023-11-15 12:38:34.579, 2023-11-15 13:03:41.360, … 2023-11-15 13:05:15.916]</td></tr><tr><td>&quot;u_858357&quot;</td><td>&quot;s_12463318&quot;</td><td>[&quot;v_1085881&quot;, &quot;v_522338&quot;, … &quot;v_1776027&quot;]</td><td>[2, 2, … 2]</td><td>[2023-11-18 11:58:33.953, 2023-11-18 12:01:09.562, … 2023-11-18 14:39:24.255]</td></tr><tr><td>&quot;u_136080&quot;</td><td>&quot;s_25066108&quot;</td><td>[&quot;v_1167642&quot;, &quot;v_613829&quot;, … &quot;v_2061106&quot;]</td><td>[2, 2, … 2]</td><td>[2023-11-21 05:09:14.167, 2023-11-21 05:10:02.996, … 2023-11-21 05:17:03.842]</td></tr><tr><td>&quot;u_361893&quot;</td><td>&quot;s_12897073&quot;</td><td>[&quot;v_2188274&quot;, &quot;v_941470&quot;, … &quot;v_450701&quot;]</td><td>[2, 2, … 2]</td><td>[2023-11-21 16:03:36.003, 2023-11-21 16:04:07.515, … 2023-11-21 16:24:26.163]</td></tr><tr><td>&hellip;</td><td>&hellip;</td><td>&hellip;</td><td>&hellip;</td><td>&hellip;</td></tr><tr><td>&quot;u_27420&quot;</td><td>&quot;s_15647766&quot;</td><td>[&quot;v_779522&quot;, &quot;v_32918&quot;, … &quot;v_2382404&quot;]</td><td>[2, 2, … 2]</td><td>[2023-11-15 09:46:24.682, 2023-11-15 09:46:52.048, … 2023-11-15 09:55:07.684]</td></tr><tr><td>&quot;u_101925&quot;</td><td>&quot;s_9312767&quot;</td><td>[&quot;v_899404&quot;, &quot;v_2009859&quot;]</td><td>[2, 2]</td><td>[2023-11-17 10:54:18.637, 2023-11-17 12:19:55.239]</td></tr><tr><td>&quot;u_105702&quot;</td><td>&quot;s_27857907&quot;</td><td>[&quot;v_473549&quot;, &quot;v_1137408&quot;]</td><td>[2, 2]</td><td>[2023-11-18 09:25:22.487, 2023-11-18 09:27:10.980]</td></tr><tr><td>&quot;u_485573&quot;</td><td>&quot;s_19643559&quot;</td><td>[&quot;v_1032129&quot;, &quot;v_1340903&quot;, &quot;v_1032129&quot;]</td><td>[2, 2, 2]</td><td>[2023-11-21 14:44:58.274, 2023-11-21 15:11:34.645, 2023-11-21 15:11:56.029]</td></tr><tr><td>&quot;u_737688&quot;</td><td>&quot;s_5225203&quot;</td><td>[&quot;v_616873&quot;, &quot;v_2610004&quot;]</td><td>[2, 2]</td><td>[2023-11-20 12:37:56.056, 2023-11-20 12:41:23.243]</td></tr><tr><td>&quot;u_366097&quot;</td><td>&quot;s_20110640&quot;</td><td>[&quot;v_307100&quot;, &quot;v_2040988&quot;, … &quot;v_2586611&quot;]</td><td>[2, 2, … 1]</td><td>[2023-11-17 15:31:42.944, 2023-11-17 15:32:01.187, … 2023-11-17 15:36:51.248]</td></tr><tr><td>&quot;u_995221&quot;</td><td>&quot;s_21000652&quot;</td><td>[&quot;v_528661&quot;, &quot;v_528661&quot;, … &quot;v_199518&quot;]</td><td>[2, 1, … 2]</td><td>[2023-11-15 14:00:32.515, 2023-11-15 14:01:08.165, … 2023-11-15 14:04:31.812]</td></tr><tr><td>&quot;u_499368&quot;</td><td>&quot;s_19158589&quot;</td><td>[&quot;v_1716634&quot;, &quot;v_2232327&quot;, … &quot;v_1993650&quot;]</td><td>[2, 2, … 2]</td><td>[2023-11-18 03:15:15.530, 2023-11-18 03:19:20.971, … 2023-11-18 03:35:12.020]</td></tr><tr><td>&quot;u_1084868&quot;</td><td>&quot;s_24756162&quot;</td><td>[&quot;v_395706&quot;, &quot;v_2405231&quot;]</td><td>[2, 2]</td><td>[2023-11-15 18:06:16.550, 2023-11-15 18:07:18.447]</td></tr><tr><td>&quot;u_1138032&quot;</td><td>&quot;s_25291467&quot;</td><td>[&quot;v_1213925&quot;, &quot;v_1213925&quot;, … &quot;v_2359832&quot;]</td><td>[2, 1, … 1]</td><td>[2023-11-19 23:19:44.092, 2023-11-19 23:27:22.739, … 2023-11-19 23:27:51.152]</td></tr><tr><td>&quot;u_608102&quot;</td><td>&quot;s_18813020&quot;</td><td>[&quot;v_933773&quot;, &quot;v_933773&quot;, … &quot;v_2667466&quot;]</td><td>[3, 2, … 2]</td><td>[2023-11-16 15:40:09.408, 2023-11-16 15:40:09.448, … 2023-11-16 16:18:05.927]</td></tr><tr><td>&quot;u_847738&quot;</td><td>&quot;s_7662913&quot;</td><td>[&quot;v_875568&quot;, &quot;v_2677852&quot;, … &quot;v_1462102&quot;]</td><td>[2, 2, … 2]</td><td>[2023-11-17 13:34:03.386, 2023-11-17 13:34:57.675, … 2023-11-17 14:27:46.817]</td></tr></tbody></table></div>"
      ],
      "text/plain": [
       "shape: (83_189, 5)\n",
       "┌───────────┬────────────┬─────────────────────────────┬─────────────┬─────────────────────────────┐\n",
       "│ user_id   ┆ session_id ┆ vacancy_id                  ┆ action_type ┆ action_dt                   │\n",
       "│ ---       ┆ ---        ┆ ---                         ┆ ---         ┆ ---                         │\n",
       "│ str       ┆ str        ┆ list[str]                   ┆ list[i64]   ┆ list[datetime[ns]]          │\n",
       "╞═══════════╪════════════╪═════════════════════════════╪═════════════╪═════════════════════════════╡\n",
       "│ u_482520  ┆ s_25018731 ┆ [\"v_2597196\", \"v_1223061\",  ┆ [2, 2, 1]   ┆ [2023-11-19 12:03:13.089,   │\n",
       "│           ┆            ┆ \"v_12…                      ┆             ┆ 2023-1…                     │\n",
       "│ u_582132  ┆ s_481216   ┆ [\"v_470400\", \"v_470400\",    ┆ [2, 1, 2]   ┆ [2023-11-21 15:39:47.981,   │\n",
       "│           ┆            ┆ \"v_1530…                    ┆             ┆ 2023-1…                     │\n",
       "│ u_212584  ┆ s_16918781 ┆ [\"v_1572055\", \"v_1572055\",  ┆ [2, 3, … 1] ┆ [2023-11-16 08:41:47.031,   │\n",
       "│           ┆            ┆ … \"v_…                      ┆             ┆ 2023-1…                     │\n",
       "│ u_425177  ┆ s_17505104 ┆ [\"v_1375331\", \"v_1922852\"]  ┆ [2, 2]      ┆ [2023-11-17 12:42:18.513,   │\n",
       "│           ┆            ┆                             ┆             ┆ 2023-1…                     │\n",
       "│ …         ┆ …          ┆ …                           ┆ …           ┆ …                           │\n",
       "│ u_1084868 ┆ s_24756162 ┆ [\"v_395706\", \"v_2405231\"]   ┆ [2, 2]      ┆ [2023-11-15 18:06:16.550,   │\n",
       "│           ┆            ┆                             ┆             ┆ 2023-1…                     │\n",
       "│ u_1138032 ┆ s_25291467 ┆ [\"v_1213925\", \"v_1213925\",  ┆ [2, 1, … 1] ┆ [2023-11-19 23:19:44.092,   │\n",
       "│           ┆            ┆ … \"v_…                      ┆             ┆ 2023-1…                     │\n",
       "│ u_608102  ┆ s_18813020 ┆ [\"v_933773\", \"v_933773\", …  ┆ [3, 2, … 2] ┆ [2023-11-16 15:40:09.408,   │\n",
       "│           ┆            ┆ \"v_26…                      ┆             ┆ 2023-1…                     │\n",
       "│ u_847738  ┆ s_7662913  ┆ [\"v_875568\", \"v_2677852\", … ┆ [2, 2, … 2] ┆ [2023-11-17 13:34:03.386,   │\n",
       "│           ┆            ┆ \"v_1…                       ┆             ┆ 2023-1…                     │\n",
       "└───────────┴────────────┴─────────────────────────────┴─────────────┴─────────────────────────────┘"
      ]
     },
     "execution_count": 14,
     "metadata": {},
     "output_type": "execute_result"
    }
   ],
   "source": [
    "test"
   ]
  },
  {
   "cell_type": "code",
   "execution_count": null,
   "metadata": {},
   "outputs": [],
   "source": []
  },
  {
   "cell_type": "code",
   "execution_count": null,
   "metadata": {},
   "outputs": [],
   "source": [
    "external_user_ids = dataset.id2token(dataset.uid_field, list(range(dataset.user_num)))[1:]   #fist element in array is 'PAD'(default of Recbole) ->remove it "
   ]
  },
  {
   "cell_type": "code",
   "execution_count": null,
   "metadata": {},
   "outputs": [],
   "source": [
    "external_user_ids"
   ]
  },
  {
   "cell_type": "code",
   "execution_count": null,
   "metadata": {},
   "outputs": [],
   "source": [
    "external_item_list"
   ]
  },
  {
   "cell_type": "code",
   "execution_count": null,
   "metadata": {},
   "outputs": [],
   "source": []
  },
  {
   "cell_type": "code",
   "execution_count": null,
   "metadata": {},
   "outputs": [],
   "source": [
    "train = pl.read_parquet(\"./hh_recsys_train_hh.pq\")\n",
    "test = pl.read_parquet(\"./hh_recsys_test_hh.pq\")"
   ]
  },
  {
   "cell_type": "code",
   "execution_count": null,
   "metadata": {},
   "outputs": [],
   "source": [
    "unique_users = train['user_id'].unique().to_list()\n",
    "unique_vacancies = train['vacancy_id'].explode().unique().to_list()\n",
    "\n",
    "user2idx = {user_id: idx for idx, user_id in enumerate(unique_users)}\n",
    "vac2idx = {vac_id: idx for idx, vac_id in enumerate(unique_vacancies)}\n",
    "\n",
    "idx2vac = {idx: vac_id for vac_id, idx in vac2idx.items()}\n",
    "idx2user = {idx: user_id for user_id, idx in user2idx.items()}\n"
   ]
  },
  {
   "cell_type": "code",
   "execution_count": null,
   "metadata": {},
   "outputs": [],
   "source": [
    "test_users = test['user_id'].to_list()\n",
    "test_vacancies = test.select(pl.col('vacancy_id').list.unique(maintain_order=True))['vacancy_id'].to_list()"
   ]
  },
  {
   "cell_type": "code",
   "execution_count": null,
   "metadata": {},
   "outputs": [],
   "source": [
    "predictions = []\n",
    "\n",
    "for user, vacs in tqdm(zip(test_users, test_vacancies), total=len(test_users)):\n",
    "    if user not in user2idx:\n",
    "        predictions.append(vacs)\n",
    "        continue\n",
    "    cuser = user2idx[user]\n",
    "\n",
    "    recommendations = als_model.recommend(cuser, uv_mat[cuser], N=N_PREDICTIONS)[0]\n",
    "    recommendations = [idx2vac[cv] for cv in recommendations]\n",
    "    predictions.append(recommendations)"
   ]
  },
  {
   "cell_type": "code",
   "execution_count": null,
   "metadata": {},
   "outputs": [],
   "source": [
    "#test = test.with_columns(pl.lit(predictions).alias('predictions'))\n",
    "test = test.with_columns(pl.lit(pl.Series(predictions)).alias('predictions'))\n",
    "test.select(['user_id', 'session_id', 'predictions']).write_parquet('als_submission.pq')"
   ]
  },
  {
   "cell_type": "code",
   "execution_count": 118,
   "metadata": {},
   "outputs": [
    {
     "data": {
      "text/plain": [
       "{'vacancy_id_list': tensor([[ 84548,  84548, 104162, 104162, 201448,  25052,  24355,  25052,  25052,\n",
       "           47335]]),\n",
       " 'item_length': tensor([10])}"
      ]
     },
     "execution_count": 118,
     "metadata": {},
     "output_type": "execute_result"
    }
   ],
   "source": [
    "test"
   ]
  },
  {
   "cell_type": "code",
   "execution_count": 1,
   "metadata": {},
   "outputs": [],
   "source": [
    "from tqdm import tqdm\n",
    "from multiprocessing import Pool"
   ]
  },
  {
   "cell_type": "code",
   "execution_count": 2,
   "metadata": {},
   "outputs": [],
   "source": [
    "test_users2 = [1, 2, 3]\n",
    "test_vacancies2 = [[11,111,1111], [22,222,2222], [33,333,3333]]"
   ]
  },
  {
   "cell_type": "code",
   "execution_count": 3,
   "metadata": {},
   "outputs": [],
   "source": [
    "def func2(param1_tuple):\n",
    "  param1, param2 = param1_tuple\n",
    "  print(\"param1 =\", param1, \"param2 = \", param2)\n",
    "  return param2"
   ]
  },
  {
   "cell_type": "code",
   "execution_count": 7,
   "metadata": {},
   "outputs": [],
   "source": [
    "pool = Pool(processes=8)"
   ]
  },
  {
   "cell_type": "code",
   "execution_count": 8,
   "metadata": {},
   "outputs": [
    {
     "name": "stdout",
     "output_type": "stream",
     "text": [
      "param1 =param1 =  31  param2 = param2 =   [11, 111, 1111][33, 333, 3333]\n",
      "\n",
      "param1 = 2 param2 =  [22, 222, 2222]\n"
     ]
    },
    {
     "name": "stderr",
     "output_type": "stream",
     "text": [
      "100%|██████████| 3/3 [00:00<00:00, 33376.42it/s]\n"
     ]
    }
   ],
   "source": [
    "mapped_values = list(tqdm(pool.map(func2, zip(test_users2, test_vacancies2), chunksize=2), total=len(test_users2)))"
   ]
  },
  {
   "cell_type": "code",
   "execution_count": 6,
   "metadata": {},
   "outputs": [
    {
     "data": {
      "text/plain": [
       "[[11, 111, 1111], [22, 222, 2222], [33, 333, 3333]]"
      ]
     },
     "execution_count": 6,
     "metadata": {},
     "output_type": "execute_result"
    }
   ],
   "source": [
    "mapped_values"
   ]
  },
  {
   "cell_type": "code",
   "execution_count": 7,
   "metadata": {},
   "outputs": [],
   "source": [
    "with open('dataset_test.pkl', 'wb') as fp:\n",
    "    pickle.dump(dataset, fp)"
   ]
  },
  {
   "cell_type": "markdown",
   "metadata": {},
   "source": [
    "Уберем из предсказаний те, на которые он уже откликался"
   ]
  },
  {
   "cell_type": "code",
   "execution_count": 6,
   "metadata": {},
   "outputs": [],
   "source": [
    "import pickle"
   ]
  },
  {
   "cell_type": "code",
   "execution_count": 71,
   "metadata": {},
   "outputs": [],
   "source": [
    "with open('predictions.pkl', 'rb') as fp:\n",
    "    predictions = pickle.load(fp)"
   ]
  },
  {
   "cell_type": "code",
   "execution_count": 10,
   "metadata": {},
   "outputs": [],
   "source": [
    "test = pl.read_parquet(\"./hh_recsys_test_hh.pq\", low_memory=True)"
   ]
  },
  {
   "cell_type": "code",
   "execution_count": 30,
   "metadata": {},
   "outputs": [],
   "source": [
    "test_users = test['user_id'].to_list()\n",
    "test_vacancies_all = test.select(pl.col('vacancy_id'))['vacancy_id'].to_list()\n",
    "test_actions_all = test.select(pl.col('action_type'))['action_type'].to_list()"
   ]
  },
  {
   "cell_type": "code",
   "execution_count": 59,
   "metadata": {},
   "outputs": [
    {
     "data": {
      "text/html": [
       "<div><style>\n",
       ".dataframe > thead > tr,\n",
       ".dataframe > tbody > tr {\n",
       "  text-align: right;\n",
       "  white-space: pre-wrap;\n",
       "}\n",
       "</style>\n",
       "<small>shape: (1, 5)</small><table border=\"1\" class=\"dataframe\"><thead><tr><th>user_id</th><th>session_id</th><th>vacancy_id</th><th>action_type</th><th>action_dt</th></tr><tr><td>str</td><td>str</td><td>list[str]</td><td>list[i64]</td><td>list[datetime[ns]]</td></tr></thead><tbody><tr><td>&quot;u_482520&quot;</td><td>&quot;s_25018731&quot;</td><td>[&quot;v_2597196&quot;, &quot;v_1223061&quot;, &quot;v_1223061&quot;]</td><td>[2, 2, 1]</td><td>[2023-11-19 12:03:13.089, 2023-11-19 12:03:30.396, 2023-11-19 12:05:03.473]</td></tr></tbody></table></div>"
      ],
      "text/plain": [
       "shape: (1, 5)\n",
       "┌──────────┬────────────┬──────────────────────────────┬─────────────┬─────────────────────────────┐\n",
       "│ user_id  ┆ session_id ┆ vacancy_id                   ┆ action_type ┆ action_dt                   │\n",
       "│ ---      ┆ ---        ┆ ---                          ┆ ---         ┆ ---                         │\n",
       "│ str      ┆ str        ┆ list[str]                    ┆ list[i64]   ┆ list[datetime[ns]]          │\n",
       "╞══════════╪════════════╪══════════════════════════════╪═════════════╪═════════════════════════════╡\n",
       "│ u_482520 ┆ s_25018731 ┆ [\"v_2597196\", \"v_1223061\",   ┆ [2, 2, 1]   ┆ [2023-11-19 12:03:13.089,   │\n",
       "│          ┆            ┆ \"v_12…                       ┆             ┆ 2023-1…                     │\n",
       "└──────────┴────────────┴──────────────────────────────┴─────────────┴─────────────────────────────┘"
      ]
     },
     "execution_count": 59,
     "metadata": {},
     "output_type": "execute_result"
    }
   ],
   "source": [
    "test[0] "
   ]
  },
  {
   "cell_type": "code",
   "execution_count": 23,
   "metadata": {},
   "outputs": [
    {
     "data": {
      "text/plain": [
       "['v_2597196', 'v_1223061', 'v_1223061']"
      ]
     },
     "execution_count": 23,
     "metadata": {},
     "output_type": "execute_result"
    }
   ],
   "source": [
    "test[0]['vacancy_id'].to_list()[0]"
   ]
  },
  {
   "cell_type": "code",
   "execution_count": 66,
   "metadata": {},
   "outputs": [
    {
     "data": {
      "text/plain": [
       "99"
      ]
     },
     "execution_count": 66,
     "metadata": {},
     "output_type": "execute_result"
    }
   ],
   "source": [
    "len(predictions[1][0])"
   ]
  },
  {
   "cell_type": "code",
   "execution_count": 72,
   "metadata": {},
   "outputs": [],
   "source": [
    "new_predictions = []\n",
    "\n",
    "for vacs, acts, prediction in zip(test_vacancies_all, test_actions_all, predictions):\n",
    "    if 1 in acts:\n",
    "        indxs = [index for index, value in enumerate(acts) if value == 1]  # индексы откликов в action_type - надо убрать рекомендации этих вакансий из prediction\n",
    "        for i in sorted(indxs, reverse=True):\n",
    "            del prediction[0][i]\n",
    "            del prediction[1][i]\n",
    "        \n",
    "    new_predictions.append(prediction[1])\n"
   ]
  },
  {
   "cell_type": "code",
   "execution_count": 76,
   "metadata": {},
   "outputs": [
    {
     "name": "stdout",
     "output_type": "stream",
     "text": [
      "/media/arseny/Диск D/Обучение Data Science/Хакатон RecSys\n"
     ]
    }
   ],
   "source": [
    "!pwd"
   ]
  },
  {
   "cell_type": "code",
   "execution_count": 73,
   "metadata": {},
   "outputs": [],
   "source": [
    "test = test.with_columns(pl.lit(pl.Series(new_predictions)).alias('predictions'))\n",
    "test.select(['user_id', 'session_id', 'predictions']).write_parquet('without_answered_vacs_submission.pq')"
   ]
  },
  {
   "cell_type": "code",
   "execution_count": 74,
   "metadata": {},
   "outputs": [
    {
     "data": {
      "text/html": [
       "<div><style>\n",
       ".dataframe > thead > tr,\n",
       ".dataframe > tbody > tr {\n",
       "  text-align: right;\n",
       "  white-space: pre-wrap;\n",
       "}\n",
       "</style>\n",
       "<small>shape: (83_189, 6)</small><table border=\"1\" class=\"dataframe\"><thead><tr><th>user_id</th><th>session_id</th><th>vacancy_id</th><th>action_type</th><th>action_dt</th><th>predictions</th></tr><tr><td>str</td><td>str</td><td>list[str]</td><td>list[i64]</td><td>list[datetime[ns]]</td><td>list[str]</td></tr></thead><tbody><tr><td>&quot;u_482520&quot;</td><td>&quot;s_25018731&quot;</td><td>[&quot;v_2597196&quot;, &quot;v_1223061&quot;, &quot;v_1223061&quot;]</td><td>[2, 2, 1]</td><td>[2023-11-19 12:03:13.089, 2023-11-19 12:03:30.396, 2023-11-19 12:05:03.473]</td><td>[&quot;v_1943657&quot;, &quot;v_802227&quot;, … &quot;v_1209207&quot;]</td></tr><tr><td>&quot;u_582132&quot;</td><td>&quot;s_481216&quot;</td><td>[&quot;v_470400&quot;, &quot;v_470400&quot;, &quot;v_1530783&quot;]</td><td>[2, 1, 2]</td><td>[2023-11-21 15:39:47.981, 2023-11-21 15:43:57.620, 2023-11-21 15:44:37.982]</td><td>[&quot;v_1530783&quot;, &quot;v_1919088&quot;, … &quot;v_483786&quot;]</td></tr><tr><td>&quot;u_212584&quot;</td><td>&quot;s_16918781&quot;</td><td>[&quot;v_1572055&quot;, &quot;v_1572055&quot;, … &quot;v_1329494&quot;]</td><td>[2, 3, … 1]</td><td>[2023-11-16 08:41:47.031, 2023-11-16 08:45:21.403, … 2023-11-16 09:05:27.379]</td><td>[&quot;v_1329494&quot;, &quot;v_1592343&quot;, … &quot;v_1540776&quot;]</td></tr><tr><td>&quot;u_425177&quot;</td><td>&quot;s_17505104&quot;</td><td>[&quot;v_1375331&quot;, &quot;v_1922852&quot;]</td><td>[2, 2]</td><td>[2023-11-17 12:42:18.513, 2023-11-17 12:43:52.744]</td><td>[&quot;v_1922852&quot;, &quot;v_350120&quot;, … &quot;v_2045008&quot;]</td></tr><tr><td>&quot;u_700997&quot;</td><td>&quot;s_15528830&quot;</td><td>[&quot;v_2152997&quot;, &quot;v_2152997&quot;, &quot;v_1217630&quot;]</td><td>[2, 1, 2]</td><td>[2023-11-16 17:22:53.530, 2023-11-16 17:23:19.885, 2023-11-16 17:23:33.472]</td><td>[&quot;v_897402&quot;, &quot;v_1796672&quot;, … &quot;v_530167&quot;]</td></tr><tr><td>&quot;u_687201&quot;</td><td>&quot;s_11187326&quot;</td><td>[&quot;v_2602959&quot;, &quot;v_549337&quot;, … &quot;v_212060&quot;]</td><td>[2, 2, … 1]</td><td>[2023-11-21 14:41:30.546, 2023-11-21 15:00:25.506, … 2023-11-21 15:24:56.271]</td><td>[&quot;v_212060&quot;, &quot;v_1878247&quot;, … &quot;v_2428925&quot;]</td></tr><tr><td>&quot;u_573219&quot;</td><td>&quot;s_27394215&quot;</td><td>[&quot;v_1836184&quot;, &quot;v_2733253&quot;, … &quot;v_2297339&quot;]</td><td>[1, 2, … 2]</td><td>[2023-11-21 18:48:43.424, 2023-11-21 18:49:12.552, … 2023-11-21 19:48:55.704]</td><td>[&quot;v_450284&quot;, &quot;v_1199926&quot;, … &quot;v_123110&quot;]</td></tr><tr><td>&quot;u_1082782&quot;</td><td>&quot;s_30341164&quot;</td><td>[&quot;v_1026036&quot;, &quot;v_1026036&quot;, … &quot;v_206700&quot;]</td><td>[2, 1, … 2]</td><td>[2023-11-17 02:54:19.561, 2023-11-17 02:54:50.486, … 2023-11-17 03:21:22.008]</td><td>[&quot;v_2373713&quot;, &quot;v_1507296&quot;, … &quot;v_478722&quot;]</td></tr><tr><td>&quot;u_81444&quot;</td><td>&quot;s_1909964&quot;</td><td>[&quot;v_2497384&quot;, &quot;v_1480870&quot;, … &quot;v_1500697&quot;]</td><td>[2, 2, … 1]</td><td>[2023-11-15 12:38:34.579, 2023-11-15 13:03:41.360, … 2023-11-15 13:05:15.916]</td><td>[&quot;v_1498100&quot;, &quot;v_344065&quot;, … &quot;v_1418492&quot;]</td></tr><tr><td>&quot;u_858357&quot;</td><td>&quot;s_12463318&quot;</td><td>[&quot;v_1085881&quot;, &quot;v_522338&quot;, … &quot;v_1776027&quot;]</td><td>[2, 2, … 2]</td><td>[2023-11-18 11:58:33.953, 2023-11-18 12:01:09.562, … 2023-11-18 14:39:24.255]</td><td>[&quot;v_2170682&quot;, &quot;v_1776027&quot;, … &quot;v_204449&quot;]</td></tr><tr><td>&quot;u_136080&quot;</td><td>&quot;s_25066108&quot;</td><td>[&quot;v_1167642&quot;, &quot;v_613829&quot;, … &quot;v_2061106&quot;]</td><td>[2, 2, … 2]</td><td>[2023-11-21 05:09:14.167, 2023-11-21 05:10:02.996, … 2023-11-21 05:17:03.842]</td><td>[&quot;v_1006690&quot;, &quot;v_2061106&quot;, … &quot;v_1740242&quot;]</td></tr><tr><td>&quot;u_361893&quot;</td><td>&quot;s_12897073&quot;</td><td>[&quot;v_2188274&quot;, &quot;v_941470&quot;, … &quot;v_450701&quot;]</td><td>[2, 2, … 2]</td><td>[2023-11-21 16:03:36.003, 2023-11-21 16:04:07.515, … 2023-11-21 16:24:26.163]</td><td>[&quot;v_450701&quot;, &quot;v_1531810&quot;, … &quot;v_1203107&quot;]</td></tr><tr><td>&hellip;</td><td>&hellip;</td><td>&hellip;</td><td>&hellip;</td><td>&hellip;</td><td>&hellip;</td></tr><tr><td>&quot;u_27420&quot;</td><td>&quot;s_15647766&quot;</td><td>[&quot;v_779522&quot;, &quot;v_32918&quot;, … &quot;v_2382404&quot;]</td><td>[2, 2, … 2]</td><td>[2023-11-15 09:46:24.682, 2023-11-15 09:46:52.048, … 2023-11-15 09:55:07.684]</td><td>[&quot;v_1730743&quot;, &quot;v_2251138&quot;, … &quot;v_846145&quot;]</td></tr><tr><td>&quot;u_101925&quot;</td><td>&quot;s_9312767&quot;</td><td>[&quot;v_899404&quot;, &quot;v_2009859&quot;]</td><td>[2, 2]</td><td>[2023-11-17 10:54:18.637, 2023-11-17 12:19:55.239]</td><td>[&quot;v_2670744&quot;, &quot;v_2584051&quot;, … &quot;v_1890590&quot;]</td></tr><tr><td>&quot;u_105702&quot;</td><td>&quot;s_27857907&quot;</td><td>[&quot;v_473549&quot;, &quot;v_1137408&quot;]</td><td>[2, 2]</td><td>[2023-11-18 09:25:22.487, 2023-11-18 09:27:10.980]</td><td>[&quot;v_1489925&quot;, &quot;v_1137408&quot;, … &quot;v_2138931&quot;]</td></tr><tr><td>&quot;u_485573&quot;</td><td>&quot;s_19643559&quot;</td><td>[&quot;v_1032129&quot;, &quot;v_1340903&quot;, &quot;v_1032129&quot;]</td><td>[2, 2, 2]</td><td>[2023-11-21 14:44:58.274, 2023-11-21 15:11:34.645, 2023-11-21 15:11:56.029]</td><td>[&quot;v_2277901&quot;, &quot;v_688229&quot;, … &quot;v_2234178&quot;]</td></tr><tr><td>&quot;u_737688&quot;</td><td>&quot;s_5225203&quot;</td><td>[&quot;v_616873&quot;, &quot;v_2610004&quot;]</td><td>[2, 2]</td><td>[2023-11-20 12:37:56.056, 2023-11-20 12:41:23.243]</td><td>[&quot;v_2610004&quot;, &quot;v_513981&quot;, … &quot;v_2049105&quot;]</td></tr><tr><td>&quot;u_366097&quot;</td><td>&quot;s_20110640&quot;</td><td>[&quot;v_307100&quot;, &quot;v_2040988&quot;, … &quot;v_2586611&quot;]</td><td>[2, 2, … 1]</td><td>[2023-11-17 15:31:42.944, 2023-11-17 15:32:01.187, … 2023-11-17 15:36:51.248]</td><td>[&quot;v_281919&quot;, &quot;v_1919491&quot;, … &quot;v_1779860&quot;]</td></tr><tr><td>&quot;u_995221&quot;</td><td>&quot;s_21000652&quot;</td><td>[&quot;v_528661&quot;, &quot;v_528661&quot;, … &quot;v_199518&quot;]</td><td>[2, 1, … 2]</td><td>[2023-11-15 14:00:32.515, 2023-11-15 14:01:08.165, … 2023-11-15 14:04:31.812]</td><td>[&quot;v_1047792&quot;, &quot;v_2192651&quot;, … &quot;v_1632068&quot;]</td></tr><tr><td>&quot;u_499368&quot;</td><td>&quot;s_19158589&quot;</td><td>[&quot;v_1716634&quot;, &quot;v_2232327&quot;, … &quot;v_1993650&quot;]</td><td>[2, 2, … 2]</td><td>[2023-11-18 03:15:15.530, 2023-11-18 03:19:20.971, … 2023-11-18 03:35:12.020]</td><td>[&quot;v_667053&quot;, &quot;v_2558990&quot;, … &quot;v_1824931&quot;]</td></tr><tr><td>&quot;u_1084868&quot;</td><td>&quot;s_24756162&quot;</td><td>[&quot;v_395706&quot;, &quot;v_2405231&quot;]</td><td>[2, 2]</td><td>[2023-11-15 18:06:16.550, 2023-11-15 18:07:18.447]</td><td>[&quot;v_1117529&quot;, &quot;v_2183486&quot;, … &quot;v_819073&quot;]</td></tr><tr><td>&quot;u_1138032&quot;</td><td>&quot;s_25291467&quot;</td><td>[&quot;v_1213925&quot;, &quot;v_1213925&quot;, … &quot;v_2359832&quot;]</td><td>[2, 1, … 1]</td><td>[2023-11-19 23:19:44.092, 2023-11-19 23:27:22.739, … 2023-11-19 23:27:51.152]</td><td>[&quot;v_2359832&quot;, &quot;v_1934802&quot;, … &quot;v_2496869&quot;]</td></tr><tr><td>&quot;u_608102&quot;</td><td>&quot;s_18813020&quot;</td><td>[&quot;v_933773&quot;, &quot;v_933773&quot;, … &quot;v_2667466&quot;]</td><td>[3, 2, … 2]</td><td>[2023-11-16 15:40:09.408, 2023-11-16 15:40:09.448, … 2023-11-16 16:18:05.927]</td><td>[&quot;v_2667466&quot;, &quot;v_2456564&quot;, … &quot;v_1331742&quot;]</td></tr><tr><td>&quot;u_847738&quot;</td><td>&quot;s_7662913&quot;</td><td>[&quot;v_875568&quot;, &quot;v_2677852&quot;, … &quot;v_1462102&quot;]</td><td>[2, 2, … 2]</td><td>[2023-11-17 13:34:03.386, 2023-11-17 13:34:57.675, … 2023-11-17 14:27:46.817]</td><td>[&quot;v_1742275&quot;, &quot;v_1462102&quot;, … &quot;v_686844&quot;]</td></tr></tbody></table></div>"
      ],
      "text/plain": [
       "shape: (83_189, 6)\n",
       "┌───────────┬────────────┬────────────────┬─────────────┬─────────────────────────┬────────────────┐\n",
       "│ user_id   ┆ session_id ┆ vacancy_id     ┆ action_type ┆ action_dt               ┆ predictions    │\n",
       "│ ---       ┆ ---        ┆ ---            ┆ ---         ┆ ---                     ┆ ---            │\n",
       "│ str       ┆ str        ┆ list[str]      ┆ list[i64]   ┆ list[datetime[ns]]      ┆ list[str]      │\n",
       "╞═══════════╪════════════╪════════════════╪═════════════╪═════════════════════════╪════════════════╡\n",
       "│ u_482520  ┆ s_25018731 ┆ [\"v_2597196\",  ┆ [2, 2, 1]   ┆ [2023-11-19             ┆ [\"v_1943657\",  │\n",
       "│           ┆            ┆ \"v_1223061\",   ┆             ┆ 12:03:13.089, 2023-1…   ┆ \"v_802227\", …  │\n",
       "│           ┆            ┆ \"v_12…         ┆             ┆                         ┆ \"v_1…          │\n",
       "│ u_582132  ┆ s_481216   ┆ [\"v_470400\",   ┆ [2, 1, 2]   ┆ [2023-11-21             ┆ [\"v_1530783\",  │\n",
       "│           ┆            ┆ \"v_470400\",    ┆             ┆ 15:39:47.981, 2023-1…   ┆ \"v_1919088\", … │\n",
       "│           ┆            ┆ \"v_1530…       ┆             ┆                         ┆ \"v_…           │\n",
       "│ u_212584  ┆ s_16918781 ┆ [\"v_1572055\",  ┆ [2, 3, … 1] ┆ [2023-11-16             ┆ [\"v_1329494\",  │\n",
       "│           ┆            ┆ \"v_1572055\", … ┆             ┆ 08:41:47.031, 2023-1…   ┆ \"v_1592343\", … │\n",
       "│           ┆            ┆ \"v_…           ┆             ┆                         ┆ \"v_…           │\n",
       "│ u_425177  ┆ s_17505104 ┆ [\"v_1375331\",  ┆ [2, 2]      ┆ [2023-11-17             ┆ [\"v_1922852\",  │\n",
       "│           ┆            ┆ \"v_1922852\"]   ┆             ┆ 12:42:18.513, 2023-1…   ┆ \"v_350120\", …  │\n",
       "│           ┆            ┆                ┆             ┆                         ┆ \"v_2…          │\n",
       "│ u_700997  ┆ s_15528830 ┆ [\"v_2152997\",  ┆ [2, 1, 2]   ┆ [2023-11-16             ┆ [\"v_897402\",   │\n",
       "│           ┆            ┆ \"v_2152997\",   ┆             ┆ 17:22:53.530, 2023-1…   ┆ \"v_1796672\", … │\n",
       "│           ┆            ┆ \"v_12…         ┆             ┆                         ┆ \"v_5…          │\n",
       "│ …         ┆ …          ┆ …              ┆ …           ┆ …                       ┆ …              │\n",
       "│ u_499368  ┆ s_19158589 ┆ [\"v_1716634\",  ┆ [2, 2, … 2] ┆ [2023-11-18             ┆ [\"v_667053\",   │\n",
       "│           ┆            ┆ \"v_2232327\", … ┆             ┆ 03:15:15.530, 2023-1…   ┆ \"v_2558990\", … │\n",
       "│           ┆            ┆ \"v_…           ┆             ┆                         ┆ \"v_1…          │\n",
       "│ u_1084868 ┆ s_24756162 ┆ [\"v_395706\",   ┆ [2, 2]      ┆ [2023-11-15             ┆ [\"v_1117529\",  │\n",
       "│           ┆            ┆ \"v_2405231\"]   ┆             ┆ 18:06:16.550, 2023-1…   ┆ \"v_2183486\", … │\n",
       "│           ┆            ┆                ┆             ┆                         ┆ \"v_…           │\n",
       "│ u_1138032 ┆ s_25291467 ┆ [\"v_1213925\",  ┆ [2, 1, … 1] ┆ [2023-11-19             ┆ [\"v_2359832\",  │\n",
       "│           ┆            ┆ \"v_1213925\", … ┆             ┆ 23:19:44.092, 2023-1…   ┆ \"v_1934802\", … │\n",
       "│           ┆            ┆ \"v_…           ┆             ┆                         ┆ \"v_…           │\n",
       "│ u_608102  ┆ s_18813020 ┆ [\"v_933773\",   ┆ [3, 2, … 2] ┆ [2023-11-16             ┆ [\"v_2667466\",  │\n",
       "│           ┆            ┆ \"v_933773\", …  ┆             ┆ 15:40:09.408, 2023-1…   ┆ \"v_2456564\", … │\n",
       "│           ┆            ┆ \"v_26…         ┆             ┆                         ┆ \"v_…           │\n",
       "│ u_847738  ┆ s_7662913  ┆ [\"v_875568\",   ┆ [2, 2, … 2] ┆ [2023-11-17             ┆ [\"v_1742275\",  │\n",
       "│           ┆            ┆ \"v_2677852\", … ┆             ┆ 13:34:03.386, 2023-1…   ┆ \"v_1462102\", … │\n",
       "│           ┆            ┆ \"v_1…          ┆             ┆                         ┆ \"v_…           │\n",
       "└───────────┴────────────┴────────────────┴─────────────┴─────────────────────────┴────────────────┘"
      ]
     },
     "execution_count": 74,
     "metadata": {},
     "output_type": "execute_result"
    }
   ],
   "source": [
    "test"
   ]
  },
  {
   "cell_type": "code",
   "execution_count": 75,
   "metadata": {},
   "outputs": [],
   "source": [
    "test.select(['user_id', 'session_id', 'predictions']).write_parquet('without_answered_vacs_submission.pq')"
   ]
  },
  {
   "cell_type": "markdown",
   "metadata": {},
   "source": [
    "## Предсказания только на основе истории, для неизвестных пользователей/без пользователей"
   ]
  },
  {
   "cell_type": "code",
   "execution_count": 4,
   "metadata": {},
   "outputs": [
    {
     "name": "stdout",
     "output_type": "stream",
     "text": [
      "ALS-200-fulldata.npz\t\t  SASRec-Jan-04-2024_07-58-21.pth\n",
      "ALS-200-fulldata.pkl\t\t  SASRec-Jan-06-2024_02-07-14.pth\n",
      "FPMC-Jan-14-2024_15-27-07.pth\t  SASRec-Jan-16-2024_01-44-14.pth\n",
      "ItemKNN-Jan-23-2024_15-30-10.pth  SHAN-Jan-10-2024_12-13-04.pth\n",
      "ItemKNN-Jan-26-2024_15-20-50.pth  SINE-Jan-23-2024_18-05-07.pth\n",
      "SASRecF-Jan-27-2024_15-13-17.pth\n"
     ]
    }
   ],
   "source": [
    "!ls saved"
   ]
  },
  {
   "cell_type": "code",
   "execution_count": 4,
   "metadata": {},
   "outputs": [],
   "source": [
    "import cloudpickle\n",
    "from recbole.data import create_dataset\n",
    "import torch"
   ]
  },
  {
   "cell_type": "code",
   "execution_count": 11,
   "metadata": {},
   "outputs": [],
   "source": [
    "model_file_path = \"saved/SASRec-Jan-16-2024_01-44-14.pth\""
   ]
  },
  {
   "cell_type": "code",
   "execution_count": 14,
   "metadata": {},
   "outputs": [
    {
     "data": {
      "text/plain": [
       "\u001b[1;35mhh_recsys\u001b[0m\n",
       "\u001b[1;34mThe number of users\u001b[0m: 291499\n",
       "\u001b[1;34mAverage actions of users\u001b[0m: 38.2871237538508\n",
       "\u001b[1;34mThe number of items\u001b[0m: 214819\n",
       "\u001b[1;34mAverage actions of items\u001b[0m: 51.953839994786286\n",
       "\u001b[1;34mThe number of inters\u001b[0m: 11160620\n",
       "\u001b[1;34mThe sparsity of the dataset\u001b[0m: 99.98217709215284%\n",
       "\u001b[1;34mRemain Fields\u001b[0m: ['user_id', 'vacancy_id', 'action_type', 'timestamp', 'name', 'company_id', 'keySkills', 'compensation_from', 'compensation_to', 'area_id', 'area_regionId', 'employment', 'workSchedule', 'workExperience']"
      ]
     },
     "execution_count": 14,
     "metadata": {},
     "output_type": "execute_result"
    }
   ],
   "source": [
    "dataset"
   ]
  },
  {
   "cell_type": "code",
   "execution_count": 11,
   "metadata": {},
   "outputs": [
    {
     "data": {
      "text/plain": [
       "torch.Size([271213, 64])"
      ]
     },
     "execution_count": 11,
     "metadata": {},
     "output_type": "execute_result"
    }
   ],
   "source": [
    "checkpoint['state_dict']['item_embedding.weight'].shape"
   ]
  },
  {
   "cell_type": "code",
   "execution_count": 12,
   "metadata": {},
   "outputs": [
    {
     "data": {
      "text/plain": [
       "\u001b[1;35mhh_recsys\u001b[0m\n",
       "\u001b[1;34mThe number of users\u001b[0m: 291499\n",
       "\u001b[1;34mAverage actions of users\u001b[0m: 38.2871237538508\n",
       "\u001b[1;34mThe number of items\u001b[0m: 214819\n",
       "\u001b[1;34mAverage actions of items\u001b[0m: 51.953839994786286\n",
       "\u001b[1;34mThe number of inters\u001b[0m: 11160620\n",
       "\u001b[1;34mThe sparsity of the dataset\u001b[0m: 99.98217709215284%\n",
       "\u001b[1;34mRemain Fields\u001b[0m: ['user_id', 'vacancy_id', 'action_type', 'timestamp', 'name', 'company_id', 'keySkills', 'compensation_from', 'compensation_to', 'area_id', 'area_regionId', 'employment', 'workSchedule', 'workExperience']"
      ]
     },
     "execution_count": 12,
     "metadata": {},
     "output_type": "execute_result"
    }
   ],
   "source": [
    "dataset"
   ]
  },
  {
   "cell_type": "code",
   "execution_count": 3,
   "metadata": {},
   "outputs": [],
   "source": [
    "from typing import List, Tuple\n",
    "\n",
    "import numpy as np\n",
    "import torch\n",
    "from fastapi.applications import FastAPI\n",
    "from pydantic import BaseModel\n",
    "from recbole.data import create_dataset\n",
    "from recbole.data.dataset.sequential_dataset import SequentialDataset\n",
    "from recbole.data.interaction import Interaction\n",
    "from recbole.model.sequential_recommender.sine import SINE\n",
    "from recbole.utils import get_model, init_seed"
   ]
  },
  {
   "cell_type": "code",
   "execution_count": 18,
   "metadata": {},
   "outputs": [],
   "source": [
    "def load_model0(model_file: str, dataset_file: str) -> Tuple[SINE, SequentialDataset]:   # не работает?\n",
    "    with open(dataset_file, \"rb\") as f:\n",
    "        dataset = cloudpickle.load(f)\n",
    "\n",
    "    checkpoint = torch.load(model_file)\n",
    "    config = checkpoint[\"config\"]\n",
    "    init_seed(config[\"seed\"], config[\"reproducibility\"])\n",
    "    model = get_model(config[\"model\"])(config, dataset).to(config[\"device\"])\n",
    "    model.load_state_dict(checkpoint[\"state_dict\"])\n",
    "    model.load_other_parameter(checkpoint.get(\"other_parameter\"))\n",
    "    return model, dataset\n"
   ]
  },
  {
   "cell_type": "code",
   "execution_count": 12,
   "metadata": {},
   "outputs": [],
   "source": [
    "def load_model(model_file: str) -> Tuple[SINE, SequentialDataset]:\n",
    "    checkpoint = torch.load(model_file)\n",
    "    config = checkpoint[\"config\"]\n",
    "    init_seed(config[\"seed\"], config[\"reproducibility\"])\n",
    "    dataset = create_dataset(config) # при размере модели 199М dataset получился 488М и работало такое сохранение 6 минут\n",
    "    model = get_model(config[\"model\"])(config, dataset).to(config[\"device\"])\n",
    "    model.load_state_dict(checkpoint[\"state_dict\"])\n",
    "    model.load_other_parameter(checkpoint.get(\"other_parameter\"))\n",
    "    return model, dataset\n"
   ]
  },
  {
   "cell_type": "code",
   "execution_count": 14,
   "metadata": {},
   "outputs": [
    {
     "ename": "RuntimeError",
     "evalue": "Error(s) in loading state_dict for SASRec:\n\tsize mismatch for item_embedding.weight: copying a param with shape torch.Size([435832, 32]) from checkpoint, the shape in current model is torch.Size([382539, 32]).",
     "output_type": "error",
     "traceback": [
      "\u001b[0;31m---------------------------------------------------------------------------\u001b[0m",
      "\u001b[0;31mRuntimeError\u001b[0m                              Traceback (most recent call last)",
      "Cell \u001b[0;32mIn[14], line 1\u001b[0m\n\u001b[0;32m----> 1\u001b[0m model_sine, dataset_sine \u001b[38;5;241m=\u001b[39m \u001b[43mload_model\u001b[49m\u001b[43m(\u001b[49m\n\u001b[1;32m      2\u001b[0m \u001b[43m    \u001b[49m\u001b[43mmodel_file\u001b[49m\u001b[38;5;241;43m=\u001b[39;49m\u001b[38;5;124;43m\"\u001b[39;49m\u001b[38;5;124;43msaved/SASRec-Jan-06-2024_02-07-14.pth\u001b[39;49m\u001b[38;5;124;43m\"\u001b[39;49m\n\u001b[1;32m      3\u001b[0m \u001b[43m    \u001b[49m\u001b[43m)\u001b[49m\n",
      "Cell \u001b[0;32mIn[12], line 7\u001b[0m, in \u001b[0;36mload_model\u001b[0;34m(model_file)\u001b[0m\n\u001b[1;32m      5\u001b[0m dataset \u001b[38;5;241m=\u001b[39m create_dataset(config) \u001b[38;5;66;03m# при размере модели 199М dataset получился 488М и работало такое сохранение 6 минут\u001b[39;00m\n\u001b[1;32m      6\u001b[0m model \u001b[38;5;241m=\u001b[39m get_model(config[\u001b[38;5;124m\"\u001b[39m\u001b[38;5;124mmodel\u001b[39m\u001b[38;5;124m\"\u001b[39m])(config, dataset)\u001b[38;5;241m.\u001b[39mto(config[\u001b[38;5;124m\"\u001b[39m\u001b[38;5;124mdevice\u001b[39m\u001b[38;5;124m\"\u001b[39m])\n\u001b[0;32m----> 7\u001b[0m \u001b[43mmodel\u001b[49m\u001b[38;5;241;43m.\u001b[39;49m\u001b[43mload_state_dict\u001b[49m\u001b[43m(\u001b[49m\u001b[43mcheckpoint\u001b[49m\u001b[43m[\u001b[49m\u001b[38;5;124;43m\"\u001b[39;49m\u001b[38;5;124;43mstate_dict\u001b[39;49m\u001b[38;5;124;43m\"\u001b[39;49m\u001b[43m]\u001b[49m\u001b[43m)\u001b[49m\n\u001b[1;32m      8\u001b[0m model\u001b[38;5;241m.\u001b[39mload_other_parameter(checkpoint\u001b[38;5;241m.\u001b[39mget(\u001b[38;5;124m\"\u001b[39m\u001b[38;5;124mother_parameter\u001b[39m\u001b[38;5;124m\"\u001b[39m))\n\u001b[1;32m      9\u001b[0m \u001b[38;5;28;01mreturn\u001b[39;00m model, dataset\n",
      "File \u001b[0;32m~/.local/lib/python3.9/site-packages/torch/nn/modules/module.py:2152\u001b[0m, in \u001b[0;36mModule.load_state_dict\u001b[0;34m(self, state_dict, strict, assign)\u001b[0m\n\u001b[1;32m   2147\u001b[0m         error_msgs\u001b[38;5;241m.\u001b[39minsert(\n\u001b[1;32m   2148\u001b[0m             \u001b[38;5;241m0\u001b[39m, \u001b[38;5;124m'\u001b[39m\u001b[38;5;124mMissing key(s) in state_dict: \u001b[39m\u001b[38;5;132;01m{}\u001b[39;00m\u001b[38;5;124m. \u001b[39m\u001b[38;5;124m'\u001b[39m\u001b[38;5;241m.\u001b[39mformat(\n\u001b[1;32m   2149\u001b[0m                 \u001b[38;5;124m'\u001b[39m\u001b[38;5;124m, \u001b[39m\u001b[38;5;124m'\u001b[39m\u001b[38;5;241m.\u001b[39mjoin(\u001b[38;5;124mf\u001b[39m\u001b[38;5;124m'\u001b[39m\u001b[38;5;124m\"\u001b[39m\u001b[38;5;132;01m{\u001b[39;00mk\u001b[38;5;132;01m}\u001b[39;00m\u001b[38;5;124m\"\u001b[39m\u001b[38;5;124m'\u001b[39m \u001b[38;5;28;01mfor\u001b[39;00m k \u001b[38;5;129;01min\u001b[39;00m missing_keys)))\n\u001b[1;32m   2151\u001b[0m \u001b[38;5;28;01mif\u001b[39;00m \u001b[38;5;28mlen\u001b[39m(error_msgs) \u001b[38;5;241m>\u001b[39m \u001b[38;5;241m0\u001b[39m:\n\u001b[0;32m-> 2152\u001b[0m     \u001b[38;5;28;01mraise\u001b[39;00m \u001b[38;5;167;01mRuntimeError\u001b[39;00m(\u001b[38;5;124m'\u001b[39m\u001b[38;5;124mError(s) in loading state_dict for \u001b[39m\u001b[38;5;132;01m{}\u001b[39;00m\u001b[38;5;124m:\u001b[39m\u001b[38;5;130;01m\\n\u001b[39;00m\u001b[38;5;130;01m\\t\u001b[39;00m\u001b[38;5;132;01m{}\u001b[39;00m\u001b[38;5;124m'\u001b[39m\u001b[38;5;241m.\u001b[39mformat(\n\u001b[1;32m   2153\u001b[0m                        \u001b[38;5;28mself\u001b[39m\u001b[38;5;241m.\u001b[39m\u001b[38;5;18m__class__\u001b[39m\u001b[38;5;241m.\u001b[39m\u001b[38;5;18m__name__\u001b[39m, \u001b[38;5;124m\"\u001b[39m\u001b[38;5;130;01m\\n\u001b[39;00m\u001b[38;5;130;01m\\t\u001b[39;00m\u001b[38;5;124m\"\u001b[39m\u001b[38;5;241m.\u001b[39mjoin(error_msgs)))\n\u001b[1;32m   2154\u001b[0m \u001b[38;5;28;01mreturn\u001b[39;00m _IncompatibleKeys(missing_keys, unexpected_keys)\n",
      "\u001b[0;31mRuntimeError\u001b[0m: Error(s) in loading state_dict for SASRec:\n\tsize mismatch for item_embedding.weight: copying a param with shape torch.Size([435832, 32]) from checkpoint, the shape in current model is torch.Size([382539, 32])."
     ]
    }
   ],
   "source": [
    "model_sine, dataset_sine = load_model(\n",
    "    model_file=\"saved/SASRec-Jan-06-2024_02-07-14.pth\"\n",
    "    )"
   ]
  },
  {
   "cell_type": "markdown",
   "metadata": {},
   "source": [
    "The number of items: 214819 если item_inter_num_interval = [15,inf)"
   ]
  },
  {
   "cell_type": "code",
   "execution_count": null,
   "metadata": {},
   "outputs": [],
   "source": [
    "class ItemHistory(BaseModel):\n",
    "    sequence: List[str]\n",
    "    topk: int"
   ]
  },
  {
   "cell_type": "code",
   "execution_count": null,
   "metadata": {},
   "outputs": [],
   "source": [
    "class RecommendedItems(BaseModel):\n",
    "    score_list: List[float]\n",
    "    item_list: List[str]\n"
   ]
  },
  {
   "cell_type": "code",
   "execution_count": null,
   "metadata": {},
   "outputs": [],
   "source": [
    "def sine_user_to_item(item_history: ItemHistory):\n",
    "    item_history_dict = item_history.dict()\n",
    "    item_sequence = item_history_dict[\"sequence\"]\n",
    "    item_length = len(item_sequence)\n",
    "    pad_length = 50  # pre-defined by recbole\n",
    "\n",
    "    padded_item_sequence = torch.nn.functional.pad(\n",
    "        torch.tensor(dataset.token2id(dataset.iid_field, item_sequence)),\n",
    "        (0, pad_length - item_length),\n",
    "        \"constant\",\n",
    "        0,\n",
    "    )\n",
    "\n",
    "    input_interaction = Interaction(\n",
    "        {\n",
    "            \"item_list\": padded_item_sequence.reshape(1, -1),\n",
    "            \"item_length\": torch.tensor([item_length]),\n",
    "        }\n",
    "    )\n",
    "    scores = model.full_sort_predict(input_interaction.to(model.device))\n",
    "    scores = scores.view(-1, dataset.item_num)\n",
    "    scores[:, 0] = -np.inf  # pad item score -> -inf\n",
    "    topk_score, topk_iid_list = torch.topk(scores, item_history_dict[\"topk\"])\n",
    "\n",
    "    predicted_score_list = topk_score.tolist()[0]\n",
    "    predicted_item_list = dataset.id2token(\n",
    "        dataset.iid_field, topk_iid_list.tolist()\n",
    "    ).tolist()\n",
    "\n",
    "    recommended_items = {\n",
    "        \"score_list\": predicted_score_list,\n",
    "        \"item_list\": predicted_item_list,\n",
    "    }\n",
    "    return recommended_items"
   ]
  },
  {
   "cell_type": "markdown",
   "metadata": {},
   "source": [
    "## Попробуем объединить предсказания разных моделей"
   ]
  },
  {
   "cell_type": "code",
   "execution_count": 4,
   "metadata": {},
   "outputs": [],
   "source": [
    "with open('predictions-sine.pkl', 'rb') as f:\n",
    "    predictions_sine = pickle.load(f)\n"
   ]
  },
  {
   "cell_type": "code",
   "execution_count": 5,
   "metadata": {},
   "outputs": [],
   "source": [
    "with open('predictions-shan.pkl', 'rb') as f:\n",
    "    predictions_shan = pickle.load(f)\n"
   ]
  },
  {
   "cell_type": "code",
   "execution_count": 6,
   "metadata": {},
   "outputs": [],
   "source": [
    "with open('predictions-sasrecf.pkl', 'rb') as f:\n",
    "    predictions_sasrecf = pickle.load(f)\n"
   ]
  },
  {
   "cell_type": "code",
   "execution_count": 7,
   "metadata": {},
   "outputs": [],
   "source": [
    "with open('predictions-fdsa.pkl', 'rb') as f:\n",
    "    predictions_fdsa = pickle.load(f)\n"
   ]
  },
  {
   "cell_type": "code",
   "execution_count": null,
   "metadata": {},
   "outputs": [],
   "source": [
    "predictions_sine[1]"
   ]
  },
  {
   "cell_type": "code",
   "execution_count": 137,
   "metadata": {},
   "outputs": [],
   "source": [
    "full_prediction = zip(predictions_sasrecf, predictions_shan, predictions_sine, predictions_fdsa)\n",
    "#full_prediction = zip(predictions_sasrecf, predictions_shan, predictions_sine, predictions_fdsa)"
   ]
  },
  {
   "cell_type": "code",
   "execution_count": null,
   "metadata": {},
   "outputs": [],
   "source": [
    "# Здесь выбираем предсказания с наилучшими скорами. Но работает плохо.\n",
    "final_predictions = []\n",
    "\n",
    "for itm in tqdm(full_prediction, total=len(predictions_sasrecf)):\n",
    "    scores_i = []\n",
    "    vacancies_i = []\n",
    "    for i,pred in enumerate(itm):\n",
    "        scores_i += itm[i][0]\n",
    "        vacancies_i += itm[i][1]\n",
    "#    vacs_sorted = [x[1] for x in sorted(zip(scores_i,vacancies_i), key=lambda tup: tup[0], reverse=True) ]\n",
    "    vacs_sorted = []\n",
    "    [vacs_sorted.append(x[1]) for x in sorted(zip(scores_i,vacancies_i), key=lambda tup: tup[0], reverse=True) if x[1] not in vacs_sorted ]\n",
    "    vacs_sorted=vacs_sorted[:N_PREDICTIONS]\n",
    "\n",
    "    final_predictions.append(vacs_sorted)\n",
    "\n",
    "\n"
   ]
  },
  {
   "cell_type": "code",
   "execution_count": 10,
   "metadata": {},
   "outputs": [
    {
     "name": "stderr",
     "output_type": "stream",
     "text": [
      "100%|██████████| 83189/83189 [00:10<00:00, 7746.33it/s]\n"
     ]
    }
   ],
   "source": [
    "# Здесь выбираем сумму предсказаний по разным моделям.\n",
    "final_predictions = []\n",
    "lengths = [] # замерим длины суммарных списков, т.е. насколько разнятся предсказания\n",
    "\n",
    "for itm in tqdm(full_prediction, total=len(predictions_sasrecf)):  # в itm у нас предсказания от n разных моделей для конкретного юзера\n",
    "    scores_i = {}\n",
    "    vacancies_i = []\n",
    "    for _,pred in enumerate(itm):  # pred будет tuple из 2 элементов-списков: скоры и вакансии\n",
    "        for sc,vac in zip(pred[0], pred[1]):\n",
    "            scores_i[vac] = scores_i.get(vac, 0.0) + sc\n",
    "#        print(scores_i)\n",
    "        \n",
    "    vacs_sorted = [x[0] for x in sorted(scores_i.items(), key=lambda tup: tup[1], reverse=True) ]\n",
    "    \n",
    "    lengths.append(len(vacs_sorted))\n",
    "    \n",
    "    vacs_sorted=vacs_sorted[:N_PREDICTIONS]\n",
    "    \n",
    "    final_predictions.append(vacs_sorted)\n",
    "    \n",
    "\n",
    "\n",
    "\n"
   ]
  },
  {
   "cell_type": "code",
   "execution_count": 36,
   "metadata": {},
   "outputs": [
    {
     "name": "stderr",
     "output_type": "stream",
     "text": [
      "  1%|          | 793/83189 [00:00<00:10, 7929.16it/s]"
     ]
    },
    {
     "name": "stderr",
     "output_type": "stream",
     "text": [
      "100%|██████████| 83189/83189 [00:11<00:00, 7034.89it/s]\n"
     ]
    }
   ],
   "source": [
    "# Здесь выбираем сумму предсказаний по разным моделям.\n",
    "final_predictions = []\n",
    "lengths = [] # замерим длины суммарных списков, т.е. насколько разнятся предсказания\n",
    "\n",
    "for itm in tqdm(full_prediction, total=len(predictions_sasrecf)):  # в itm у нас предсказания от n разных моделей для конкретного юзера\n",
    "    scores_i = {}\n",
    "    vacancies_i = []\n",
    "    for _,pred in enumerate(itm):  # pred будет tuple из 2 элементов-списков: скоры и вакансии\n",
    "        min_score = pred[0][-1]\n",
    "        for sc,vac in zip(pred[0], pred[1]):\n",
    "            scores_i[vac] = scores_i.get(vac, min_score) + sc\n",
    "        \n",
    "    vacs_sorted = [x[0] for x in sorted(scores_i.items(), key=lambda tup: tup[1], reverse=True) ]\n",
    "    \n",
    "    lengths.append(len(vacs_sorted))\n",
    "    \n",
    "    vacs_sorted=vacs_sorted[:N_PREDICTIONS]\n",
    "    \n",
    "    final_predictions.append(vacs_sorted)\n"
   ]
  },
  {
   "cell_type": "code",
   "execution_count": 130,
   "metadata": {},
   "outputs": [],
   "source": [
    "full_prediction = zip(predictions_sasrecf, predictions_shan)"
   ]
  },
  {
   "cell_type": "code",
   "execution_count": 138,
   "metadata": {},
   "outputs": [
    {
     "name": "stderr",
     "output_type": "stream",
     "text": [
      "100%|██████████| 83189/83189 [02:48<00:00, 493.85it/s]\n"
     ]
    }
   ],
   "source": [
    "# Здесь выбираем сумму предсказаний по разным моделям и проверяем, смотрел ли он такую вакансию.\n",
    "final_predictions = []\n",
    "lengths = [] # замерим длины суммарных списков, т.е. насколько разнятся предсказания\n",
    "\n",
    "for i, itm in tqdm(enumerate(full_prediction), total=len(predictions_sasrecf)):  # в itm у нас предсказания от n разных моделей для конкретного юзера\n",
    "    scores_i = {}\n",
    "    vacancies_i = []\n",
    "    activity = test[i]\n",
    "    activity_vacs = activity['vacancy_id'][0].to_numpy()\n",
    "    activity_interactions = activity['action_type'][0].to_numpy()\n",
    "    for _,pred in enumerate(itm):  # pred будет tuple из 2 элементов-списков: скоры и вакансии\n",
    "        min_score = pred[0][-1]\n",
    "        for sc,vac in zip(pred[0], pred[1]):   # sc - скор каждой вакансии-кандидата, vac - сама эта вакансия\n",
    "            if vac not in activity_vacs : # юзер с такой вакансией вообще не взаимодействовал\n",
    "                sc = sc / 4.0  # было 3\n",
    "            else:  # надо посмотреть, как взаимодействовал, если \"1\" то вычеркнуть или снизить скор\n",
    "                indxs = np.where(activity_vacs == vac)[0]\n",
    "                if 1 in activity_interactions[indxs]:\n",
    "                    sc = sc / 10.0\n",
    "                elif 3 in activity_interactions[indxs]:  # 3 - положил в избранные\n",
    "                    sc = sc * 2.0\n",
    "\n",
    "            scores_i[vac] = scores_i.get(vac, min_score) + sc\n",
    "        \n",
    "    vacs_sorted = [x[0] for x in sorted(scores_i.items(), key=lambda tup: tup[1], reverse=True) ]\n",
    "    \n",
    "    lengths.append(len(vacs_sorted))\n",
    "    \n",
    "    vacs_sorted=vacs_sorted[:N_PREDICTIONS]\n",
    "    \n",
    "    final_predictions.append(vacs_sorted)\n"
   ]
  },
  {
   "cell_type": "code",
   "execution_count": 139,
   "metadata": {},
   "outputs": [
    {
     "data": {
      "text/plain": [
       "4"
      ]
     },
     "execution_count": 139,
     "metadata": {},
     "output_type": "execute_result"
    }
   ],
   "source": [
    "len(itm)"
   ]
  },
  {
   "cell_type": "code",
   "execution_count": 140,
   "metadata": {},
   "outputs": [],
   "source": [
    "test = pl.read_parquet(\"./hh_recsys_test_hh.pq\")"
   ]
  },
  {
   "cell_type": "code",
   "execution_count": 141,
   "metadata": {},
   "outputs": [],
   "source": [
    "test = test.with_columns(pl.lit(pl.Series(final_predictions)).alias('predictions'))\n",
    "test.select(['user_id', 'session_id', 'predictions']).write_parquet('summary2_submission.pq')"
   ]
  },
  {
   "cell_type": "code",
   "execution_count": 142,
   "metadata": {},
   "outputs": [
    {
     "data": {
      "text/html": [
       "<div><style>\n",
       ".dataframe > thead > tr,\n",
       ".dataframe > tbody > tr {\n",
       "  text-align: right;\n",
       "  white-space: pre-wrap;\n",
       "}\n",
       "</style>\n",
       "<small>shape: (83_189, 6)</small><table border=\"1\" class=\"dataframe\"><thead><tr><th>user_id</th><th>session_id</th><th>vacancy_id</th><th>action_type</th><th>action_dt</th><th>predictions</th></tr><tr><td>str</td><td>str</td><td>list[str]</td><td>list[i64]</td><td>list[datetime[ns]]</td><td>list[str]</td></tr></thead><tbody><tr><td>&quot;u_482520&quot;</td><td>&quot;s_25018731&quot;</td><td>[&quot;v_2597196&quot;, &quot;v_1223061&quot;, &quot;v_1223061&quot;]</td><td>[2, 2, 1]</td><td>[2023-11-19 12:03:13.089, 2023-11-19 12:03:30.396, 2023-11-19 12:05:03.473]</td><td>[&quot;v_2597196&quot;, &quot;v_802227&quot;, … &quot;v_1372471&quot;]</td></tr><tr><td>&quot;u_582132&quot;</td><td>&quot;s_481216&quot;</td><td>[&quot;v_470400&quot;, &quot;v_470400&quot;, &quot;v_1530783&quot;]</td><td>[2, 1, 2]</td><td>[2023-11-21 15:39:47.981, 2023-11-21 15:43:57.620, 2023-11-21 15:44:37.982]</td><td>[&quot;v_1530783&quot;, &quot;v_1347362&quot;, … &quot;v_751423&quot;]</td></tr><tr><td>&quot;u_212584&quot;</td><td>&quot;s_16918781&quot;</td><td>[&quot;v_1572055&quot;, &quot;v_1572055&quot;, … &quot;v_1329494&quot;]</td><td>[2, 3, … 1]</td><td>[2023-11-16 08:41:47.031, 2023-11-16 08:45:21.403, … 2023-11-16 09:05:27.379]</td><td>[&quot;v_1572055&quot;, &quot;v_1846862&quot;, … &quot;v_575528&quot;]</td></tr><tr><td>&quot;u_425177&quot;</td><td>&quot;s_17505104&quot;</td><td>[&quot;v_1375331&quot;, &quot;v_1922852&quot;]</td><td>[2, 2]</td><td>[2023-11-17 12:42:18.513, 2023-11-17 12:43:52.744]</td><td>[&quot;v_1922852&quot;, &quot;v_459362&quot;, … &quot;v_2087770&quot;]</td></tr><tr><td>&quot;u_700997&quot;</td><td>&quot;s_15528830&quot;</td><td>[&quot;v_2152997&quot;, &quot;v_2152997&quot;, &quot;v_1217630&quot;]</td><td>[2, 1, 2]</td><td>[2023-11-16 17:22:53.530, 2023-11-16 17:23:19.885, 2023-11-16 17:23:33.472]</td><td>[&quot;v_1217630&quot;, &quot;v_466981&quot;, … &quot;v_192191&quot;]</td></tr><tr><td>&quot;u_687201&quot;</td><td>&quot;s_11187326&quot;</td><td>[&quot;v_2602959&quot;, &quot;v_549337&quot;, … &quot;v_212060&quot;]</td><td>[2, 2, … 1]</td><td>[2023-11-21 14:41:30.546, 2023-11-21 15:00:25.506, … 2023-11-21 15:24:56.271]</td><td>[&quot;v_2322652&quot;, &quot;v_1648353&quot;, … &quot;v_2450990&quot;]</td></tr><tr><td>&quot;u_573219&quot;</td><td>&quot;s_27394215&quot;</td><td>[&quot;v_1836184&quot;, &quot;v_2733253&quot;, … &quot;v_2297339&quot;]</td><td>[1, 2, … 2]</td><td>[2023-11-21 18:48:43.424, 2023-11-21 18:49:12.552, … 2023-11-21 19:48:55.704]</td><td>[&quot;v_1828011&quot;, &quot;v_1281516&quot;, … &quot;v_1574143&quot;]</td></tr><tr><td>&quot;u_1082782&quot;</td><td>&quot;s_30341164&quot;</td><td>[&quot;v_1026036&quot;, &quot;v_1026036&quot;, … &quot;v_206700&quot;]</td><td>[2, 1, … 2]</td><td>[2023-11-17 02:54:19.561, 2023-11-17 02:54:50.486, … 2023-11-17 03:21:22.008]</td><td>[&quot;v_206700&quot;, &quot;v_2279678&quot;, … &quot;v_2241366&quot;]</td></tr><tr><td>&quot;u_81444&quot;</td><td>&quot;s_1909964&quot;</td><td>[&quot;v_2497384&quot;, &quot;v_1480870&quot;, … &quot;v_1500697&quot;]</td><td>[2, 2, … 1]</td><td>[2023-11-15 12:38:34.579, 2023-11-15 13:03:41.360, … 2023-11-15 13:05:15.916]</td><td>[&quot;v_1478745&quot;, &quot;v_1312299&quot;, … &quot;v_1565146&quot;]</td></tr><tr><td>&quot;u_858357&quot;</td><td>&quot;s_12463318&quot;</td><td>[&quot;v_1085881&quot;, &quot;v_522338&quot;, … &quot;v_1776027&quot;]</td><td>[2, 2, … 2]</td><td>[2023-11-18 11:58:33.953, 2023-11-18 12:01:09.562, … 2023-11-18 14:39:24.255]</td><td>[&quot;v_1776027&quot;, &quot;v_1085881&quot;, … &quot;v_2224804&quot;]</td></tr><tr><td>&quot;u_136080&quot;</td><td>&quot;s_25066108&quot;</td><td>[&quot;v_1167642&quot;, &quot;v_613829&quot;, … &quot;v_2061106&quot;]</td><td>[2, 2, … 2]</td><td>[2023-11-21 05:09:14.167, 2023-11-21 05:10:02.996, … 2023-11-21 05:17:03.842]</td><td>[&quot;v_869411&quot;, &quot;v_1546743&quot;, … &quot;v_1675062&quot;]</td></tr><tr><td>&quot;u_361893&quot;</td><td>&quot;s_12897073&quot;</td><td>[&quot;v_2188274&quot;, &quot;v_941470&quot;, … &quot;v_450701&quot;]</td><td>[2, 2, … 2]</td><td>[2023-11-21 16:03:36.003, 2023-11-21 16:04:07.515, … 2023-11-21 16:24:26.163]</td><td>[&quot;v_450701&quot;, &quot;v_2188274&quot;, … &quot;v_420430&quot;]</td></tr><tr><td>&hellip;</td><td>&hellip;</td><td>&hellip;</td><td>&hellip;</td><td>&hellip;</td><td>&hellip;</td></tr><tr><td>&quot;u_27420&quot;</td><td>&quot;s_15647766&quot;</td><td>[&quot;v_779522&quot;, &quot;v_32918&quot;, … &quot;v_2382404&quot;]</td><td>[2, 2, … 2]</td><td>[2023-11-15 09:46:24.682, 2023-11-15 09:46:52.048, … 2023-11-15 09:55:07.684]</td><td>[&quot;v_2382404&quot;, &quot;v_1757848&quot;, … &quot;v_2251138&quot;]</td></tr><tr><td>&quot;u_101925&quot;</td><td>&quot;s_9312767&quot;</td><td>[&quot;v_899404&quot;, &quot;v_2009859&quot;]</td><td>[2, 2]</td><td>[2023-11-17 10:54:18.637, 2023-11-17 12:19:55.239]</td><td>[&quot;v_696368&quot;, &quot;v_1531735&quot;, … &quot;v_2033566&quot;]</td></tr><tr><td>&quot;u_105702&quot;</td><td>&quot;s_27857907&quot;</td><td>[&quot;v_473549&quot;, &quot;v_1137408&quot;]</td><td>[2, 2]</td><td>[2023-11-18 09:25:22.487, 2023-11-18 09:27:10.980]</td><td>[&quot;v_1137408&quot;, &quot;v_473549&quot;, … &quot;v_612858&quot;]</td></tr><tr><td>&quot;u_485573&quot;</td><td>&quot;s_19643559&quot;</td><td>[&quot;v_1032129&quot;, &quot;v_1340903&quot;, &quot;v_1032129&quot;]</td><td>[2, 2, 2]</td><td>[2023-11-21 14:44:58.274, 2023-11-21 15:11:34.645, 2023-11-21 15:11:56.029]</td><td>[&quot;v_1340903&quot;, &quot;v_1618608&quot;, … &quot;v_2553880&quot;]</td></tr><tr><td>&quot;u_737688&quot;</td><td>&quot;s_5225203&quot;</td><td>[&quot;v_616873&quot;, &quot;v_2610004&quot;]</td><td>[2, 2]</td><td>[2023-11-20 12:37:56.056, 2023-11-20 12:41:23.243]</td><td>[&quot;v_2668450&quot;, &quot;v_1334843&quot;, … &quot;v_1363875&quot;]</td></tr><tr><td>&quot;u_366097&quot;</td><td>&quot;s_20110640&quot;</td><td>[&quot;v_307100&quot;, &quot;v_2040988&quot;, … &quot;v_2586611&quot;]</td><td>[2, 2, … 1]</td><td>[2023-11-17 15:31:42.944, 2023-11-17 15:32:01.187, … 2023-11-17 15:36:51.248]</td><td>[&quot;v_643219&quot;, &quot;v_83621&quot;, … &quot;v_2537866&quot;]</td></tr><tr><td>&quot;u_995221&quot;</td><td>&quot;s_21000652&quot;</td><td>[&quot;v_528661&quot;, &quot;v_528661&quot;, … &quot;v_199518&quot;]</td><td>[2, 1, … 2]</td><td>[2023-11-15 14:00:32.515, 2023-11-15 14:01:08.165, … 2023-11-15 14:04:31.812]</td><td>[&quot;v_603147&quot;, &quot;v_99630&quot;, … &quot;v_780419&quot;]</td></tr><tr><td>&quot;u_499368&quot;</td><td>&quot;s_19158589&quot;</td><td>[&quot;v_1716634&quot;, &quot;v_2232327&quot;, … &quot;v_1993650&quot;]</td><td>[2, 2, … 2]</td><td>[2023-11-18 03:15:15.530, 2023-11-18 03:19:20.971, … 2023-11-18 03:35:12.020]</td><td>[&quot;v_1361816&quot;, &quot;v_373832&quot;, … &quot;v_1273733&quot;]</td></tr><tr><td>&quot;u_1084868&quot;</td><td>&quot;s_24756162&quot;</td><td>[&quot;v_395706&quot;, &quot;v_2405231&quot;]</td><td>[2, 2]</td><td>[2023-11-15 18:06:16.550, 2023-11-15 18:07:18.447]</td><td>[&quot;v_2405231&quot;, &quot;v_1117529&quot;, … &quot;v_324497&quot;]</td></tr><tr><td>&quot;u_1138032&quot;</td><td>&quot;s_25291467&quot;</td><td>[&quot;v_1213925&quot;, &quot;v_1213925&quot;, … &quot;v_2359832&quot;]</td><td>[2, 1, … 1]</td><td>[2023-11-19 23:19:44.092, 2023-11-19 23:27:22.739, … 2023-11-19 23:27:51.152]</td><td>[&quot;v_1370359&quot;, &quot;v_1539640&quot;, … &quot;v_805914&quot;]</td></tr><tr><td>&quot;u_608102&quot;</td><td>&quot;s_18813020&quot;</td><td>[&quot;v_933773&quot;, &quot;v_933773&quot;, … &quot;v_2667466&quot;]</td><td>[3, 2, … 2]</td><td>[2023-11-16 15:40:09.408, 2023-11-16 15:40:09.448, … 2023-11-16 16:18:05.927]</td><td>[&quot;v_2667466&quot;, &quot;v_277323&quot;, … &quot;v_1274405&quot;]</td></tr><tr><td>&quot;u_847738&quot;</td><td>&quot;s_7662913&quot;</td><td>[&quot;v_875568&quot;, &quot;v_2677852&quot;, … &quot;v_1462102&quot;]</td><td>[2, 2, … 2]</td><td>[2023-11-17 13:34:03.386, 2023-11-17 13:34:57.675, … 2023-11-17 14:27:46.817]</td><td>[&quot;v_1462102&quot;, &quot;v_2548403&quot;, … &quot;v_686844&quot;]</td></tr></tbody></table></div>"
      ],
      "text/plain": [
       "shape: (83_189, 6)\n",
       "┌───────────┬────────────┬────────────────┬─────────────┬─────────────────────────┬────────────────┐\n",
       "│ user_id   ┆ session_id ┆ vacancy_id     ┆ action_type ┆ action_dt               ┆ predictions    │\n",
       "│ ---       ┆ ---        ┆ ---            ┆ ---         ┆ ---                     ┆ ---            │\n",
       "│ str       ┆ str        ┆ list[str]      ┆ list[i64]   ┆ list[datetime[ns]]      ┆ list[str]      │\n",
       "╞═══════════╪════════════╪════════════════╪═════════════╪═════════════════════════╪════════════════╡\n",
       "│ u_482520  ┆ s_25018731 ┆ [\"v_2597196\",  ┆ [2, 2, 1]   ┆ [2023-11-19             ┆ [\"v_2597196\",  │\n",
       "│           ┆            ┆ \"v_1223061\",   ┆             ┆ 12:03:13.089, 2023-1…   ┆ \"v_802227\", …  │\n",
       "│           ┆            ┆ \"v_12…         ┆             ┆                         ┆ \"v_1…          │\n",
       "│ u_582132  ┆ s_481216   ┆ [\"v_470400\",   ┆ [2, 1, 2]   ┆ [2023-11-21             ┆ [\"v_1530783\",  │\n",
       "│           ┆            ┆ \"v_470400\",    ┆             ┆ 15:39:47.981, 2023-1…   ┆ \"v_1347362\", … │\n",
       "│           ┆            ┆ \"v_1530…       ┆             ┆                         ┆ \"v_…           │\n",
       "│ u_212584  ┆ s_16918781 ┆ [\"v_1572055\",  ┆ [2, 3, … 1] ┆ [2023-11-16             ┆ [\"v_1572055\",  │\n",
       "│           ┆            ┆ \"v_1572055\", … ┆             ┆ 08:41:47.031, 2023-1…   ┆ \"v_1846862\", … │\n",
       "│           ┆            ┆ \"v_…           ┆             ┆                         ┆ \"v_…           │\n",
       "│ u_425177  ┆ s_17505104 ┆ [\"v_1375331\",  ┆ [2, 2]      ┆ [2023-11-17             ┆ [\"v_1922852\",  │\n",
       "│           ┆            ┆ \"v_1922852\"]   ┆             ┆ 12:42:18.513, 2023-1…   ┆ \"v_459362\", …  │\n",
       "│           ┆            ┆                ┆             ┆                         ┆ \"v_2…          │\n",
       "│ u_700997  ┆ s_15528830 ┆ [\"v_2152997\",  ┆ [2, 1, 2]   ┆ [2023-11-16             ┆ [\"v_1217630\",  │\n",
       "│           ┆            ┆ \"v_2152997\",   ┆             ┆ 17:22:53.530, 2023-1…   ┆ \"v_466981\", …  │\n",
       "│           ┆            ┆ \"v_12…         ┆             ┆                         ┆ \"v_1…          │\n",
       "│ …         ┆ …          ┆ …              ┆ …           ┆ …                       ┆ …              │\n",
       "│ u_499368  ┆ s_19158589 ┆ [\"v_1716634\",  ┆ [2, 2, … 2] ┆ [2023-11-18             ┆ [\"v_1361816\",  │\n",
       "│           ┆            ┆ \"v_2232327\", … ┆             ┆ 03:15:15.530, 2023-1…   ┆ \"v_373832\", …  │\n",
       "│           ┆            ┆ \"v_…           ┆             ┆                         ┆ \"v_1…          │\n",
       "│ u_1084868 ┆ s_24756162 ┆ [\"v_395706\",   ┆ [2, 2]      ┆ [2023-11-15             ┆ [\"v_2405231\",  │\n",
       "│           ┆            ┆ \"v_2405231\"]   ┆             ┆ 18:06:16.550, 2023-1…   ┆ \"v_1117529\", … │\n",
       "│           ┆            ┆                ┆             ┆                         ┆ \"v_…           │\n",
       "│ u_1138032 ┆ s_25291467 ┆ [\"v_1213925\",  ┆ [2, 1, … 1] ┆ [2023-11-19             ┆ [\"v_1370359\",  │\n",
       "│           ┆            ┆ \"v_1213925\", … ┆             ┆ 23:19:44.092, 2023-1…   ┆ \"v_1539640\", … │\n",
       "│           ┆            ┆ \"v_…           ┆             ┆                         ┆ \"v_…           │\n",
       "│ u_608102  ┆ s_18813020 ┆ [\"v_933773\",   ┆ [3, 2, … 2] ┆ [2023-11-16             ┆ [\"v_2667466\",  │\n",
       "│           ┆            ┆ \"v_933773\", …  ┆             ┆ 15:40:09.408, 2023-1…   ┆ \"v_277323\", …  │\n",
       "│           ┆            ┆ \"v_26…         ┆             ┆                         ┆ \"v_1…          │\n",
       "│ u_847738  ┆ s_7662913  ┆ [\"v_875568\",   ┆ [2, 2, … 2] ┆ [2023-11-17             ┆ [\"v_1462102\",  │\n",
       "│           ┆            ┆ \"v_2677852\", … ┆             ┆ 13:34:03.386, 2023-1…   ┆ \"v_2548403\", … │\n",
       "│           ┆            ┆ \"v_1…          ┆             ┆                         ┆ \"v_…           │\n",
       "└───────────┴────────────┴────────────────┴─────────────┴─────────────────────────┴────────────────┘"
      ]
     },
     "execution_count": 142,
     "metadata": {},
     "output_type": "execute_result"
    }
   ],
   "source": [
    "test"
   ]
  },
  {
   "cell_type": "code",
   "execution_count": 11,
   "metadata": {},
   "outputs": [
    {
     "data": {
      "text/plain": [
       "128"
      ]
     },
     "execution_count": 11,
     "metadata": {},
     "output_type": "execute_result"
    }
   ],
   "source": [
    "min(lengths)"
   ]
  },
  {
   "cell_type": "code",
   "execution_count": 12,
   "metadata": {},
   "outputs": [
    {
     "data": {
      "text/plain": [
       "400"
      ]
     },
     "execution_count": 12,
     "metadata": {},
     "output_type": "execute_result"
    }
   ],
   "source": [
    "max(lengths)"
   ]
  },
  {
   "cell_type": "code",
   "execution_count": 13,
   "metadata": {},
   "outputs": [
    {
     "data": {
      "text/plain": [
       "254.25648823762756"
      ]
     },
     "execution_count": 13,
     "metadata": {},
     "output_type": "execute_result"
    }
   ],
   "source": [
    "import statistics\n",
    "statistics.mean(lengths) "
   ]
  },
  {
   "cell_type": "code",
   "execution_count": 14,
   "metadata": {},
   "outputs": [
    {
     "data": {
      "text/plain": [
       "249"
      ]
     },
     "execution_count": 14,
     "metadata": {},
     "output_type": "execute_result"
    }
   ],
   "source": [
    "statistics.median(lengths)"
   ]
  }
 ],
 "metadata": {
  "kernelspec": {
   "display_name": ".venv",
   "language": "python",
   "name": "python3"
  },
  "language_info": {
   "codemirror_mode": {
    "name": "ipython",
    "version": 3
   },
   "file_extension": ".py",
   "mimetype": "text/x-python",
   "name": "python",
   "nbconvert_exporter": "python",
   "pygments_lexer": "ipython3",
   "version": "3.10.12"
  }
 },
 "nbformat": 4,
 "nbformat_minor": 2
}
